{
 "cells": [
  {
   "cell_type": "code",
   "execution_count": 1,
   "id": "73855f46",
   "metadata": {},
   "outputs": [],
   "source": [
    "import sys\n",
    "import os"
   ]
  },
  {
   "cell_type": "code",
   "execution_count": 2,
   "id": "0c9d24a3",
   "metadata": {},
   "outputs": [
    {
     "data": {
      "text/plain": [
       "'C:\\\\Program Files\\\\Java\\\\jdk1.8.0_311'"
      ]
     },
     "execution_count": 2,
     "metadata": {},
     "output_type": "execute_result"
    }
   ],
   "source": [
    "os.environ.get('JAVA_HOME')"
   ]
  },
  {
   "cell_type": "code",
   "execution_count": 3,
   "id": "96eacb8a",
   "metadata": {},
   "outputs": [],
   "source": [
    "import findspark\n",
    "findspark.init()"
   ]
  },
  {
   "cell_type": "code",
   "execution_count": 4,
   "id": "1cbdeb9a",
   "metadata": {},
   "outputs": [],
   "source": [
    "from pyspark.sql import SparkSession\n",
    "from pyspark.sql.functions import *\n",
    "from pyspark.sql.types import *"
   ]
  },
  {
   "cell_type": "code",
   "execution_count": 5,
   "id": "f25b345e",
   "metadata": {},
   "outputs": [],
   "source": [
    "spark = SparkSession.builder.master(\"local[4]\").appName(\"SparkSQL\").getOrCreate()"
   ]
  },
  {
   "cell_type": "code",
   "execution_count": 6,
   "id": "eb31abf1",
   "metadata": {},
   "outputs": [
    {
     "data": {
      "text/plain": [
       "[('Julian', 'accounts', 30000),\n",
       " ('Mason', 'accounts', 46000),\n",
       " ('Rashid', 'sales', 41000),\n",
       " ('Jenny', 'marketing', 30000),\n",
       " ('Milan', 'finance', 30000),\n",
       " ('Julian', 'accounts', 30000),\n",
       " ('Salim', 'sales', 41000),\n",
       " ('Scott', 'finance', 33000),\n",
       " ('Jen', 'finance', 39000),\n",
       " ('Jenny', 'marketing', 30000),\n",
       " ('Kumaran', 'marketing', 20000),\n",
       " ('Salim', 'sales', 41000)]"
      ]
     },
     "execution_count": 6,
     "metadata": {},
     "output_type": "execute_result"
    }
   ],
   "source": [
    "data = (\n",
    "    (\"Julian\", \"accounts\", 30000), \n",
    "    (\"Mason\", \"accounts\", 46000),\n",
    "    (\"Rashid\", \"sales\", 41000), \n",
    "    (\"Jenny\", \"marketing\", 30000),\n",
    "    (\"Milan\", \"finance\", 30000), \n",
    "    (\"Julian\", \"accounts\", 30000),\n",
    "    (\"Salim\", \"sales\", 41000), \n",
    "    (\"Scott\", \"finance\", 33000),\n",
    "    (\"Jen\", \"finance\", 39000), \n",
    "    (\"Jenny\", \"marketing\", 30000),\n",
    "    (\"Kumaran\", \"marketing\", 20000), \n",
    "    (\"Salim\", \"sales\", 41000)\n",
    ")\n",
    "rdd = spark.sparkContext.parallelize(data)"
   ]
  },
  {
   "cell_type": "code",
   "execution_count": 7,
   "id": "56a8b887",
   "metadata": {},
   "outputs": [
    {
     "name": "stdout",
     "output_type": "stream",
     "text": [
      "+--------+----------+------+\n",
      "|emp_name|department|salary|\n",
      "+--------+----------+------+\n",
      "|  Julian|  accounts| 30000|\n",
      "|   Mason|  accounts| 46000|\n",
      "|  Rashid|     sales| 41000|\n",
      "|   Jenny| marketing| 30000|\n",
      "|   Milan|   finance| 30000|\n",
      "|  Julian|  accounts| 30000|\n",
      "|   Salim|     sales| 41000|\n",
      "|   Scott|   finance| 33000|\n",
      "|     Jen|   finance| 39000|\n",
      "|   Jenny| marketing| 30000|\n",
      "| Kumaran| marketing| 20000|\n",
      "|   Salim|     sales| 41000|\n",
      "+--------+----------+------+\n",
      "\n"
     ]
    }
   ],
   "source": [
    "df = spark.createDataFrame(rdd, [\"emp_name\", \"department\", \"salary\"])\n",
    "df.show()"
   ]
  },
  {
   "cell_type": "code",
   "execution_count": 8,
   "id": "ebee0a47",
   "metadata": {},
   "outputs": [
    {
     "data": {
      "text/plain": [
       "12"
      ]
     },
     "execution_count": 8,
     "metadata": {},
     "output_type": "execute_result"
    }
   ],
   "source": [
    "df.count()"
   ]
  },
  {
   "cell_type": "code",
   "execution_count": 9,
   "id": "5d1d40a9",
   "metadata": {},
   "outputs": [
    {
     "data": {
      "text/plain": [
       "9"
      ]
     },
     "execution_count": 9,
     "metadata": {},
     "output_type": "execute_result"
    }
   ],
   "source": [
    "df.distinct().count()"
   ]
  },
  {
   "cell_type": "code",
   "execution_count": 11,
   "id": "5d2c34c8",
   "metadata": {},
   "outputs": [
    {
     "name": "stdout",
     "output_type": "stream",
     "text": [
      "+--------+----------+------+\n",
      "|emp_name|department|salary|\n",
      "+--------+----------+------+\n",
      "|  Julian|  accounts| 30000|\n",
      "|   Mason|  accounts| 46000|\n",
      "|   Milan|   finance| 30000|\n",
      "|   Scott|   finance| 33000|\n",
      "|     Jen|   finance| 39000|\n",
      "| Kumaran| marketing| 20000|\n",
      "|   Jenny| marketing| 30000|\n",
      "|  Rashid|     sales| 41000|\n",
      "+--------+----------+------+\n",
      "\n"
     ]
    }
   ],
   "source": [
    "df.dropDuplicates([\"department\", \"salary\"]).show()"
   ]
  },
  {
   "cell_type": "markdown",
   "id": "80d40139",
   "metadata": {},
   "source": [
    "## REPLACE NULL's"
   ]
  },
  {
   "cell_type": "code",
   "execution_count": 15,
   "id": "48bdd96a",
   "metadata": {},
   "outputs": [
    {
     "name": "stdout",
     "output_type": "stream",
     "text": [
      "+----+------+----------+--------+-----------+----------+\n",
      "|  id|  name|department|  salary|      phone| join_date|\n",
      "+----+------+----------+--------+-----------+----------+\n",
      "|   1|Julian|  accounts| 30000.0|98012028375|2023-02-04|\n",
      "|   2|Rashid|      null|46000.25| 2837482748|      null|\n",
      "|   3|  null|     sales| 41000.3|       null|2023-10-24|\n",
      "|null| Jenny| marketing|    null| 7003452847|2023-05-16|\n",
      "+----+------+----------+--------+-----------+----------+\n",
      "\n"
     ]
    }
   ],
   "source": [
    "data = (\n",
    "    (1, \"Julian\", \"accounts\", 30000.00, 98012028375, \"2023-02-04\"), \n",
    "    (2, \"Rashid\", None, 46000.25, 2837482748, None),\n",
    "    (3, None, \"sales\", 41000.30, None, \"2023-10-24\"), \n",
    "    (None, \"Jenny\", \"marketing\", None, 7003452847, \"2023-05-16\")\n",
    ")\n",
    "rdd = spark.sparkContext.parallelize(data)\n",
    "df = spark.createDataFrame(rdd, [\"id\", \"name\", \"department\", \"salary\", \"phone\", \"join_date\"])\n",
    "df.show()"
   ]
  },
  {
   "cell_type": "code",
   "execution_count": 35,
   "id": "53c1e333",
   "metadata": {},
   "outputs": [
    {
     "name": "stdout",
     "output_type": "stream",
     "text": [
      "+----+------+----------+--------+-----------+----------+\n",
      "|  id|  name|department|  salary|      phone| join_date|\n",
      "+----+------+----------+--------+-----------+----------+\n",
      "|   1|Julian|  accounts| 30000.0|98012028375|2023-02-04|\n",
      "|   2|Rashid|        IT|46000.25| 2837482748|2024-01-01|\n",
      "|   3|    IT|     sales| 41000.3|    -999999|2023-10-24|\n",
      "|-999| Jenny| marketing|    -0.0| 7003452847|2023-05-16|\n",
      "+----+------+----------+--------+-----------+----------+\n",
      "\n"
     ]
    }
   ],
   "source": [
    "df2 = df.na.fill(-0.0, \"salary\") \\\n",
    "    .na.fill(-999, \"id\") \\\n",
    "    .na.fill(-999999, \"phone\") \\\n",
    "    .na.fill(\"IT\", [\"name\", \"department\"]) \\\n",
    "    .na.fill(\"2024-01-01\", \"join_date\")\n",
    "df2.show()"
   ]
  },
  {
   "cell_type": "code",
   "execution_count": null,
   "id": "906fafd5",
   "metadata": {},
   "outputs": [],
   "source": []
  }
 ],
 "metadata": {
  "kernelspec": {
   "display_name": "Python 3 (ipykernel)",
   "language": "python",
   "name": "python3"
  },
  "language_info": {
   "codemirror_mode": {
    "name": "ipython",
    "version": 3
   },
   "file_extension": ".py",
   "mimetype": "text/x-python",
   "name": "python",
   "nbconvert_exporter": "python",
   "pygments_lexer": "ipython3",
   "version": "3.9.13"
  }
 },
 "nbformat": 4,
 "nbformat_minor": 5
}
