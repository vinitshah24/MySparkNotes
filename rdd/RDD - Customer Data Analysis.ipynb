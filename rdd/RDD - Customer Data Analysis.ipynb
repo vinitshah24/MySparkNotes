{
 "cells": [
  {
   "cell_type": "code",
   "execution_count": 1,
   "id": "1cbdeb9a",
   "metadata": {},
   "outputs": [],
   "source": [
    "from pyspark import SparkContext\n",
    "import numpy as np"
   ]
  },
  {
   "cell_type": "code",
   "execution_count": 2,
   "id": "835b845f",
   "metadata": {},
   "outputs": [],
   "source": [
    "sc = SparkContext(master=\"local[*]\", appName=\"SparkApp\")"
   ]
  },
  {
   "cell_type": "code",
   "execution_count": 3,
   "id": "0d23c27c",
   "metadata": {},
   "outputs": [],
   "source": [
    "rdd = sc.textFile(\"../data/customer-orders.csv\")"
   ]
  },
  {
   "cell_type": "code",
   "execution_count": 4,
   "id": "787cab86",
   "metadata": {},
   "outputs": [
    {
     "data": {
      "text/plain": [
       "['44,8602,37.19',\n",
       " '35,5368,65.89',\n",
       " '2,3391,40.64',\n",
       " '47,6694,14.98',\n",
       " '29,680,13.08']"
      ]
     },
     "execution_count": 4,
     "metadata": {},
     "output_type": "execute_result"
    }
   ],
   "source": [
    "rdd.take(5)"
   ]
  },
  {
   "cell_type": "code",
   "execution_count": 5,
   "id": "ed1554eb-9fc2-4507-b971-ec9516c66b71",
   "metadata": {},
   "outputs": [
    {
     "data": {
      "text/plain": [
       "[(44, 37.19), (35, 65.89), (2, 40.64), (47, 14.98), (29, 13.08)]"
      ]
     },
     "execution_count": 5,
     "metadata": {},
     "output_type": "execute_result"
    }
   ],
   "source": [
    "res_rdd = rdd.map(lambda x: x.split(',')).map(lambda x: (int(x[0]), float(x[2])))\n",
    "res_rdd.take(5)"
   ]
  },
  {
   "cell_type": "code",
   "execution_count": 6,
   "id": "2508ab80",
   "metadata": {},
   "outputs": [],
   "source": [
    "def extract_customer_price_pairs(line):\n",
    "    fields = line.split(',')\n",
    "    return (int(fields[0]), float(fields[2]))"
   ]
  },
  {
   "cell_type": "code",
   "execution_count": 7,
   "id": "987c8ead",
   "metadata": {},
   "outputs": [],
   "source": [
    "map_rdd = rdd.map(extract_customer_price_pairs)"
   ]
  },
  {
   "cell_type": "code",
   "execution_count": 8,
   "id": "06071186",
   "metadata": {},
   "outputs": [
    {
     "data": {
      "text/plain": [
       "[(44, 37.19), (35, 65.89), (2, 40.64), (47, 14.98), (29, 13.08)]"
      ]
     },
     "execution_count": 8,
     "metadata": {},
     "output_type": "execute_result"
    }
   ],
   "source": [
    "map_rdd.take(5)"
   ]
  },
  {
   "cell_type": "code",
   "execution_count": 9,
   "id": "a09963dc",
   "metadata": {},
   "outputs": [],
   "source": [
    "total_by_customer = map_rdd.reduceByKey(lambda x, y: x + y)"
   ]
  },
  {
   "cell_type": "code",
   "execution_count": 10,
   "id": "d82c12da",
   "metadata": {},
   "outputs": [
    {
     "data": {
      "text/plain": [
       "[(44, 4756.890000000001),\n",
       " (2, 5994.59),\n",
       " (70, 5368.249999999999),\n",
       " (14, 4735.030000000001),\n",
       " (42, 5696.840000000002)]"
      ]
     },
     "execution_count": 10,
     "metadata": {},
     "output_type": "execute_result"
    }
   ],
   "source": [
    "total_by_customer.take(5)"
   ]
  },
  {
   "cell_type": "code",
   "execution_count": 11,
   "id": "27ff789e",
   "metadata": {},
   "outputs": [],
   "source": [
    "price_rounded_rdd = total_by_customer.map(lambda x: (x[0], round(x[1], 2)))"
   ]
  },
  {
   "cell_type": "code",
   "execution_count": 12,
   "id": "4fd3f4e3",
   "metadata": {},
   "outputs": [],
   "source": [
    "customer_sorted_rdd = price_rounded_rdd.sortByKey()"
   ]
  },
  {
   "cell_type": "code",
   "execution_count": 13,
   "id": "8df51402",
   "metadata": {},
   "outputs": [
    {
     "data": {
      "text/plain": [
       "[(0, 5524.95),\n",
       " (1, 4958.6),\n",
       " (2, 5994.59),\n",
       " (3, 4659.63),\n",
       " (4, 4815.05),\n",
       " (5, 4561.07),\n",
       " (6, 5397.88),\n",
       " (7, 4755.07),\n",
       " (8, 5517.24),\n",
       " (9, 5322.65)]"
      ]
     },
     "execution_count": 13,
     "metadata": {},
     "output_type": "execute_result"
    }
   ],
   "source": [
    "customer_sorted_rdd.take(10)"
   ]
  },
  {
   "cell_type": "code",
   "execution_count": 14,
   "id": "36d0708f",
   "metadata": {},
   "outputs": [
    {
     "data": {
      "text/plain": [
       "[(68, 6375.45),\n",
       " (73, 6206.2),\n",
       " (39, 6193.11),\n",
       " (54, 6065.39),\n",
       " (71, 5995.66),\n",
       " (2, 5994.59),\n",
       " (97, 5977.19),\n",
       " (46, 5963.11),\n",
       " (42, 5696.84),\n",
       " (59, 5642.89)]"
      ]
     },
     "execution_count": 14,
     "metadata": {},
     "output_type": "execute_result"
    }
   ],
   "source": [
    "highest_price_sorted_rdd = customer_sorted_rdd.sortBy(lambda x: x[1], False)\n",
    "highest_price_sorted_rdd.take(10)"
   ]
  },
  {
   "cell_type": "code",
   "execution_count": null,
   "id": "00d225a9-84ee-4157-b629-f3dbc88b207d",
   "metadata": {},
   "outputs": [],
   "source": []
  }
 ],
 "metadata": {
  "kernelspec": {
   "display_name": "Python 3 (ipykernel)",
   "language": "python",
   "name": "python3"
  },
  "language_info": {
   "codemirror_mode": {
    "name": "ipython",
    "version": 3
   },
   "file_extension": ".py",
   "mimetype": "text/x-python",
   "name": "python",
   "nbconvert_exporter": "python",
   "pygments_lexer": "ipython3",
   "version": "3.11.7"
  }
 },
 "nbformat": 4,
 "nbformat_minor": 5
}
