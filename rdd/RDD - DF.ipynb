{
 "cells": [
  {
   "cell_type": "code",
   "execution_count": 1,
   "id": "1cbdeb9a",
   "metadata": {},
   "outputs": [],
   "source": [
    "from pyspark.sql import SparkSession\n",
    "from pyspark.sql import Row\n",
    "import numpy as np"
   ]
  },
  {
   "cell_type": "code",
   "execution_count": 2,
   "id": "f25b345e",
   "metadata": {},
   "outputs": [],
   "source": [
    "spark = SparkSession.builder.config(\"spark.sql.warehouse.dir\", \"temp\").appName(\"SparkSQL\").getOrCreate()"
   ]
  },
  {
   "cell_type": "code",
   "execution_count": 3,
   "id": "ffa192fc",
   "metadata": {},
   "outputs": [],
   "source": [
    "data = [(\"US\", 10), (\"UK\", 20), (\"India\", 30), (\"China\", 40), (\"Japan\", 50)]\n",
    "rdd = spark.sparkContext.parallelize(data)"
   ]
  },
  {
   "cell_type": "code",
   "execution_count": 4,
   "id": "f68e5d86",
   "metadata": {},
   "outputs": [
    {
     "name": "stdout",
     "output_type": "stream",
     "text": [
      "root\n",
      " |-- _1: string (nullable = true)\n",
      " |-- _2: long (nullable = true)\n",
      "\n",
      "+-----+---+\n",
      "|_1   |_2 |\n",
      "+-----+---+\n",
      "|US   |10 |\n",
      "|UK   |20 |\n",
      "|India|30 |\n",
      "|China|40 |\n",
      "|Japan|50 |\n",
      "+-----+---+\n",
      "\n"
     ]
    }
   ],
   "source": [
    "df = rdd.toDF()\n",
    "df.printSchema()\n",
    "df.show(truncate=False)"
   ]
  },
  {
   "cell_type": "code",
   "execution_count": 5,
   "id": "621572e2",
   "metadata": {},
   "outputs": [
    {
     "name": "stdout",
     "output_type": "stream",
     "text": [
      "root\n",
      " |-- country: string (nullable = true)\n",
      " |-- id: long (nullable = true)\n",
      "\n",
      "+-------+---+\n",
      "|country|id |\n",
      "+-------+---+\n",
      "|US     |10 |\n",
      "|UK     |20 |\n",
      "|India  |30 |\n",
      "|China  |40 |\n",
      "|Japan  |50 |\n",
      "+-------+---+\n",
      "\n"
     ]
    }
   ],
   "source": [
    "cols = [\"country\", \"id\"]\n",
    "df = rdd.toDF(cols)\n",
    "df.printSchema()\n",
    "df.show(truncate=False)"
   ]
  },
  {
   "cell_type": "code",
   "execution_count": 6,
   "id": "fa129543",
   "metadata": {},
   "outputs": [
    {
     "name": "stdout",
     "output_type": "stream",
     "text": [
      "root\n",
      " |-- country: string (nullable = true)\n",
      " |-- id: long (nullable = true)\n",
      "\n",
      "+-------+---+\n",
      "|country|id |\n",
      "+-------+---+\n",
      "|US     |10 |\n",
      "|UK     |20 |\n",
      "|India  |30 |\n",
      "|China  |40 |\n",
      "|Japan  |50 |\n",
      "+-------+---+\n",
      "\n"
     ]
    }
   ],
   "source": [
    "cols = [\"country\", \"id\"]\n",
    "df = spark.createDataFrame(rdd, schema=cols)\n",
    "df.printSchema()\n",
    "df.show(truncate=False)"
   ]
  },
  {
   "cell_type": "code",
   "execution_count": 7,
   "id": "557a4c90",
   "metadata": {},
   "outputs": [
    {
     "name": "stdout",
     "output_type": "stream",
     "text": [
      "root\n",
      " |-- country: string (nullable = true)\n",
      " |-- id: string (nullable = false)\n",
      "\n",
      "ValueError: field id: This field is not nullable, but got None\n"
     ]
    }
   ],
   "source": [
    "from pyspark.sql.types import StructType, StructField, StringType\n",
    "\n",
    "\n",
    "data = [(\"US\", 10), (\"UK\", 20), (\"India\", 30), (\"China\", 40), (\"Japan\", None)]\n",
    "rdd = spark.sparkContext.parallelize(data)\n",
    "\n",
    "colSchema = StructType([\n",
    "    StructField('country', StringType(), True),\n",
    "    StructField('id', StringType(), False)\n",
    "])\n",
    "\n",
    "df = spark.createDataFrame(rdd, schema=colSchema)\n",
    "\n",
    "df.printSchema()\n",
    "try:\n",
    "    df.show(truncate=False)\n",
    "except Exception as e:\n",
    "    print(f\"ValueError: field id: This field is not nullable, but got None\")"
   ]
  },
  {
   "cell_type": "code",
   "execution_count": null,
   "id": "4b2fa20d",
   "metadata": {},
   "outputs": [],
   "source": []
  }
 ],
 "metadata": {
  "kernelspec": {
   "display_name": "Python 3 (ipykernel)",
   "language": "python",
   "name": "python3"
  },
  "language_info": {
   "codemirror_mode": {
    "name": "ipython",
    "version": 3
   },
   "file_extension": ".py",
   "mimetype": "text/x-python",
   "name": "python",
   "nbconvert_exporter": "python",
   "pygments_lexer": "ipython3",
   "version": "3.11.7"
  }
 },
 "nbformat": 4,
 "nbformat_minor": 5
}
