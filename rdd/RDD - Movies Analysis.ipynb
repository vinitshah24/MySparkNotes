{
 "cells": [
  {
   "cell_type": "code",
   "execution_count": 1,
   "id": "1cbdeb9a",
   "metadata": {},
   "outputs": [],
   "source": [
    "from pyspark.sql import SparkSession\n",
    "from pyspark.sql import Row\n",
    "import numpy as np"
   ]
  },
  {
   "cell_type": "code",
   "execution_count": 2,
   "id": "f25b345e",
   "metadata": {},
   "outputs": [],
   "source": [
    "spark = SparkSession.builder.appName(\"Movie Analysis\").getOrCreate()"
   ]
  },
  {
   "cell_type": "code",
   "execution_count": 3,
   "id": "e1fde5f0",
   "metadata": {},
   "outputs": [],
   "source": [
    "data = spark.sparkContext.textFile(\"../data/ml-100k/u.data\")"
   ]
  },
  {
   "cell_type": "code",
   "execution_count": 4,
   "id": "cf8d3b23",
   "metadata": {},
   "outputs": [
    {
     "data": {
      "text/plain": [
       "[['196', '242', '3', '881250949'],\n",
       " ['186', '302', '3', '891717742'],\n",
       " ['22', '377', '1', '878887116'],\n",
       " ['244', '51', '2', '880606923'],\n",
       " ['166', '346', '1', '886397596']]"
      ]
     },
     "execution_count": 4,
     "metadata": {},
     "output_type": "execute_result"
    }
   ],
   "source": [
    "data.map(lambda l: l.split()).collect()[:5]"
   ]
  },
  {
   "cell_type": "code",
   "execution_count": 5,
   "id": "2d60abc3",
   "metadata": {},
   "outputs": [],
   "source": [
    "# Map ratings to key-value pairs: user ID => movie ID, rating\n",
    "ratings = (\n",
    "    data\n",
    "    .map(lambda l: l.split()) \n",
    "    .map(lambda l: (int(l[0]), (int(l[1]), float(l[2]))))\n",
    ")"
   ]
  },
  {
   "cell_type": "code",
   "execution_count": 6,
   "id": "ddb09c9b",
   "metadata": {},
   "outputs": [
    {
     "data": {
      "text/plain": [
       "[(196, (242, 3.0)),\n",
       " (186, (302, 3.0)),\n",
       " (22, (377, 1.0)),\n",
       " (244, (51, 2.0)),\n",
       " (166, (346, 1.0))]"
      ]
     },
     "execution_count": 6,
     "metadata": {},
     "output_type": "execute_result"
    }
   ],
   "source": [
    "ratings.collect()[:5]"
   ]
  },
  {
   "cell_type": "code",
   "execution_count": 7,
   "id": "73733f6b",
   "metadata": {},
   "outputs": [],
   "source": [
    "# Emit every movie rated together by the same user. Cross Join - all combinations.\n",
    "joinedRatings = ratings.join(ratings)"
   ]
  },
  {
   "cell_type": "code",
   "execution_count": 8,
   "id": "d07ea191",
   "metadata": {},
   "outputs": [
    {
     "data": {
      "text/plain": [
       "[(196, ((242, 3.0), (242, 3.0))),\n",
       " (196, ((242, 3.0), (393, 4.0))),\n",
       " (196, ((242, 3.0), (381, 4.0))),\n",
       " (196, ((242, 3.0), (251, 3.0))),\n",
       " (196, ((242, 3.0), (655, 5.0)))]"
      ]
     },
     "execution_count": 8,
     "metadata": {},
     "output_type": "execute_result"
    }
   ],
   "source": [
    "# At this point RDD consists of userID => ((movieID, rating), (movieID, rating))\n",
    "joinedRatings.collect()[:5]"
   ]
  },
  {
   "cell_type": "code",
   "execution_count": 9,
   "id": "fc98efc4-fb40-42b5-876e-7e8b8c9606a6",
   "metadata": {},
   "outputs": [
    {
     "data": {
      "text/plain": [
       "pyspark.rdd.PipelinedRDD"
      ]
     },
     "execution_count": 9,
     "metadata": {},
     "output_type": "execute_result"
    }
   ],
   "source": [
    "type(joinedRatings)"
   ]
  },
  {
   "cell_type": "code",
   "execution_count": 10,
   "id": "87afd303",
   "metadata": {},
   "outputs": [],
   "source": [
    "def filter_duplicates(user_movie_dict):\n",
    "    user, ratings = user_movie_dict\n",
    "    movie1_id, rating1 = ratings[0]\n",
    "    movie2_id, rating2 = ratings[1]\n",
    "    return movie1_id < movie2_id"
   ]
  },
  {
   "cell_type": "code",
   "execution_count": 11,
   "id": "7eb694db",
   "metadata": {},
   "outputs": [],
   "source": [
    "unique_ratings = joinedRatings.filter(filter_duplicates)"
   ]
  },
  {
   "cell_type": "code",
   "execution_count": 12,
   "id": "a482eb3e",
   "metadata": {},
   "outputs": [
    {
     "data": {
      "text/plain": [
       "[(196, ((242, 3.0), (393, 4.0))),\n",
       " (196, ((242, 3.0), (381, 4.0))),\n",
       " (196, ((242, 3.0), (251, 3.0))),\n",
       " (196, ((242, 3.0), (655, 5.0))),\n",
       " (196, ((242, 3.0), (306, 4.0)))]"
      ]
     },
     "execution_count": 12,
     "metadata": {},
     "output_type": "execute_result"
    }
   ],
   "source": [
    "unique_ratings.collect()[:5]"
   ]
  },
  {
   "cell_type": "code",
   "execution_count": 13,
   "id": "67e073e6",
   "metadata": {},
   "outputs": [],
   "source": [
    "def make_pairs(user_movie_dict):\n",
    "    user, ratings = user_movie_dict\n",
    "    movie1_id, rating1 = ratings[0]\n",
    "    movie2_id, rating2 = ratings[1]\n",
    "    return ((movie1_id, movie2_id), (rating1, rating2))"
   ]
  },
  {
   "cell_type": "code",
   "execution_count": 14,
   "id": "ff1fb6eb",
   "metadata": {},
   "outputs": [],
   "source": [
    "movie_pairs = unique_ratings.map(make_pairs)"
   ]
  },
  {
   "cell_type": "code",
   "execution_count": 15,
   "id": "fedbf2b6",
   "metadata": {},
   "outputs": [
    {
     "data": {
      "text/plain": [
       "[((242, 393), (3.0, 4.0)),\n",
       " ((242, 381), (3.0, 4.0)),\n",
       " ((242, 251), (3.0, 3.0)),\n",
       " ((242, 655), (3.0, 5.0)),\n",
       " ((242, 306), (3.0, 4.0))]"
      ]
     },
     "execution_count": 15,
     "metadata": {},
     "output_type": "execute_result"
    }
   ],
   "source": [
    "movie_pairs.collect()[:5]"
   ]
  },
  {
   "cell_type": "code",
   "execution_count": 16,
   "id": "38d7a90a",
   "metadata": {},
   "outputs": [],
   "source": [
    "movie_pair_ratings = movie_pairs.groupByKey()"
   ]
  },
  {
   "cell_type": "code",
   "execution_count": 17,
   "id": "6ed18fd1",
   "metadata": {},
   "outputs": [
    {
     "data": {
      "text/plain": [
       "[((242, 580), <pyspark.resultiterable.ResultIterable at 0x1c6c2bb2d10>),\n",
       " ((242, 692), <pyspark.resultiterable.ResultIterable at 0x1c6c2bb3bd0>),\n",
       " ((242, 428), <pyspark.resultiterable.ResultIterable at 0x1c6c2bb3ed0>),\n",
       " ((242, 340), <pyspark.resultiterable.ResultIterable at 0x1c6c2bb3e90>),\n",
       " ((393, 1241), <pyspark.resultiterable.ResultIterable at 0x1c6c2bb3fd0>)]"
      ]
     },
     "execution_count": 17,
     "metadata": {},
     "output_type": "execute_result"
    }
   ],
   "source": [
    "movie_pair_ratings.collect()[:5]"
   ]
  },
  {
   "cell_type": "markdown",
   "id": "e913f862",
   "metadata": {},
   "source": [
    "## Extract similarities for the movie"
   ]
  },
  {
   "cell_type": "code",
   "execution_count": 18,
   "id": "c2ffb8c2",
   "metadata": {},
   "outputs": [],
   "source": [
    "scoreThreshold = 0.97\n",
    "coOccurenceThreshold = 50\n",
    "movieID = 50"
   ]
  },
  {
   "cell_type": "code",
   "execution_count": 19,
   "id": "d80f7cd6",
   "metadata": {},
   "outputs": [],
   "source": [
    "from math import sqrt"
   ]
  },
  {
   "cell_type": "code",
   "execution_count": 20,
   "id": "5bafa6b6",
   "metadata": {},
   "outputs": [],
   "source": [
    "def compute_cosine_similarity(ratingPairs):\n",
    "    numPairs = 0\n",
    "    sum_xx = sum_yy = sum_xy = 0\n",
    "    for ratingX, ratingY in ratingPairs:\n",
    "        sum_xx += ratingX * ratingX\n",
    "        sum_yy += ratingY * ratingY\n",
    "        sum_xy += ratingX * ratingY\n",
    "        numPairs += 1\n",
    "    numerator = sum_xy\n",
    "    denominator = sqrt(sum_xx) * sqrt(sum_yy)\n",
    "    score = 0\n",
    "    if (denominator):\n",
    "        score = (numerator / (float(denominator)))\n",
    "    return (score, numPairs)"
   ]
  },
  {
   "cell_type": "code",
   "execution_count": 21,
   "id": "1bd9e09f",
   "metadata": {},
   "outputs": [],
   "source": [
    "movie_pair_similarities = movie_pair_ratings.mapValues(\n",
    "    compute_cosine_similarity).cache()"
   ]
  },
  {
   "cell_type": "code",
   "execution_count": 22,
   "id": "f988a993",
   "metadata": {},
   "outputs": [
    {
     "data": {
      "text/plain": [
       "[((242, 580), (0.9443699330874624, 6)),\n",
       " ((242, 692), (0.9203762039948743, 18)),\n",
       " ((242, 428), (0.9419097988977888, 15)),\n",
       " ((242, 340), (0.9455404837184603, 32)),\n",
       " ((393, 1241), (1.0, 1))]"
      ]
     },
     "execution_count": 22,
     "metadata": {},
     "output_type": "execute_result"
    }
   ],
   "source": [
    "movie_pair_similarities.collect()[:5]"
   ]
  },
  {
   "cell_type": "code",
   "execution_count": 23,
   "id": "5497e8d2",
   "metadata": {},
   "outputs": [],
   "source": [
    "# Filter for movies with this sim that are \"good\" as defined by our quality thresholds above\n",
    "filtered_results = movie_pair_similarities.filter(\n",
    "    lambda data: (data[0][0] == movieID or data[0][1] == movieID)\n",
    "    and data[1][0] > scoreThreshold\n",
    "    and data[1][1] > coOccurenceThreshold\n",
    ")"
   ]
  },
  {
   "cell_type": "code",
   "execution_count": 24,
   "id": "49f338c5",
   "metadata": {},
   "outputs": [],
   "source": [
    "# Sort by quality score\n",
    "results = filtered_results.map(lambda data: (data[1], data[0])).sortByKey(\n",
    "    ascending=False).take(10)"
   ]
  },
  {
   "cell_type": "code",
   "execution_count": 27,
   "id": "b303bdcd-92d5-47e8-9fc1-d2783de45257",
   "metadata": {},
   "outputs": [],
   "source": [
    "movie_names = {}\n",
    "with open(\"../data/ml-100k/u.ITEM\") as f:\n",
    "    for line in f:\n",
    "        fields = line.split('|')\n",
    "        movie_names[int(fields[0])] = fields[1]"
   ]
  },
  {
   "cell_type": "code",
   "execution_count": 28,
   "id": "515bb585",
   "metadata": {},
   "outputs": [
    {
     "name": "stdout",
     "output_type": "stream",
     "text": [
      "Top 10 similar movies for Star Wars (1977)\n",
      "\n",
      "Movie:    Empire Strikes Back, The (1980)\n",
      "Score:    0.9895522078385338\n",
      "Strength: 345\n",
      "\n",
      "Movie:    Return of the Jedi (1983)\n",
      "Score:    0.9857230861253026\n",
      "Strength: 480\n",
      "\n",
      "Movie:    Raiders of the Lost Ark (1981)\n",
      "Score:    0.981760098872619\n",
      "Strength: 380\n",
      "\n",
      "Movie:    20,000 Leagues Under the Sea (1954)\n",
      "Score:    0.9789385605497993\n",
      "Strength: 68\n",
      "\n",
      "Movie:    12 Angry Men (1957)\n",
      "Score:    0.9776576120448436\n",
      "Strength: 109\n",
      "\n",
      "Movie:    Close Shave, A (1995)\n",
      "Score:    0.9775948291054827\n",
      "Strength: 92\n",
      "\n",
      "Movie:    African Queen, The (1951)\n",
      "Score:    0.9764692222674887\n",
      "Strength: 138\n",
      "\n",
      "Movie:    Sting, The (1973)\n",
      "Score:    0.9751512937740359\n",
      "Strength: 204\n",
      "\n",
      "Movie:    Wrong Trousers, The (1993)\n",
      "Score:    0.9748681355460885\n",
      "Strength: 103\n",
      "\n",
      "Movie:    Wallace & Gromit: The Best of Aardman Animation (1996)\n",
      "Score:    0.9741816128302572\n",
      "Strength: 58\n",
      "\n"
     ]
    }
   ],
   "source": [
    "print(f\"Top 10 similar movies for {movie_names[movieID]}\\n\")\n",
    "for result in results:\n",
    "    (sim, pair) = result\n",
    "    # Display the similarity result that isn't the movie we're looking at\n",
    "    similar_movie_id = pair[0]\n",
    "    if (similar_movie_id == movieID):\n",
    "        similar_movie_id = pair[1]\n",
    "    print(f\"Movie:    {movie_names[similar_movie_id]}\")\n",
    "    print(f\"Score:    {sim[0]}\")\n",
    "    print(f\"Strength: {sim[1]}\\n\")"
   ]
  },
  {
   "cell_type": "code",
   "execution_count": 29,
   "id": "c98c6e4b",
   "metadata": {},
   "outputs": [],
   "source": [
    "spark.stop()"
   ]
  },
  {
   "cell_type": "code",
   "execution_count": 30,
   "id": "8e3ea5ae-86a7-4b12-82eb-4dc411b6eea7",
   "metadata": {},
   "outputs": [],
   "source": [
    "spark.sparkContext.stop()"
   ]
  },
  {
   "cell_type": "code",
   "execution_count": null,
   "id": "226addf8-964e-4449-81d7-6f1691f06365",
   "metadata": {},
   "outputs": [],
   "source": []
  }
 ],
 "metadata": {
  "kernelspec": {
   "display_name": "Python 3 (ipykernel)",
   "language": "python",
   "name": "python3"
  },
  "language_info": {
   "codemirror_mode": {
    "name": "ipython",
    "version": 3
   },
   "file_extension": ".py",
   "mimetype": "text/x-python",
   "name": "python",
   "nbconvert_exporter": "python",
   "pygments_lexer": "ipython3",
   "version": "3.11.7"
  }
 },
 "nbformat": 4,
 "nbformat_minor": 5
}
