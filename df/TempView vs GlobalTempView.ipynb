{
 "cells": [
  {
   "cell_type": "markdown",
   "id": "297c999b",
   "metadata": {},
   "source": [
    "### TempView vs. GlobalTempView\n",
    "PySpark SQL temporary views are session-scoped and will not be available if the session that creates it terminates. If you want to have a temporary view that is shared among all sessions and keep alive until the Spark application terminates, you can create a global temporary view using createGlobalTempView()"
   ]
  },
  {
   "cell_type": "code",
   "execution_count": 1,
   "id": "d30a6f77",
   "metadata": {},
   "outputs": [],
   "source": [
    "import findspark\n",
    "findspark.init()"
   ]
  },
  {
   "cell_type": "code",
   "execution_count": 2,
   "id": "9dbf315d",
   "metadata": {},
   "outputs": [],
   "source": [
    "import pyspark\n",
    "from pyspark.sql import SparkSession"
   ]
  },
  {
   "cell_type": "code",
   "execution_count": 13,
   "id": "150db105",
   "metadata": {},
   "outputs": [
    {
     "name": "stdout",
     "output_type": "stream",
     "text": [
      "<pyspark.sql.session.SparkSession object at 0x000001FC7FA5BD30>\n",
      "<SparkContext master=local[*] appName=ViewsApp>\n"
     ]
    }
   ],
   "source": [
    "spark = SparkSession.builder.master(\"local[*]\").appName(\"ViewsApp\").getOrCreate()\n",
    "print(spark)\n",
    "print(spark.sparkContext)"
   ]
  },
  {
   "cell_type": "code",
   "execution_count": 4,
   "id": "664763a4",
   "metadata": {},
   "outputs": [],
   "source": [
    "data = [('James', 'Smith', '1998-04-01', 3000),\n",
    "        ('Michael', 'Rose', '2000-05-19', 4000),\n",
    "        ('Maria', 'Jones', '1999-12-01', 4000)]\n",
    "columns = [\"first\", \"last\", \"birth_date\", \"salary\"]\n",
    "df = spark.createDataFrame(data=data, schema=columns)"
   ]
  },
  {
   "cell_type": "code",
   "execution_count": 5,
   "id": "dcfb5767",
   "metadata": {},
   "outputs": [
    {
     "name": "stdout",
     "output_type": "stream",
     "text": [
      "+-------+-----+----------+------+\n",
      "|  first| last|birth_date|salary|\n",
      "+-------+-----+----------+------+\n",
      "|  James|Smith|1998-04-01|  3000|\n",
      "|Michael| Rose|2000-05-19|  4000|\n",
      "|  Maria|Jones|1999-12-01|  4000|\n",
      "+-------+-----+----------+------+\n",
      "\n"
     ]
    }
   ],
   "source": [
    "df.show()"
   ]
  },
  {
   "cell_type": "code",
   "execution_count": 6,
   "id": "404c95c3",
   "metadata": {},
   "outputs": [
    {
     "data": {
      "text/plain": [
       "[Table(name='tempView', catalog=None, namespace=[], description=None, tableType='TEMPORARY', isTemporary=True)]"
      ]
     },
     "execution_count": 6,
     "metadata": {},
     "output_type": "execute_result"
    }
   ],
   "source": [
    "spark.catalog.dropTempView(\"tempView\")\n",
    "df.createOrReplaceTempView(\"tempView\")\n",
    "spark.catalog.listTables()"
   ]
  },
  {
   "cell_type": "code",
   "execution_count": 7,
   "id": "cb27533d",
   "metadata": {},
   "outputs": [
    {
     "name": "stdout",
     "output_type": "stream",
     "text": [
      "+-------+-----+----------+------+\n",
      "|  first| last|birth_date|salary|\n",
      "+-------+-----+----------+------+\n",
      "|  James|Smith|1998-04-01|  3000|\n",
      "|Michael| Rose|2000-05-19|  4000|\n",
      "|  Maria|Jones|1999-12-01|  4000|\n",
      "+-------+-----+----------+------+\n",
      "\n"
     ]
    }
   ],
   "source": [
    "spark.sql(\"SELECT * FROM tempView\").show()"
   ]
  },
  {
   "cell_type": "code",
   "execution_count": 8,
   "id": "6af081d0",
   "metadata": {},
   "outputs": [],
   "source": [
    "spark.catalog.dropGlobalTempView(\"globalTempView\")\n",
    "df.createGlobalTempView(\"globalTempView\")"
   ]
  },
  {
   "cell_type": "code",
   "execution_count": 9,
   "id": "9466467e",
   "metadata": {},
   "outputs": [
    {
     "name": "stdout",
     "output_type": "stream",
     "text": [
      "+-------+-----+----------+------+\n",
      "|  first| last|birth_date|salary|\n",
      "+-------+-----+----------+------+\n",
      "|  James|Smith|1998-04-01|  3000|\n",
      "|Michael| Rose|2000-05-19|  4000|\n",
      "|  Maria|Jones|1999-12-01|  4000|\n",
      "+-------+-----+----------+------+\n",
      "\n"
     ]
    }
   ],
   "source": [
    "spark.sql(\"SELECT * FROM global_temp.globalTempView\").show()"
   ]
  },
  {
   "cell_type": "markdown",
   "id": "a135ca76",
   "metadata": {},
   "source": [
    "## Accessing Views from Another Spark Session\n",
    "* TempView is not accessible from another session \n",
    "* GlobalTempView is accessibe from multiple sessions"
   ]
  },
  {
   "cell_type": "code",
   "execution_count": 12,
   "id": "f0f7cbcf",
   "metadata": {},
   "outputs": [
    {
     "name": "stdout",
     "output_type": "stream",
     "text": [
      "<pyspark.sql.session.SparkSession object at 0x000001FC7DFE2820>\n",
      "<SparkContext master=local[*] appName=ViewsApp>\n"
     ]
    }
   ],
   "source": [
    "sparkNew = spark.newSession()\n",
    "print(sparkNew)\n",
    "print(sparkNew.sparkContext)"
   ]
  },
  {
   "cell_type": "code",
   "execution_count": 14,
   "id": "f299fa81",
   "metadata": {},
   "outputs": [
    {
     "name": "stdout",
     "output_type": "stream",
     "text": [
      "+-------+-----+----------+------+\n",
      "|  first| last|birth_date|salary|\n",
      "+-------+-----+----------+------+\n",
      "|  James|Smith|1998-04-01|  3000|\n",
      "|Michael| Rose|2000-05-19|  4000|\n",
      "|  Maria|Jones|1999-12-01|  4000|\n",
      "+-------+-----+----------+------+\n",
      "\n"
     ]
    }
   ],
   "source": [
    "sparkNew.sql(\"SELECT * FROM global_temp.globalTempView\").show()"
   ]
  },
  {
   "cell_type": "code",
   "execution_count": 16,
   "id": "714a3c7f",
   "metadata": {},
   "outputs": [
    {
     "name": "stdout",
     "output_type": "stream",
     "text": [
      "Temporary View not found!\n"
     ]
    }
   ],
   "source": [
    "try:\n",
    "    sparkNew.sql(\"SELECT * FROM tempView\").show()\n",
    "except Exception as e:\n",
    "    print(\"Temporary View not found!\")"
   ]
  },
  {
   "cell_type": "markdown",
   "id": "7f94fa9c",
   "metadata": {},
   "source": [
    "## Closing Spark Context"
   ]
  },
  {
   "cell_type": "code",
   "execution_count": 17,
   "id": "e477edfe",
   "metadata": {},
   "outputs": [],
   "source": [
    "spark.stop()"
   ]
  },
  {
   "cell_type": "markdown",
   "id": "d868d085",
   "metadata": {},
   "source": [
    "## New Spark Session (with New Context)\n",
    "None of the view is accessible because:\n",
    "* TempView       => Session Based\n",
    "* GlobalTempView => Context Based"
   ]
  },
  {
   "cell_type": "code",
   "execution_count": 18,
   "id": "843624e5",
   "metadata": {},
   "outputs": [
    {
     "name": "stdout",
     "output_type": "stream",
     "text": [
      "<pyspark.sql.session.SparkSession object at 0x000001FC7DFD43A0>\n",
      "<SparkContext master=local[*] appName=ViewsApp>\n"
     ]
    }
   ],
   "source": [
    "sparkA = SparkSession.builder.master(\"local[*]\").appName(\"ViewsApp\").getOrCreate()\n",
    "print(sparkA)\n",
    "print(sparkA.sparkContext)"
   ]
  },
  {
   "cell_type": "code",
   "execution_count": 20,
   "id": "85a13ddc",
   "metadata": {},
   "outputs": [
    {
     "name": "stdout",
     "output_type": "stream",
     "text": [
      "Temporary View not found!\n"
     ]
    }
   ],
   "source": [
    "try:\n",
    "    sparkA.sql(\"SELECT * FROM tempView\").show()\n",
    "except Exception as e:\n",
    "    print(\"Temporary View not found!\")"
   ]
  },
  {
   "cell_type": "code",
   "execution_count": 21,
   "id": "fc5c8b4c",
   "metadata": {},
   "outputs": [
    {
     "name": "stdout",
     "output_type": "stream",
     "text": [
      "Global Temporary View not found!\n"
     ]
    }
   ],
   "source": [
    "try:\n",
    "    sparkA.sql(\"SELECT * FROM global_temp.globalTempView\").show()\n",
    "except Exception as e:\n",
    "    print(\"Global Temporary View not found!\")"
   ]
  },
  {
   "cell_type": "code",
   "execution_count": null,
   "id": "e1722d82",
   "metadata": {},
   "outputs": [],
   "source": []
  }
 ],
 "metadata": {
  "kernelspec": {
   "display_name": "Python 3 (ipykernel)",
   "language": "python",
   "name": "python3"
  },
  "language_info": {
   "codemirror_mode": {
    "name": "ipython",
    "version": 3
   },
   "file_extension": ".py",
   "mimetype": "text/x-python",
   "name": "python",
   "nbconvert_exporter": "python",
   "pygments_lexer": "ipython3",
   "version": "3.9.13"
  }
 },
 "nbformat": 4,
 "nbformat_minor": 5
}
