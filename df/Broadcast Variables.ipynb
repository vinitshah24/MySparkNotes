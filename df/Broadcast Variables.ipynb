{
 "cells": [
  {
   "cell_type": "code",
   "execution_count": 24,
   "id": "73855f46",
   "metadata": {},
   "outputs": [],
   "source": [
    "import sys\n",
    "import os"
   ]
  },
  {
   "cell_type": "code",
   "execution_count": 25,
   "id": "0c9d24a3",
   "metadata": {},
   "outputs": [
    {
     "data": {
      "text/plain": [
       "'C:\\\\Program Files\\\\Java\\\\jdk1.8.0_311'"
      ]
     },
     "execution_count": 25,
     "metadata": {},
     "output_type": "execute_result"
    }
   ],
   "source": [
    "os.environ.get('JAVA_HOME')"
   ]
  },
  {
   "cell_type": "code",
   "execution_count": 26,
   "id": "1cbdeb9a",
   "metadata": {},
   "outputs": [],
   "source": [
    "from pyspark.sql import SparkSession\n",
    "from pyspark.sql.functions import *\n",
    "from pyspark.sql.types import *"
   ]
  },
  {
   "cell_type": "code",
   "execution_count": 27,
   "id": "d53512e8",
   "metadata": {},
   "outputs": [],
   "source": [
    "spark = SparkSession.builder.appName(\"BroadcastApp\").master(\"local[*]\").getOrCreate()"
   ]
  },
  {
   "cell_type": "code",
   "execution_count": 28,
   "id": "a74f8a5d",
   "metadata": {},
   "outputs": [],
   "source": [
    "prod_data = [\n",
    "    (\"4123\", \"Prod1\"),\n",
    "    (\"6124\", \"Prod2\"),\n",
    "    (\"5125\", \"Prod3\")\n",
    "]"
   ]
  },
  {
   "cell_type": "code",
   "execution_count": 29,
   "id": "66b6dbc2",
   "metadata": {},
   "outputs": [],
   "source": [
    "prod_dict = spark.sparkContext.parallelize(prod_data).collectAsMap()"
   ]
  },
  {
   "cell_type": "code",
   "execution_count": 30,
   "id": "fb0e1270",
   "metadata": {},
   "outputs": [],
   "source": [
    "data_list = [\n",
    "    (\"4123\", \"2022-01-01\", \"1200\", \"01\"),\n",
    "    (\"6124\", \"2022-01-02\", \"2345\", \"01\"),\n",
    "    (\"4123\", \"2022-02-03\", \"1200\", \"02\"),\n",
    "    (\"5125\", \"2022-02-04\", \"2345\", \"02\"),\n",
    "    (\"4123\", \"2022-02-05\", \"9812\", \"02\")\n",
    "]"
   ]
  },
  {
   "cell_type": "code",
   "execution_count": 31,
   "id": "3184cc31",
   "metadata": {},
   "outputs": [],
   "source": [
    "df = spark.createDataFrame(data_list).toDF(\"code\", \"order_date\", \"price\", \"qty\")"
   ]
  },
  {
   "cell_type": "code",
   "execution_count": 32,
   "id": "96c5cc1a",
   "metadata": {
    "scrolled": true
   },
   "outputs": [
    {
     "name": "stdout",
     "output_type": "stream",
     "text": [
      "+----+----------+-----+---+\n",
      "|code|order_date|price|qty|\n",
      "+----+----------+-----+---+\n",
      "|4123|2022-01-01| 1200| 01|\n",
      "|6124|2022-01-02| 2345| 01|\n",
      "|4123|2022-02-03| 1200| 02|\n",
      "|5125|2022-02-04| 2345| 02|\n",
      "|4123|2022-02-05| 9812| 02|\n",
      "+----+----------+-----+---+\n",
      "\n"
     ]
    }
   ],
   "source": [
    "df.show()"
   ]
  },
  {
   "cell_type": "code",
   "execution_count": 33,
   "id": "71fb4d16",
   "metadata": {},
   "outputs": [
    {
     "name": "stdout",
     "output_type": "stream",
     "text": [
      "{'4123': 'Prod1', '6124': 'Prod2', '5125': 'Prod3'}\n",
      "<class 'dict'>\n"
     ]
    }
   ],
   "source": [
    "print(prod_dict)\n",
    "print(type(prod_dict))"
   ]
  },
  {
   "cell_type": "code",
   "execution_count": 34,
   "id": "901cab4a",
   "metadata": {},
   "outputs": [],
   "source": [
    "prod_bc = spark.sparkContext.broadcast(prod_dict)"
   ]
  },
  {
   "cell_type": "code",
   "execution_count": 35,
   "id": "58677999",
   "metadata": {},
   "outputs": [],
   "source": [
    "def get_product(code: str) -> str:\n",
    "    return prod_bc.value.get(code)"
   ]
  },
  {
   "cell_type": "code",
   "execution_count": 36,
   "id": "6f3b928d",
   "metadata": {},
   "outputs": [
    {
     "data": {
      "text/plain": [
       "<function __main__.get_product(code: str) -> str>"
      ]
     },
     "execution_count": 36,
     "metadata": {},
     "output_type": "execute_result"
    }
   ],
   "source": [
    "spark.udf.register(\"get_product_udf\", get_product, StringType())"
   ]
  },
  {
   "cell_type": "code",
   "execution_count": 37,
   "id": "2941a51d",
   "metadata": {},
   "outputs": [
    {
     "name": "stdout",
     "output_type": "stream",
     "text": [
      "+----+----------+-----+---+-------+\n",
      "|code|order_date|price|qty|product|\n",
      "+----+----------+-----+---+-------+\n",
      "|4123|2022-01-01| 1200| 01|  Prod1|\n",
      "|6124|2022-01-02| 2345| 01|  Prod2|\n",
      "|4123|2022-02-03| 1200| 02|  Prod1|\n",
      "|5125|2022-02-04| 2345| 02|  Prod3|\n",
      "|4123|2022-02-05| 9812| 02|  Prod1|\n",
      "+----+----------+-----+---+-------+\n",
      "\n"
     ]
    }
   ],
   "source": [
    "df.withColumn(\"product\", expr(\"get_product_udf(code)\")).show()"
   ]
  },
  {
   "cell_type": "code",
   "execution_count": null,
   "id": "33548d37",
   "metadata": {},
   "outputs": [],
   "source": []
  }
 ],
 "metadata": {
  "kernelspec": {
   "display_name": "base",
   "language": "python",
   "name": "python3"
  },
  "language_info": {
   "codemirror_mode": {
    "name": "ipython",
    "version": 3
   },
   "file_extension": ".py",
   "mimetype": "text/x-python",
   "name": "python",
   "nbconvert_exporter": "python",
   "pygments_lexer": "ipython3",
   "version": "3.11.7"
  }
 },
 "nbformat": 4,
 "nbformat_minor": 5
}
