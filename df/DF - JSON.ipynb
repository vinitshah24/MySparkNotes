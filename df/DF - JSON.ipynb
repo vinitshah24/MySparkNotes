{
 "cells": [
  {
   "cell_type": "code",
   "execution_count": 1,
   "id": "73855f46",
   "metadata": {},
   "outputs": [],
   "source": [
    "import sys\n",
    "import os"
   ]
  },
  {
   "cell_type": "code",
   "execution_count": 2,
   "id": "0c9d24a3",
   "metadata": {},
   "outputs": [
    {
     "data": {
      "text/plain": [
       "'C:\\\\Program Files\\\\Java\\\\jdk1.8.0_311'"
      ]
     },
     "execution_count": 2,
     "metadata": {},
     "output_type": "execute_result"
    }
   ],
   "source": [
    "os.environ.get('JAVA_HOME')"
   ]
  },
  {
   "cell_type": "code",
   "execution_count": 3,
   "id": "96eacb8a",
   "metadata": {},
   "outputs": [],
   "source": [
    "# import findspark\n",
    "# findspark.init()"
   ]
  },
  {
   "cell_type": "code",
   "execution_count": 4,
   "id": "1cbdeb9a",
   "metadata": {},
   "outputs": [],
   "source": [
    "from pyspark.sql import SparkSession\n",
    "from pyspark.sql.functions import *\n",
    "from pyspark.sql.types import *"
   ]
  },
  {
   "cell_type": "code",
   "execution_count": 5,
   "id": "f25b345e",
   "metadata": {},
   "outputs": [],
   "source": [
    "spark = SparkSession.builder.master(\"local[*]\").appName(\"SparkSQL\").getOrCreate()"
   ]
  },
  {
   "cell_type": "code",
   "execution_count": 6,
   "id": "a0f0c559",
   "metadata": {},
   "outputs": [],
   "source": [
    "json_data = [\n",
    "    (0, \"\"\"{\"device_id\": 0, \"device_type\": \"sensor-ipad\", \"ip\": \"68.161.225.1\", \"cca3\": \"USA\", \"cn\": \"United States\", \"temp\": 25, \"signal\": 23, \"battery_level\": 8, \"c02_level\": 917, \"timestamp\" :1475600496 }\"\"\"),\n",
    "    (1, \"\"\"{\"device_id\": 1, \"device_type\": \"sensor-igauge\", \"ip\": \"213.161.254.1\", \"cca3\": \"NOR\", \"cn\": \"Norway\", \"temp\": 30, \"signal\": 18, \"battery_level\": 6, \"c02_level\": 1413, \"timestamp\" :1475600498 }\"\"\"),\n",
    "    (2, \"\"\"{\"device_id\": 2, \"device_type\": \"sensor-ipad\", \"ip\": \"88.36.5.1\", \"cca3\": \"ITA\", \"cn\": \"Italy\", \"temp\": 18, \"signal\": 25, \"battery_level\": 5, \"c02_level\": 1372, \"timestamp\" :1475600500 }\"\"\"),\n",
    "    (3, \"\"\"{\"device_id\": 3, \"device_type\": \"sensor-inest\", \"ip\": \"66.39.173.154\", \"cca3\": \"USA\", \"cn\": \"United States\", \"temp\": 47, \"signal\": 12, \"battery_level\": 1, \"c02_level\": 1447, \"timestamp\" :1475600502 }\"\"\"),\n",
    "    (4, \"\"\"{\"device_id\": 4, \"device_type\": \"sensor-ipad\", \"ip\": \"203.82.41.9\", \"cca3\": \"PHL\", \"cn\": \"Philippines\", \"temp\": 29, \"signal\": 11, \"battery_level\": 0, \"c02_level\": 983, \"timestamp\" :1475600504 }\"\"\"),\n",
    "    (5, \"\"\"{\"device_id\": 5, \"device_type\": \"sensor-istick\", \"ip\": \"204.116.105.67\", \"cca3\": \"USA\", \"cn\": \"United States\", \"temp\": 50, \"signal\": 16, \"battery_level\": 8, \"c02_level\": 1574, \"timestamp\" :1475600506 }\"\"\"),\n",
    "    (6, \"\"\"{\"device_id\": 6, \"device_type\": \"sensor-ipad\", \"ip\": \"220.173.179.1\", \"cca3\": \"CHN\", \"cn\": \"China\", \"temp\": 21, \"signal\": 18, \"battery_level\": 9, \"c02_level\": 1249, \"timestamp\" :1475600508 }\"\"\")\n",
    "]"
   ]
  },
  {
   "cell_type": "code",
   "execution_count": 11,
   "id": "2207bdbb",
   "metadata": {},
   "outputs": [],
   "source": [
    "rdd = spark.sparkContext.parallelize(json_data)"
   ]
  },
  {
   "cell_type": "code",
   "execution_count": 15,
   "id": "9598636f",
   "metadata": {},
   "outputs": [],
   "source": [
    "df = spark.createDataFrame(rdd, [\"id\", \"device\"])"
   ]
  },
  {
   "cell_type": "code",
   "execution_count": 16,
   "id": "8b89dfa1",
   "metadata": {},
   "outputs": [
    {
     "name": "stdout",
     "output_type": "stream",
     "text": [
      "+---+---------------------------------------------------------------------------------------------------------------------------------------------------------------------------------------------------------+\n",
      "|id |device                                                                                                                                                                                                   |\n",
      "+---+---------------------------------------------------------------------------------------------------------------------------------------------------------------------------------------------------------+\n",
      "|0  |{\"device_id\": 0, \"device_type\": \"sensor-ipad\", \"ip\": \"68.161.225.1\", \"cca3\": \"USA\", \"cn\": \"United States\", \"temp\": 25, \"signal\": 23, \"battery_level\": 8, \"c02_level\": 917, \"timestamp\" :1475600496 }     |\n",
      "|1  |{\"device_id\": 1, \"device_type\": \"sensor-igauge\", \"ip\": \"213.161.254.1\", \"cca3\": \"NOR\", \"cn\": \"Norway\", \"temp\": 30, \"signal\": 18, \"battery_level\": 6, \"c02_level\": 1413, \"timestamp\" :1475600498 }        |\n",
      "|2  |{\"device_id\": 2, \"device_type\": \"sensor-ipad\", \"ip\": \"88.36.5.1\", \"cca3\": \"ITA\", \"cn\": \"Italy\", \"temp\": 18, \"signal\": 25, \"battery_level\": 5, \"c02_level\": 1372, \"timestamp\" :1475600500 }               |\n",
      "|3  |{\"device_id\": 3, \"device_type\": \"sensor-inest\", \"ip\": \"66.39.173.154\", \"cca3\": \"USA\", \"cn\": \"United States\", \"temp\": 47, \"signal\": 12, \"battery_level\": 1, \"c02_level\": 1447, \"timestamp\" :1475600502 }  |\n",
      "|4  |{\"device_id\": 4, \"device_type\": \"sensor-ipad\", \"ip\": \"203.82.41.9\", \"cca3\": \"PHL\", \"cn\": \"Philippines\", \"temp\": 29, \"signal\": 11, \"battery_level\": 0, \"c02_level\": 983, \"timestamp\" :1475600504 }        |\n",
      "|5  |{\"device_id\": 5, \"device_type\": \"sensor-istick\", \"ip\": \"204.116.105.67\", \"cca3\": \"USA\", \"cn\": \"United States\", \"temp\": 50, \"signal\": 16, \"battery_level\": 8, \"c02_level\": 1574, \"timestamp\" :1475600506 }|\n",
      "|6  |{\"device_id\": 6, \"device_type\": \"sensor-ipad\", \"ip\": \"220.173.179.1\", \"cca3\": \"CHN\", \"cn\": \"China\", \"temp\": 21, \"signal\": 18, \"battery_level\": 9, \"c02_level\": 1249, \"timestamp\" :1475600508 }           |\n",
      "+---+---------------------------------------------------------------------------------------------------------------------------------------------------------------------------------------------------------+\n",
      "\n"
     ]
    }
   ],
   "source": [
    "df.show(truncate=False)"
   ]
  },
  {
   "cell_type": "code",
   "execution_count": 25,
   "id": "c9059fd1",
   "metadata": {},
   "outputs": [
    {
     "name": "stdout",
     "output_type": "stream",
     "text": [
      "root\n",
      " |-- id: long (nullable = true)\n",
      " |-- device: string (nullable = true)\n",
      "\n"
     ]
    }
   ],
   "source": [
    "df.printSchema()"
   ]
  },
  {
   "cell_type": "markdown",
   "id": "4d0c2695",
   "metadata": {},
   "source": [
    "## from_json()\n",
    "Using the from_json() function within the select() Dataset, we can extract or decode data's attributes and values from a JSON string into a DataFrame as columns dictated by a schema. We use the schema, all associated attributes, and values within this JSON to represent an entity device. As such, you can use the device attributes to retrieve their respective value and all values using the * notation."
   ]
  },
  {
   "cell_type": "code",
   "execution_count": 20,
   "id": "b69cb1df",
   "metadata": {},
   "outputs": [],
   "source": [
    "jsonSchema = StructType() \\\n",
    "    .add(\"battery_level\", LongType()) \\\n",
    "    .add(\"c02_level\", LongType()) \\\n",
    "    .add(\"cca3\", StringType()) \\\n",
    "    .add(\"cn\", StringType()) \\\n",
    "    .add(\"device_id\", LongType()) \\\n",
    "    .add(\"device_type\", StringType()) \\\n",
    "    .add(\"signal\", LongType()) \\\n",
    "    .add(\"ip\", StringType()) \\\n",
    "    .add(\"temp\", LongType()) \\\n",
    "    .add(\"timestamp\", TimestampType())"
   ]
  },
  {
   "cell_type": "code",
   "execution_count": 21,
   "id": "107f697b",
   "metadata": {},
   "outputs": [],
   "source": [
    "devicesDF = df.select(col(\"id\"), from_json(col(\"device\"), jsonSchema).alias(\"devices\"))"
   ]
  },
  {
   "cell_type": "code",
   "execution_count": 23,
   "id": "2e5c696f",
   "metadata": {},
   "outputs": [
    {
     "name": "stdout",
     "output_type": "stream",
     "text": [
      "+---+--------------------------------------------------------------------------------------------+\n",
      "|id |devices                                                                                     |\n",
      "+---+--------------------------------------------------------------------------------------------+\n",
      "|0  |{8, 917, USA, United States, 0, sensor-ipad, 23, 68.161.225.1, 25, 2016-10-04 13:01:36}     |\n",
      "|1  |{6, 1413, NOR, Norway, 1, sensor-igauge, 18, 213.161.254.1, 30, 2016-10-04 13:01:38}        |\n",
      "|2  |{5, 1372, ITA, Italy, 2, sensor-ipad, 25, 88.36.5.1, 18, 2016-10-04 13:01:40}               |\n",
      "|3  |{1, 1447, USA, United States, 3, sensor-inest, 12, 66.39.173.154, 47, 2016-10-04 13:01:42}  |\n",
      "|4  |{0, 983, PHL, Philippines, 4, sensor-ipad, 11, 203.82.41.9, 29, 2016-10-04 13:01:44}        |\n",
      "|5  |{8, 1574, USA, United States, 5, sensor-istick, 16, 204.116.105.67, 50, 2016-10-04 13:01:46}|\n",
      "|6  |{9, 1249, CHN, China, 6, sensor-ipad, 18, 220.173.179.1, 21, 2016-10-04 13:01:48}           |\n",
      "+---+--------------------------------------------------------------------------------------------+\n",
      "\n"
     ]
    }
   ],
   "source": [
    "devicesDF.show(truncate=False)"
   ]
  },
  {
   "cell_type": "code",
   "execution_count": 24,
   "id": "595afb2d",
   "metadata": {},
   "outputs": [
    {
     "name": "stdout",
     "output_type": "stream",
     "text": [
      "root\n",
      " |-- id: long (nullable = true)\n",
      " |-- devices: struct (nullable = true)\n",
      " |    |-- battery_level: long (nullable = true)\n",
      " |    |-- c02_level: long (nullable = true)\n",
      " |    |-- cca3: string (nullable = true)\n",
      " |    |-- cn: string (nullable = true)\n",
      " |    |-- device_id: long (nullable = true)\n",
      " |    |-- device_type: string (nullable = true)\n",
      " |    |-- signal: long (nullable = true)\n",
      " |    |-- ip: string (nullable = true)\n",
      " |    |-- temp: long (nullable = true)\n",
      " |    |-- timestamp: timestamp (nullable = true)\n",
      "\n"
     ]
    }
   ],
   "source": [
    "devicesDF.printSchema()"
   ]
  },
  {
   "cell_type": "code",
   "execution_count": 27,
   "id": "6d1bec86",
   "metadata": {},
   "outputs": [
    {
     "name": "stdout",
     "output_type": "stream",
     "text": [
      "+---+-------------+---------+----+-------------+---------+-------------+------+--------------+----+-------------------+\n",
      "|id |battery_level|c02_level|cca3|cn           |device_id|device_type  |signal|ip            |temp|timestamp          |\n",
      "+---+-------------+---------+----+-------------+---------+-------------+------+--------------+----+-------------------+\n",
      "|0  |8            |917      |USA |United States|0        |sensor-ipad  |23    |68.161.225.1  |25  |2016-10-04 13:01:36|\n",
      "|1  |6            |1413     |NOR |Norway       |1        |sensor-igauge|18    |213.161.254.1 |30  |2016-10-04 13:01:38|\n",
      "|2  |5            |1372     |ITA |Italy        |2        |sensor-ipad  |25    |88.36.5.1     |18  |2016-10-04 13:01:40|\n",
      "|3  |1            |1447     |USA |United States|3        |sensor-inest |12    |66.39.173.154 |47  |2016-10-04 13:01:42|\n",
      "|4  |0            |983      |PHL |Philippines  |4        |sensor-ipad  |11    |203.82.41.9   |29  |2016-10-04 13:01:44|\n",
      "|5  |8            |1574     |USA |United States|5        |sensor-istick|16    |204.116.105.67|50  |2016-10-04 13:01:46|\n",
      "|6  |9            |1249     |CHN |China        |6        |sensor-ipad  |18    |220.173.179.1 |21  |2016-10-04 13:01:48|\n",
      "+---+-------------+---------+----+-------------+---------+-------------+------+--------------+----+-------------------+\n",
      "\n"
     ]
    }
   ],
   "source": [
    "devicesDF.select(col(\"id\"), col(\"devices.*\")).show(truncate=False)"
   ]
  },
  {
   "cell_type": "markdown",
   "id": "485bd25f",
   "metadata": {},
   "source": [
    "## get_json_object()\n",
    "The get_json_object() extracts JSON element from a JSON string based on JSON path specified. This function uses schema to extract individual columns. Below we are extracting the \"device_type\", \"IP\", \"cca3\" columns from JSON String."
   ]
  },
  {
   "cell_type": "code",
   "execution_count": 30,
   "id": "f098886e",
   "metadata": {},
   "outputs": [],
   "source": [
    "json_df = df.select(\n",
    "    col(\"id\"),\n",
    "    get_json_object(col(\"device\"), \"$.device_type\").alias(\"device_type\"),\n",
    "    get_json_object(col(\"device\"), \"$.ip\").alias(\"ip\"),\n",
    "    get_json_object(col(\"device\"), \"$.cca3\").alias(\"cca3\")\n",
    ")"
   ]
  },
  {
   "cell_type": "code",
   "execution_count": 31,
   "id": "9bc5e4ed",
   "metadata": {},
   "outputs": [
    {
     "name": "stdout",
     "output_type": "stream",
     "text": [
      "+---+-------------+--------------+----+\n",
      "|id |device_type  |ip            |cca3|\n",
      "+---+-------------+--------------+----+\n",
      "|0  |sensor-ipad  |68.161.225.1  |USA |\n",
      "|1  |sensor-igauge|213.161.254.1 |NOR |\n",
      "|2  |sensor-ipad  |88.36.5.1     |ITA |\n",
      "|3  |sensor-inest |66.39.173.154 |USA |\n",
      "|4  |sensor-ipad  |203.82.41.9   |PHL |\n",
      "|5  |sensor-istick|204.116.105.67|USA |\n",
      "|6  |sensor-ipad  |220.173.179.1 |CHN |\n",
      "+---+-------------+--------------+----+\n",
      "\n"
     ]
    }
   ],
   "source": [
    "json_df.show(truncate=False)"
   ]
  },
  {
   "cell_type": "markdown",
   "id": "994b6a24",
   "metadata": {},
   "source": [
    "## to_json()\n",
    "This converts earlier struct column from \"devicesDF\" to JSON string."
   ]
  },
  {
   "cell_type": "code",
   "execution_count": 33,
   "id": "1e2f20a3",
   "metadata": {},
   "outputs": [],
   "source": [
    "stringJsonDF = devicesDF.select(to_json(struct(col(\"*\")))).toDF(\"devices\")"
   ]
  },
  {
   "cell_type": "code",
   "execution_count": 35,
   "id": "b32762cc",
   "metadata": {},
   "outputs": [
    {
     "name": "stdout",
     "output_type": "stream",
     "text": [
      "root\n",
      " |-- devices: string (nullable = true)\n",
      "\n"
     ]
    }
   ],
   "source": [
    "stringJsonDF.printSchema()"
   ]
  },
  {
   "cell_type": "code",
   "execution_count": 34,
   "id": "3a454809",
   "metadata": {},
   "outputs": [
    {
     "name": "stdout",
     "output_type": "stream",
     "text": [
      "+-----------------------------------------------------------------------------------------------------------------------------------------------------------------------------------------------------------------------------+\n",
      "|devices                                                                                                                                                                                                                      |\n",
      "+-----------------------------------------------------------------------------------------------------------------------------------------------------------------------------------------------------------------------------+\n",
      "|{\"id\":0,\"devices\":{\"battery_level\":8,\"c02_level\":917,\"cca3\":\"USA\",\"cn\":\"United States\",\"device_id\":0,\"device_type\":\"sensor-ipad\",\"signal\":23,\"ip\":\"68.161.225.1\",\"temp\":25,\"timestamp\":\"2016-10-04T13:01:36.000-04:00\"}}     |\n",
      "|{\"id\":1,\"devices\":{\"battery_level\":6,\"c02_level\":1413,\"cca3\":\"NOR\",\"cn\":\"Norway\",\"device_id\":1,\"device_type\":\"sensor-igauge\",\"signal\":18,\"ip\":\"213.161.254.1\",\"temp\":30,\"timestamp\":\"2016-10-04T13:01:38.000-04:00\"}}        |\n",
      "|{\"id\":2,\"devices\":{\"battery_level\":5,\"c02_level\":1372,\"cca3\":\"ITA\",\"cn\":\"Italy\",\"device_id\":2,\"device_type\":\"sensor-ipad\",\"signal\":25,\"ip\":\"88.36.5.1\",\"temp\":18,\"timestamp\":\"2016-10-04T13:01:40.000-04:00\"}}               |\n",
      "|{\"id\":3,\"devices\":{\"battery_level\":1,\"c02_level\":1447,\"cca3\":\"USA\",\"cn\":\"United States\",\"device_id\":3,\"device_type\":\"sensor-inest\",\"signal\":12,\"ip\":\"66.39.173.154\",\"temp\":47,\"timestamp\":\"2016-10-04T13:01:42.000-04:00\"}}  |\n",
      "|{\"id\":4,\"devices\":{\"battery_level\":0,\"c02_level\":983,\"cca3\":\"PHL\",\"cn\":\"Philippines\",\"device_id\":4,\"device_type\":\"sensor-ipad\",\"signal\":11,\"ip\":\"203.82.41.9\",\"temp\":29,\"timestamp\":\"2016-10-04T13:01:44.000-04:00\"}}        |\n",
      "|{\"id\":5,\"devices\":{\"battery_level\":8,\"c02_level\":1574,\"cca3\":\"USA\",\"cn\":\"United States\",\"device_id\":5,\"device_type\":\"sensor-istick\",\"signal\":16,\"ip\":\"204.116.105.67\",\"temp\":50,\"timestamp\":\"2016-10-04T13:01:46.000-04:00\"}}|\n",
      "|{\"id\":6,\"devices\":{\"battery_level\":9,\"c02_level\":1249,\"cca3\":\"CHN\",\"cn\":\"China\",\"device_id\":6,\"device_type\":\"sensor-ipad\",\"signal\":18,\"ip\":\"220.173.179.1\",\"temp\":21,\"timestamp\":\"2016-10-04T13:01:48.000-04:00\"}}           |\n",
      "+-----------------------------------------------------------------------------------------------------------------------------------------------------------------------------------------------------------------------------+\n",
      "\n"
     ]
    }
   ],
   "source": [
    "stringJsonDF.show(truncate=False)"
   ]
  },
  {
   "cell_type": "markdown",
   "id": "93ccc116",
   "metadata": {},
   "source": [
    "## json_tuple()\n",
    "Extract the Data from JSON String and create them as new columns. The result results in all columns in JSON string as StringType."
   ]
  },
  {
   "cell_type": "code",
   "execution_count": 36,
   "id": "0b8f2e70",
   "metadata": {},
   "outputs": [],
   "source": [
    "jstuple_df = df.select(json_tuple(col(\"device\"), \"battery_level\", \"c02_level\", \"cca3\", \"cn\", \"device_id\"))"
   ]
  },
  {
   "cell_type": "code",
   "execution_count": 37,
   "id": "80dee064",
   "metadata": {},
   "outputs": [
    {
     "name": "stdout",
     "output_type": "stream",
     "text": [
      "+---+----+---+-------------+---+\n",
      "| c0|  c1| c2|           c3| c4|\n",
      "+---+----+---+-------------+---+\n",
      "|  8| 917|USA|United States|  0|\n",
      "|  6|1413|NOR|       Norway|  1|\n",
      "|  5|1372|ITA|        Italy|  2|\n",
      "|  1|1447|USA|United States|  3|\n",
      "|  0| 983|PHL|  Philippines|  4|\n",
      "|  8|1574|USA|United States|  5|\n",
      "|  9|1249|CHN|        China|  6|\n",
      "+---+----+---+-------------+---+\n",
      "\n"
     ]
    }
   ],
   "source": [
    "jstuple_df.show()"
   ]
  },
  {
   "cell_type": "code",
   "execution_count": null,
   "id": "f47fd529",
   "metadata": {},
   "outputs": [],
   "source": []
  }
 ],
 "metadata": {
  "kernelspec": {
   "display_name": "Python 3 (ipykernel)",
   "language": "python",
   "name": "python3"
  },
  "language_info": {
   "codemirror_mode": {
    "name": "ipython",
    "version": 3
   },
   "file_extension": ".py",
   "mimetype": "text/x-python",
   "name": "python",
   "nbconvert_exporter": "python",
   "pygments_lexer": "ipython3",
   "version": "3.9.13"
  }
 },
 "nbformat": 4,
 "nbformat_minor": 5
}
