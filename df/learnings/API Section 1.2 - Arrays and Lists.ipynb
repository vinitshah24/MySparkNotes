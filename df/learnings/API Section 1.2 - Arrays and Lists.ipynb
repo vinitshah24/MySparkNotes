{
 "cells": [
  {
   "cell_type": "markdown",
   "metadata": {},
   "source": [
    "### Library Imports"
   ]
  },
  {
   "cell_type": "code",
   "execution_count": 1,
   "metadata": {},
   "outputs": [],
   "source": [
    "from pyspark.sql import SparkSession\n",
    "from pyspark.sql import types as T\n",
    "\n",
    "from pyspark.sql import functions as F\n",
    "\n",
    "from datetime import datetime\n",
    "from decimal import Decimal"
   ]
  },
  {
   "cell_type": "markdown",
   "metadata": {},
   "source": [
    "### Template"
   ]
  },
  {
   "cell_type": "code",
   "execution_count": 2,
   "metadata": {},
   "outputs": [],
   "source": [
    "spark = (\n",
    "    SparkSession.builder\n",
    "    .master(\"local\")\n",
    "    .appName(\"Section 2.1.2 - Arrays and Lists\")\n",
    "    .config(\"spark.some.config.option\", \"some-value\")\n",
    "    .getOrCreate()\n",
    ")\n",
    "\n",
    "sc = spark.sparkContext\n",
    "\n",
    "def get_csv_schema(*args):\n",
    "    return T.StructType([\n",
    "        T.StructField(*arg)\n",
    "        for arg in args\n",
    "    ])\n",
    "\n",
    "def read_csv(fname, schema):\n",
    "    return spark.read.csv(\n",
    "        path=fname,\n",
    "        header=True,\n",
    "        schema=get_csv_schema(*schema)\n",
    "    )\n",
    "\n",
    "import os\n",
    "\n",
    "data_path = \"/data/pets.csv\"\n",
    "base_path = os.path.dirname(os.getcwd())\n",
    "path = base_path + data_path"
   ]
  },
  {
   "cell_type": "code",
   "execution_count": 3,
   "metadata": {},
   "outputs": [
    {
     "name": "stdout",
     "output_type": "stream",
     "text": [
      "+---+--------+--------+-------------------+---+-----+------+\n",
      "| id|breed_id|nickname|           birthday|age|color|weight|\n",
      "+---+--------+--------+-------------------+---+-----+------+\n",
      "|  1|       1|    King|2014-11-22 12:30:31|  5|brown|    10|\n",
      "|  2|       3|   Argus|2016-11-22 10:05:10| 10| null|     6|\n",
      "|  3|       1|  Chewie|2016-11-22 10:05:10| 15| null|    12|\n",
      "|  3|       2|   Maple|2018-11-22 10:05:10| 17|white|     3|\n",
      "|  4|       2|    null|2019-01-01 10:05:10| 13| null|    10|\n",
      "+---+--------+--------+-------------------+---+-----+------+\n",
      "\n"
     ]
    }
   ],
   "source": [
    "pets = read_csv(\n",
    "    fname=path,\n",
    "    schema=[\n",
    "        (\"id\", T.LongType(), False),\n",
    "        (\"breed_id\", T.LongType(), True),\n",
    "        (\"nickname\", T.StringType(), True),\n",
    "        (\"birthday\", T.TimestampType(), True),\n",
    "        (\"age\", T.LongType(), True),\n",
    "        (\"color\", T.StringType(), True),\n",
    "        (\"weight\", T.DecimalType(), True),\n",
    "    ]\n",
    ")\n",
    "pets.show()"
   ]
  },
  {
   "cell_type": "markdown",
   "metadata": {},
   "source": [
    "### Arrays and Lists"
   ]
  },
  {
   "cell_type": "markdown",
   "metadata": {},
   "source": [
    "### Case 1: Reading in Data that contains `Arrays`\n",
    "\n",
    "TODO"
   ]
  },
  {
   "cell_type": "markdown",
   "metadata": {},
   "source": [
    "### Case 2: Creating Arrays"
   ]
  },
  {
   "cell_type": "code",
   "execution_count": 4,
   "metadata": {},
   "outputs": [
    {
     "name": "stdout",
     "output_type": "stream",
     "text": [
      "+---+--------+--------+-------------------+---+-----+------+-----------------------------+\n",
      "|id |breed_id|nickname|birthday           |age|color|weight|array column                 |\n",
      "+---+--------+--------+-------------------+---+-----+------+-----------------------------+\n",
      "|1  |1       |King    |2014-11-22 12:30:31|5  |brown|10    |[1, Bob, 2019-02-01 00:00:00]|\n",
      "|2  |3       |Argus   |2016-11-22 10:05:10|10 |null |6     |[1, Bob, 2019-02-01 00:00:00]|\n",
      "|3  |1       |Chewie  |2016-11-22 10:05:10|15 |null |12    |[1, Bob, 2019-02-01 00:00:00]|\n",
      "|3  |2       |Maple   |2018-11-22 10:05:10|17 |white|3     |[1, Bob, 2019-02-01 00:00:00]|\n",
      "|4  |2       |null    |2019-01-01 10:05:10|13 |null |10    |[1, Bob, 2019-02-01 00:00:00]|\n",
      "+---+--------+--------+-------------------+---+-----+------+-----------------------------+\n",
      "\n"
     ]
    }
   ],
   "source": [
    "(\n",
    "    pets\n",
    "    .withColumn('array column', F.array([\n",
    "        F.lit(1),\n",
    "        F.lit(\"Bob\"),\n",
    "        F.lit(datetime(2019,2,1)),\n",
    "    ]))\n",
    "    .show(truncate=False)\n",
    ")"
   ]
  },
  {
   "cell_type": "markdown",
   "metadata": {},
   "source": [
    "**What Happened?**\n",
    "\n",
    "We will explain in the later chapter what the `F.lit()` function does, but for now understand that in order to create an array type you need to call the `F.array()` function and for each array element call `F.lit()` on."
   ]
  },
  {
   "cell_type": "markdown",
   "metadata": {},
   "source": [
    "### Summary\n",
    "\n",
    "* It's pretty simple to create an array in Spark, you will need to call 2 functions: `F.array()` and `F.lit()`.\n",
    "* Each element of the array needs to be of type `F.lit()`"
   ]
  }
 ],
 "metadata": {
  "kernelspec": {
   "display_name": "Python 3 (ipykernel)",
   "language": "python",
   "name": "python3"
  },
  "language_info": {
   "codemirror_mode": {
    "name": "ipython",
    "version": 3
   },
   "file_extension": ".py",
   "mimetype": "text/x-python",
   "name": "python",
   "nbconvert_exporter": "python",
   "pygments_lexer": "ipython3",
   "version": "3.11.7"
  }
 },
 "nbformat": 4,
 "nbformat_minor": 4
}
