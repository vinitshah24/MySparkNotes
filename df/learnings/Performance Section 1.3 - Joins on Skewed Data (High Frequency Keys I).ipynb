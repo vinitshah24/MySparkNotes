{
 "cells": [
  {
   "cell_type": "markdown",
   "metadata": {},
   "source": [
    "A `skewed dataset` is defined by a dataset that has a class imbalance, this leads to poor or failing spark jobs that often get a `OOM` (out of memory) error.\n",
    "\n",
    "When performing a `join` onto a `skewed dataset` it's usually the case where there is an imbalance on the `key`(s) on which the join is performed on. This results in a majority of the data falls onto a single partition, which will take longer to complete than the other partitions.\n",
    "\n",
    "Some hints to detect skewness is:\n",
    "1. The `key`(s) consist mainly of `null` values which fall onto a single partition.\n",
    "2. There is a subset of values for the `key`(s) that makeup the high percentage of the total keys which fall onto a single partition.\n",
    "\n",
    "We go through both these cases and see how we can combat it."
   ]
  },
  {
   "cell_type": "markdown",
   "metadata": {},
   "source": [
    "### Library Imports"
   ]
  },
  {
   "cell_type": "code",
   "execution_count": 1,
   "metadata": {},
   "outputs": [],
   "source": [
    "from pyspark.sql import SparkSession\n",
    "from pyspark.sql import functions as F"
   ]
  },
  {
   "cell_type": "markdown",
   "metadata": {},
   "source": [
    "### Template"
   ]
  },
  {
   "cell_type": "code",
   "execution_count": 2,
   "metadata": {},
   "outputs": [],
   "source": [
    "spark = (\n",
    "    SparkSession.builder\n",
    "    .master(\"local\")\n",
    "    .appName(\"Exploring Joins\")\n",
    "    .config(\"spark.some.config.option\", \"some-value\")\n",
    "    .getOrCreate()\n",
    ")\n",
    "\n",
    "sc = spark.sparkContext"
   ]
  },
  {
   "cell_type": "markdown",
   "metadata": {},
   "source": [
    "### Situation 2: High Frequency Keys"
   ]
  },
  {
   "cell_type": "markdown",
   "metadata": {},
   "source": [
    "Inital Datasets"
   ]
  },
  {
   "cell_type": "code",
   "execution_count": 12,
   "metadata": {},
   "outputs": [
    {
     "data": {
      "text/html": [
       "<div>\n",
       "<style scoped>\n",
       "    .dataframe tbody tr th:only-of-type {\n",
       "        vertical-align: middle;\n",
       "    }\n",
       "\n",
       "    .dataframe tbody tr th {\n",
       "        vertical-align: top;\n",
       "    }\n",
       "\n",
       "    .dataframe thead th {\n",
       "        text-align: right;\n",
       "    }\n",
       "</style>\n",
       "<table border=\"1\" class=\"dataframe\">\n",
       "  <thead>\n",
       "    <tr style=\"text-align: right;\">\n",
       "      <th></th>\n",
       "      <th>customer_id</th>\n",
       "      <th>first_name</th>\n",
       "    </tr>\n",
       "  </thead>\n",
       "  <tbody>\n",
       "    <tr>\n",
       "      <th>0</th>\n",
       "      <td>1</td>\n",
       "      <td>John</td>\n",
       "    </tr>\n",
       "    <tr>\n",
       "      <th>1</th>\n",
       "      <td>2</td>\n",
       "      <td>Bob</td>\n",
       "    </tr>\n",
       "  </tbody>\n",
       "</table>\n",
       "</div>"
      ],
      "text/plain": [
       "   customer_id first_name\n",
       "0            1       John\n",
       "1            2        Bob"
      ]
     },
     "execution_count": 12,
     "metadata": {},
     "output_type": "execute_result"
    }
   ],
   "source": [
    "customers = spark.createDataFrame([\n",
    "    (1, \"John\"), \n",
    "    (2, \"Bob\"),\n",
    "], [\"customer_id\", \"first_name\"])\n",
    "\n",
    "customers.toPandas()"
   ]
  },
  {
   "cell_type": "code",
   "execution_count": 13,
   "metadata": {},
   "outputs": [
    {
     "data": {
      "text/html": [
       "<div>\n",
       "<style scoped>\n",
       "    .dataframe tbody tr th:only-of-type {\n",
       "        vertical-align: middle;\n",
       "    }\n",
       "\n",
       "    .dataframe tbody tr th {\n",
       "        vertical-align: top;\n",
       "    }\n",
       "\n",
       "    .dataframe thead th {\n",
       "        text-align: right;\n",
       "    }\n",
       "</style>\n",
       "<table border=\"1\" class=\"dataframe\">\n",
       "  <thead>\n",
       "    <tr style=\"text-align: right;\">\n",
       "      <th></th>\n",
       "      <th>id</th>\n",
       "      <th>customer_id</th>\n",
       "      <th>order_name</th>\n",
       "    </tr>\n",
       "  </thead>\n",
       "  <tbody>\n",
       "    <tr>\n",
       "      <th>94</th>\n",
       "      <td>94</td>\n",
       "      <td>1</td>\n",
       "      <td>order #94</td>\n",
       "    </tr>\n",
       "    <tr>\n",
       "      <th>95</th>\n",
       "      <td>95</td>\n",
       "      <td>2</td>\n",
       "      <td>order #95</td>\n",
       "    </tr>\n",
       "    <tr>\n",
       "      <th>96</th>\n",
       "      <td>96</td>\n",
       "      <td>2</td>\n",
       "      <td>order #96</td>\n",
       "    </tr>\n",
       "    <tr>\n",
       "      <th>97</th>\n",
       "      <td>97</td>\n",
       "      <td>2</td>\n",
       "      <td>order #97</td>\n",
       "    </tr>\n",
       "    <tr>\n",
       "      <th>98</th>\n",
       "      <td>98</td>\n",
       "      <td>2</td>\n",
       "      <td>order #98</td>\n",
       "    </tr>\n",
       "    <tr>\n",
       "      <th>99</th>\n",
       "      <td>99</td>\n",
       "      <td>2</td>\n",
       "      <td>order #99</td>\n",
       "    </tr>\n",
       "  </tbody>\n",
       "</table>\n",
       "</div>"
      ],
      "text/plain": [
       "    id  customer_id order_name\n",
       "94  94            1  order #94\n",
       "95  95            2  order #95\n",
       "96  96            2  order #96\n",
       "97  97            2  order #97\n",
       "98  98            2  order #98\n",
       "99  99            2  order #99"
      ]
     },
     "execution_count": 13,
     "metadata": {},
     "output_type": "execute_result"
    }
   ],
   "source": [
    "orders = spark.createDataFrame([\n",
    "    (i, 1 if i < 95 else 2, \"order #{}\".format(i)) for i in range(100) \n",
    "], [\"id\", \"customer_id\", \"order_name\"])\n",
    "\n",
    "orders.toPandas().tail(6)"
   ]
  },
  {
   "cell_type": "markdown",
   "metadata": {},
   "source": [
    "### Option 1: Inner Join"
   ]
  },
  {
   "cell_type": "code",
   "execution_count": 14,
   "metadata": {},
   "outputs": [
    {
     "data": {
      "text/html": [
       "<div>\n",
       "<style scoped>\n",
       "    .dataframe tbody tr th:only-of-type {\n",
       "        vertical-align: middle;\n",
       "    }\n",
       "\n",
       "    .dataframe tbody tr th {\n",
       "        vertical-align: top;\n",
       "    }\n",
       "\n",
       "    .dataframe thead th {\n",
       "        text-align: right;\n",
       "    }\n",
       "</style>\n",
       "<table border=\"1\" class=\"dataframe\">\n",
       "  <thead>\n",
       "    <tr style=\"text-align: right;\">\n",
       "      <th></th>\n",
       "      <th>customer_id</th>\n",
       "      <th>first_name</th>\n",
       "      <th>id</th>\n",
       "      <th>order_name</th>\n",
       "    </tr>\n",
       "  </thead>\n",
       "  <tbody>\n",
       "    <tr>\n",
       "      <th>90</th>\n",
       "      <td>1</td>\n",
       "      <td>John</td>\n",
       "      <td>90</td>\n",
       "      <td>order #90</td>\n",
       "    </tr>\n",
       "    <tr>\n",
       "      <th>91</th>\n",
       "      <td>1</td>\n",
       "      <td>John</td>\n",
       "      <td>91</td>\n",
       "      <td>order #91</td>\n",
       "    </tr>\n",
       "    <tr>\n",
       "      <th>92</th>\n",
       "      <td>1</td>\n",
       "      <td>John</td>\n",
       "      <td>92</td>\n",
       "      <td>order #92</td>\n",
       "    </tr>\n",
       "    <tr>\n",
       "      <th>93</th>\n",
       "      <td>1</td>\n",
       "      <td>John</td>\n",
       "      <td>93</td>\n",
       "      <td>order #93</td>\n",
       "    </tr>\n",
       "    <tr>\n",
       "      <th>94</th>\n",
       "      <td>1</td>\n",
       "      <td>John</td>\n",
       "      <td>94</td>\n",
       "      <td>order #94</td>\n",
       "    </tr>\n",
       "    <tr>\n",
       "      <th>95</th>\n",
       "      <td>2</td>\n",
       "      <td>Bob</td>\n",
       "      <td>95</td>\n",
       "      <td>order #95</td>\n",
       "    </tr>\n",
       "    <tr>\n",
       "      <th>96</th>\n",
       "      <td>2</td>\n",
       "      <td>Bob</td>\n",
       "      <td>96</td>\n",
       "      <td>order #96</td>\n",
       "    </tr>\n",
       "    <tr>\n",
       "      <th>97</th>\n",
       "      <td>2</td>\n",
       "      <td>Bob</td>\n",
       "      <td>97</td>\n",
       "      <td>order #97</td>\n",
       "    </tr>\n",
       "    <tr>\n",
       "      <th>98</th>\n",
       "      <td>2</td>\n",
       "      <td>Bob</td>\n",
       "      <td>98</td>\n",
       "      <td>order #98</td>\n",
       "    </tr>\n",
       "    <tr>\n",
       "      <th>99</th>\n",
       "      <td>2</td>\n",
       "      <td>Bob</td>\n",
       "      <td>99</td>\n",
       "      <td>order #99</td>\n",
       "    </tr>\n",
       "  </tbody>\n",
       "</table>\n",
       "</div>"
      ],
      "text/plain": [
       "    customer_id first_name  id order_name\n",
       "90            1       John  90  order #90\n",
       "91            1       John  91  order #91\n",
       "92            1       John  92  order #92\n",
       "93            1       John  93  order #93\n",
       "94            1       John  94  order #94\n",
       "95            2        Bob  95  order #95\n",
       "96            2        Bob  96  order #96\n",
       "97            2        Bob  97  order #97\n",
       "98            2        Bob  98  order #98\n",
       "99            2        Bob  99  order #99"
      ]
     },
     "execution_count": 14,
     "metadata": {},
     "output_type": "execute_result"
    }
   ],
   "source": [
    "df = customers.join(orders, \"customer_id\")\n",
    "\n",
    "df.toPandas().tail(10)"
   ]
  },
  {
   "cell_type": "code",
   "execution_count": 15,
   "metadata": {},
   "outputs": [
    {
     "name": "stdout",
     "output_type": "stream",
     "text": [
      "== Physical Plan ==\n",
      "*(5) Project [customer_id#122L, first_name#123, id#126L, order_name#128]\n",
      "+- *(5) SortMergeJoin [customer_id#122L], [customer_id#127L], Inner\n",
      "   :- *(2) Sort [customer_id#122L ASC NULLS FIRST], false, 0\n",
      "   :  +- Exchange hashpartitioning(customer_id#122L, 200)\n",
      "   :     +- *(1) Filter isnotnull(customer_id#122L)\n",
      "   :        +- Scan ExistingRDD[customer_id#122L,first_name#123]\n",
      "   +- *(4) Sort [customer_id#127L ASC NULLS FIRST], false, 0\n",
      "      +- Exchange hashpartitioning(customer_id#127L, 200)\n",
      "         +- *(3) Filter isnotnull(customer_id#127L)\n",
      "            +- Scan ExistingRDD[id#126L,customer_id#127L,order_name#128]\n"
     ]
    }
   ],
   "source": [
    "df.explain()"
   ]
  },
  {
   "cell_type": "markdown",
   "metadata": {},
   "source": [
    "**What Happened**:\n",
    "* We want to find what `order`s each `customer` made, so we will be `join`ing the `customer`s table to the `order`s table.\n",
    "* When performing the join, we perform a `hashpartitioning` on `customer_id`.\n",
    "* From our data creation, this means 95% of the data landed onto a single partition. \n",
    "\n",
    "**Results**:\n",
    "* Similar to the `Null Skew` case, this means that single task/partition will take a lot longer than the others, and most likely erroring out."
   ]
  },
  {
   "cell_type": "markdown",
   "metadata": {},
   "source": [
    "### Option 2: Salt the key, then Join"
   ]
  },
  {
   "cell_type": "markdown",
   "metadata": {},
   "source": [
    "**Helper Function**"
   ]
  },
  {
   "cell_type": "code",
   "execution_count": 16,
   "metadata": {},
   "outputs": [],
   "source": [
    "def data_skew_helper(left, right, key, number_of_partitions, how=\"inner\"):\n",
    "    salt_value = F.lit(F.rand() * number_of_partitions % number_of_partitions).cast('int')\n",
    "    left = left.withColumn(\"salt\", salt_value)\n",
    "    \n",
    "    salt_col = F.explode(F.array([F.lit(i) for i in range(number_of_partitions)])).alias(\"salt\")\n",
    "    right = right.select(\"*\",  salt_col)\n",
    "\n",
    "    return left.join(right, [key, \"salt\"], how).drop(\"salt\")"
   ]
  },
  {
   "cell_type": "markdown",
   "metadata": {},
   "source": [
    "**Example**"
   ]
  },
  {
   "cell_type": "code",
   "execution_count": 17,
   "metadata": {},
   "outputs": [],
   "source": [
    "num_of_partitions = 5"
   ]
  },
  {
   "cell_type": "code",
   "execution_count": 18,
   "metadata": {},
   "outputs": [
    {
     "data": {
      "text/html": [
       "<div>\n",
       "<style scoped>\n",
       "    .dataframe tbody tr th:only-of-type {\n",
       "        vertical-align: middle;\n",
       "    }\n",
       "\n",
       "    .dataframe tbody tr th {\n",
       "        vertical-align: top;\n",
       "    }\n",
       "\n",
       "    .dataframe thead th {\n",
       "        text-align: right;\n",
       "    }\n",
       "</style>\n",
       "<table border=\"1\" class=\"dataframe\">\n",
       "  <thead>\n",
       "    <tr style=\"text-align: right;\">\n",
       "      <th></th>\n",
       "      <th>customer_id</th>\n",
       "      <th>first_name</th>\n",
       "      <th>salt</th>\n",
       "    </tr>\n",
       "  </thead>\n",
       "  <tbody>\n",
       "    <tr>\n",
       "      <th>0</th>\n",
       "      <td>1</td>\n",
       "      <td>John</td>\n",
       "      <td>4</td>\n",
       "    </tr>\n",
       "    <tr>\n",
       "      <th>1</th>\n",
       "      <td>2</td>\n",
       "      <td>Bob</td>\n",
       "      <td>3</td>\n",
       "    </tr>\n",
       "  </tbody>\n",
       "</table>\n",
       "</div>"
      ],
      "text/plain": [
       "   customer_id first_name  salt\n",
       "0            1       John     4\n",
       "1            2        Bob     3"
      ]
     },
     "execution_count": 18,
     "metadata": {},
     "output_type": "execute_result"
    }
   ],
   "source": [
    "left = customers\n",
    "\n",
    "salt_value = F.lit(F.rand() * num_of_partitions % num_of_partitions).cast('int')    \n",
    "left = left.withColumn(\"salt\", salt_value)\n",
    "\n",
    "left.toPandas().head(5)"
   ]
  },
  {
   "cell_type": "code",
   "execution_count": 19,
   "metadata": {},
   "outputs": [
    {
     "data": {
      "text/html": [
       "<div>\n",
       "<style scoped>\n",
       "    .dataframe tbody tr th:only-of-type {\n",
       "        vertical-align: middle;\n",
       "    }\n",
       "\n",
       "    .dataframe tbody tr th {\n",
       "        vertical-align: top;\n",
       "    }\n",
       "\n",
       "    .dataframe thead th {\n",
       "        text-align: right;\n",
       "    }\n",
       "</style>\n",
       "<table border=\"1\" class=\"dataframe\">\n",
       "  <thead>\n",
       "    <tr style=\"text-align: right;\">\n",
       "      <th></th>\n",
       "      <th>id</th>\n",
       "      <th>customer_id</th>\n",
       "      <th>order_name</th>\n",
       "      <th>salt</th>\n",
       "    </tr>\n",
       "  </thead>\n",
       "  <tbody>\n",
       "    <tr>\n",
       "      <th>0</th>\n",
       "      <td>0</td>\n",
       "      <td>1</td>\n",
       "      <td>order #0</td>\n",
       "      <td>0</td>\n",
       "    </tr>\n",
       "    <tr>\n",
       "      <th>1</th>\n",
       "      <td>0</td>\n",
       "      <td>1</td>\n",
       "      <td>order #0</td>\n",
       "      <td>1</td>\n",
       "    </tr>\n",
       "    <tr>\n",
       "      <th>2</th>\n",
       "      <td>0</td>\n",
       "      <td>1</td>\n",
       "      <td>order #0</td>\n",
       "      <td>2</td>\n",
       "    </tr>\n",
       "    <tr>\n",
       "      <th>3</th>\n",
       "      <td>0</td>\n",
       "      <td>1</td>\n",
       "      <td>order #0</td>\n",
       "      <td>3</td>\n",
       "    </tr>\n",
       "    <tr>\n",
       "      <th>4</th>\n",
       "      <td>0</td>\n",
       "      <td>1</td>\n",
       "      <td>order #0</td>\n",
       "      <td>4</td>\n",
       "    </tr>\n",
       "    <tr>\n",
       "      <th>5</th>\n",
       "      <td>1</td>\n",
       "      <td>1</td>\n",
       "      <td>order #1</td>\n",
       "      <td>0</td>\n",
       "    </tr>\n",
       "    <tr>\n",
       "      <th>6</th>\n",
       "      <td>1</td>\n",
       "      <td>1</td>\n",
       "      <td>order #1</td>\n",
       "      <td>1</td>\n",
       "    </tr>\n",
       "    <tr>\n",
       "      <th>7</th>\n",
       "      <td>1</td>\n",
       "      <td>1</td>\n",
       "      <td>order #1</td>\n",
       "      <td>2</td>\n",
       "    </tr>\n",
       "    <tr>\n",
       "      <th>8</th>\n",
       "      <td>1</td>\n",
       "      <td>1</td>\n",
       "      <td>order #1</td>\n",
       "      <td>3</td>\n",
       "    </tr>\n",
       "    <tr>\n",
       "      <th>9</th>\n",
       "      <td>1</td>\n",
       "      <td>1</td>\n",
       "      <td>order #1</td>\n",
       "      <td>4</td>\n",
       "    </tr>\n",
       "  </tbody>\n",
       "</table>\n",
       "</div>"
      ],
      "text/plain": [
       "   id  customer_id order_name  salt\n",
       "0   0            1   order #0     0\n",
       "1   0            1   order #0     1\n",
       "2   0            1   order #0     2\n",
       "3   0            1   order #0     3\n",
       "4   0            1   order #0     4\n",
       "5   1            1   order #1     0\n",
       "6   1            1   order #1     1\n",
       "7   1            1   order #1     2\n",
       "8   1            1   order #1     3\n",
       "9   1            1   order #1     4"
      ]
     },
     "execution_count": 19,
     "metadata": {},
     "output_type": "execute_result"
    }
   ],
   "source": [
    "right = orders\n",
    "\n",
    "salt_col = F.explode(F.array([F.lit(i) for i in range(num_of_partitions)])).alias(\"salt\")\n",
    "right = right.select(\"*\",  salt_col)\n",
    "\n",
    "right.toPandas().head(10)"
   ]
  },
  {
   "cell_type": "code",
   "execution_count": 21,
   "metadata": {},
   "outputs": [
    {
     "data": {
      "text/html": [
       "<div>\n",
       "<style scoped>\n",
       "    .dataframe tbody tr th:only-of-type {\n",
       "        vertical-align: middle;\n",
       "    }\n",
       "\n",
       "    .dataframe tbody tr th {\n",
       "        vertical-align: top;\n",
       "    }\n",
       "\n",
       "    .dataframe thead th {\n",
       "        text-align: right;\n",
       "    }\n",
       "</style>\n",
       "<table border=\"1\" class=\"dataframe\">\n",
       "  <thead>\n",
       "    <tr style=\"text-align: right;\">\n",
       "      <th></th>\n",
       "      <th>customer_id</th>\n",
       "      <th>salt</th>\n",
       "      <th>first_name</th>\n",
       "      <th>id</th>\n",
       "      <th>order_name</th>\n",
       "    </tr>\n",
       "  </thead>\n",
       "  <tbody>\n",
       "    <tr>\n",
       "      <th>90</th>\n",
       "      <td>1</td>\n",
       "      <td>4</td>\n",
       "      <td>John</td>\n",
       "      <td>90</td>\n",
       "      <td>order #90</td>\n",
       "    </tr>\n",
       "    <tr>\n",
       "      <th>91</th>\n",
       "      <td>1</td>\n",
       "      <td>4</td>\n",
       "      <td>John</td>\n",
       "      <td>91</td>\n",
       "      <td>order #91</td>\n",
       "    </tr>\n",
       "    <tr>\n",
       "      <th>92</th>\n",
       "      <td>1</td>\n",
       "      <td>4</td>\n",
       "      <td>John</td>\n",
       "      <td>92</td>\n",
       "      <td>order #92</td>\n",
       "    </tr>\n",
       "    <tr>\n",
       "      <th>93</th>\n",
       "      <td>1</td>\n",
       "      <td>4</td>\n",
       "      <td>John</td>\n",
       "      <td>93</td>\n",
       "      <td>order #93</td>\n",
       "    </tr>\n",
       "    <tr>\n",
       "      <th>94</th>\n",
       "      <td>1</td>\n",
       "      <td>4</td>\n",
       "      <td>John</td>\n",
       "      <td>94</td>\n",
       "      <td>order #94</td>\n",
       "    </tr>\n",
       "    <tr>\n",
       "      <th>95</th>\n",
       "      <td>2</td>\n",
       "      <td>3</td>\n",
       "      <td>Bob</td>\n",
       "      <td>95</td>\n",
       "      <td>order #95</td>\n",
       "    </tr>\n",
       "    <tr>\n",
       "      <th>96</th>\n",
       "      <td>2</td>\n",
       "      <td>3</td>\n",
       "      <td>Bob</td>\n",
       "      <td>96</td>\n",
       "      <td>order #96</td>\n",
       "    </tr>\n",
       "    <tr>\n",
       "      <th>97</th>\n",
       "      <td>2</td>\n",
       "      <td>3</td>\n",
       "      <td>Bob</td>\n",
       "      <td>97</td>\n",
       "      <td>order #97</td>\n",
       "    </tr>\n",
       "    <tr>\n",
       "      <th>98</th>\n",
       "      <td>2</td>\n",
       "      <td>3</td>\n",
       "      <td>Bob</td>\n",
       "      <td>98</td>\n",
       "      <td>order #98</td>\n",
       "    </tr>\n",
       "    <tr>\n",
       "      <th>99</th>\n",
       "      <td>2</td>\n",
       "      <td>3</td>\n",
       "      <td>Bob</td>\n",
       "      <td>99</td>\n",
       "      <td>order #99</td>\n",
       "    </tr>\n",
       "  </tbody>\n",
       "</table>\n",
       "</div>"
      ],
      "text/plain": [
       "    customer_id  salt first_name  id order_name\n",
       "90            1     4       John  90  order #90\n",
       "91            1     4       John  91  order #91\n",
       "92            1     4       John  92  order #92\n",
       "93            1     4       John  93  order #93\n",
       "94            1     4       John  94  order #94\n",
       "95            2     3        Bob  95  order #95\n",
       "96            2     3        Bob  96  order #96\n",
       "97            2     3        Bob  97  order #97\n",
       "98            2     3        Bob  98  order #98\n",
       "99            2     3        Bob  99  order #99"
      ]
     },
     "execution_count": 21,
     "metadata": {},
     "output_type": "execute_result"
    }
   ],
   "source": [
    "df = left.join(right, [\"customer_id\", \"salt\"])\n",
    "\n",
    "df.orderBy('id').toPandas().tail(10)"
   ]
  },
  {
   "cell_type": "code",
   "execution_count": 22,
   "metadata": {},
   "outputs": [
    {
     "name": "stdout",
     "output_type": "stream",
     "text": [
      "== Physical Plan ==\n",
      "*(5) Project [customer_id#122L, salt#136, first_name#123, id#126L, order_name#128]\n",
      "+- *(5) SortMergeJoin [customer_id#122L, salt#136], [customer_id#127L, salt#141], Inner\n",
      "   :- *(2) Sort [customer_id#122L ASC NULLS FIRST, salt#136 ASC NULLS FIRST], false, 0\n",
      "   :  +- Exchange hashpartitioning(customer_id#122L, salt#136, 200)\n",
      "   :     +- *(1) Filter (isnotnull(salt#136) && isnotnull(customer_id#122L))\n",
      "   :        +- *(1) Project [customer_id#122L, first_name#123, cast(((rand(-8040129551223767613) * 5.0) % 5.0) as int) AS salt#136]\n",
      "   :           +- Scan ExistingRDD[customer_id#122L,first_name#123]\n",
      "   +- *(4) Sort [customer_id#127L ASC NULLS FIRST, salt#141 ASC NULLS FIRST], false, 0\n",
      "      +- Exchange hashpartitioning(customer_id#127L, salt#141, 200)\n",
      "         +- Generate explode([0,1,2,3,4]), [id#126L, customer_id#127L, order_name#128], false, [salt#141]\n",
      "            +- *(3) Filter isnotnull(customer_id#127L)\n",
      "               +- Scan ExistingRDD[id#126L,customer_id#127L,order_name#128]\n"
     ]
    }
   ],
   "source": [
    "df.explain()"
   ]
  },
  {
   "cell_type": "markdown",
   "metadata": {},
   "source": [
    "**What Happened**:\n",
    "* We created a new `salt` column for both datasets.\n",
    "* On one of the dataset we duplicate the data so we have a row for each `salt` value.\n",
    "* When performing the join, we perform a `hashpartitioning` on `[customer_id, salt]`.\n",
    "\n",
    "**Results**:\n",
    "* When we produce a row per `salt` value, we have essentially duplicated `(num_partitions - 1) * N` rows.\n",
    "* This created more data, but allowed us to spread the data across more partitions as you can see from `hashpartitioning(customer_id, salt)`."
   ]
  },
  {
   "cell_type": "markdown",
   "metadata": {},
   "source": [
    "### Summary\n",
    "\n",
    "All to say:\n",
    "* By `salt`ing our keys, the `skewed` dataset gets divided into smaller partitions. Thus removing the skew.\n",
    "* Again we will sacrifice more resources in order to get a performance gain or a successful run.\n",
    "* We produced more data by creating `(num_partitions - 1) * N` more data for the right side.\n"
   ]
  }
 ],
 "metadata": {
  "kernelspec": {
   "display_name": "Python 3 (ipykernel)",
   "language": "python",
   "name": "python3"
  },
  "language_info": {
   "codemirror_mode": {
    "name": "ipython",
    "version": 3
   },
   "file_extension": ".py",
   "mimetype": "text/x-python",
   "name": "python",
   "nbconvert_exporter": "python",
   "pygments_lexer": "ipython3",
   "version": "3.11.7"
  }
 },
 "nbformat": 4,
 "nbformat_minor": 4
}
