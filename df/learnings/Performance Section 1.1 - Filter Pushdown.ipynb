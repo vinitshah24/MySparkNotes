{
 "cells": [
  {
   "cell_type": "markdown",
   "metadata": {},
   "source": [
    "### Library Imports"
   ]
  },
  {
   "cell_type": "code",
   "execution_count": 1,
   "metadata": {},
   "outputs": [],
   "source": [
    "from pyspark.sql import SparkSession\n",
    "from pyspark.sql import functions as F"
   ]
  },
  {
   "cell_type": "markdown",
   "metadata": {},
   "source": [
    "### Template"
   ]
  },
  {
   "cell_type": "code",
   "execution_count": 2,
   "metadata": {},
   "outputs": [],
   "source": [
    "spark = (\n",
    "    SparkSession.builder\n",
    "    .master(\"local\")\n",
    "    .appName(\"Exploring Joins\")\n",
    "    .config(\"spark.some.config.option\", \"some-value\")\n",
    "    .getOrCreate()\n",
    ")\n",
    "\n",
    "sc = spark.sparkContext"
   ]
  },
  {
   "cell_type": "markdown",
   "metadata": {},
   "source": [
    "### Initial Datasets"
   ]
  },
  {
   "cell_type": "code",
   "execution_count": 3,
   "metadata": {},
   "outputs": [
    {
     "data": {
      "text/html": [
       "<div>\n",
       "<style scoped>\n",
       "    .dataframe tbody tr th:only-of-type {\n",
       "        vertical-align: middle;\n",
       "    }\n",
       "\n",
       "    .dataframe tbody tr th {\n",
       "        vertical-align: top;\n",
       "    }\n",
       "\n",
       "    .dataframe thead th {\n",
       "        text-align: right;\n",
       "    }\n",
       "</style>\n",
       "<table border=\"1\" class=\"dataframe\">\n",
       "  <thead>\n",
       "    <tr style=\"text-align: right;\">\n",
       "      <th></th>\n",
       "      <th>id</th>\n",
       "      <th>breed_id</th>\n",
       "      <th>nickname</th>\n",
       "    </tr>\n",
       "  </thead>\n",
       "  <tbody>\n",
       "    <tr>\n",
       "      <th>0</th>\n",
       "      <td>1</td>\n",
       "      <td>1</td>\n",
       "      <td>Bear</td>\n",
       "    </tr>\n",
       "    <tr>\n",
       "      <th>1</th>\n",
       "      <td>2</td>\n",
       "      <td>1</td>\n",
       "      <td>Chewie</td>\n",
       "    </tr>\n",
       "    <tr>\n",
       "      <th>2</th>\n",
       "      <td>3</td>\n",
       "      <td>2</td>\n",
       "      <td>Roger</td>\n",
       "    </tr>\n",
       "  </tbody>\n",
       "</table>\n",
       "</div>"
      ],
      "text/plain": [
       "   id  breed_id nickname\n",
       "0   1         1     Bear\n",
       "1   2         1   Chewie\n",
       "2   3         2    Roger"
      ]
     },
     "execution_count": 3,
     "metadata": {},
     "output_type": "execute_result"
    }
   ],
   "source": [
    "pets = spark.createDataFrame(\n",
    "    [\n",
    "        (1, 1, 'Bear'),\n",
    "        (2, 1, 'Chewie'),\n",
    "        (3, 2, 'Roger'),\n",
    "    ], ['id', 'breed_id', 'nickname']\n",
    ")\n",
    "\n",
    "pets.toPandas()"
   ]
  },
  {
   "cell_type": "code",
   "execution_count": 4,
   "metadata": {},
   "outputs": [
    {
     "data": {
      "text/html": [
       "<div>\n",
       "<style scoped>\n",
       "    .dataframe tbody tr th:only-of-type {\n",
       "        vertical-align: middle;\n",
       "    }\n",
       "\n",
       "    .dataframe tbody tr th {\n",
       "        vertical-align: top;\n",
       "    }\n",
       "\n",
       "    .dataframe thead th {\n",
       "        text-align: right;\n",
       "    }\n",
       "</style>\n",
       "<table border=\"1\" class=\"dataframe\">\n",
       "  <thead>\n",
       "    <tr style=\"text-align: right;\">\n",
       "      <th></th>\n",
       "      <th>breed_id</th>\n",
       "      <th>name</th>\n",
       "      <th>average_height</th>\n",
       "    </tr>\n",
       "  </thead>\n",
       "  <tbody>\n",
       "    <tr>\n",
       "      <th>0</th>\n",
       "      <td>1</td>\n",
       "      <td>Pitbull</td>\n",
       "      <td>10</td>\n",
       "    </tr>\n",
       "    <tr>\n",
       "      <th>1</th>\n",
       "      <td>2</td>\n",
       "      <td>Corgie</td>\n",
       "      <td>20</td>\n",
       "    </tr>\n",
       "  </tbody>\n",
       "</table>\n",
       "</div>"
      ],
      "text/plain": [
       "   breed_id     name  average_height\n",
       "0         1  Pitbull              10\n",
       "1         2   Corgie              20"
      ]
     },
     "execution_count": 4,
     "metadata": {},
     "output_type": "execute_result"
    }
   ],
   "source": [
    "breeds = spark.createDataFrame(\n",
    "    [\n",
    "        (1, 'Pitbull', 10), \n",
    "        (2, 'Corgie', 20), \n",
    "    ], ['breed_id', 'name', 'average_height']\n",
    ")\n",
    "\n",
    "breeds.toPandas()"
   ]
  },
  {
   "cell_type": "markdown",
   "metadata": {},
   "source": [
    "### Filter Pushdown\n",
    "\n",
    "> `Filter pushdown` improves performance by reducing the amount of data shuffled during any dataframes transformations.\n",
    "\n",
    "Depending on your filter logic and where you place your filter code. Your Spark code will behave differently."
   ]
  },
  {
   "cell_type": "markdown",
   "metadata": {},
   "source": [
    "### Case #1: Filtering on Only One Side of the Join"
   ]
  },
  {
   "cell_type": "code",
   "execution_count": 5,
   "metadata": {},
   "outputs": [
    {
     "data": {
      "text/html": [
       "<div>\n",
       "<style scoped>\n",
       "    .dataframe tbody tr th:only-of-type {\n",
       "        vertical-align: middle;\n",
       "    }\n",
       "\n",
       "    .dataframe tbody tr th {\n",
       "        vertical-align: top;\n",
       "    }\n",
       "\n",
       "    .dataframe thead th {\n",
       "        text-align: right;\n",
       "    }\n",
       "</style>\n",
       "<table border=\"1\" class=\"dataframe\">\n",
       "  <thead>\n",
       "    <tr style=\"text-align: right;\">\n",
       "      <th></th>\n",
       "      <th>breed_id</th>\n",
       "      <th>id</th>\n",
       "      <th>nickname</th>\n",
       "      <th>name</th>\n",
       "      <th>average_height</th>\n",
       "    </tr>\n",
       "  </thead>\n",
       "  <tbody>\n",
       "    <tr>\n",
       "      <th>0</th>\n",
       "      <td>1</td>\n",
       "      <td>2</td>\n",
       "      <td>Chewie</td>\n",
       "      <td>Pitbull</td>\n",
       "      <td>10</td>\n",
       "    </tr>\n",
       "  </tbody>\n",
       "</table>\n",
       "</div>"
      ],
      "text/plain": [
       "   breed_id  id nickname     name  average_height\n",
       "0         1   2   Chewie  Pitbull              10"
      ]
     },
     "execution_count": 5,
     "metadata": {},
     "output_type": "execute_result"
    }
   ],
   "source": [
    "df = (\n",
    "    pets\n",
    "    .join(breeds, 'breed_id', 'left_outer')\n",
    "    .filter(F.col('nickname') == 'Chewie')\n",
    ")\n",
    "\n",
    "df.toPandas()"
   ]
  },
  {
   "cell_type": "code",
   "execution_count": 6,
   "metadata": {
    "scrolled": true
   },
   "outputs": [
    {
     "name": "stdout",
     "output_type": "stream",
     "text": [
      "== Physical Plan ==\n",
      "*(4) Project [breed_id#1L, id#0L, nickname#2, name#7, average_height#8L]\n",
      "+- SortMergeJoin [breed_id#1L], [breed_id#6L], LeftOuter\n",
      "   :- *(2) Sort [breed_id#1L ASC NULLS FIRST], false, 0\n",
      "   :  +- Exchange hashpartitioning(breed_id#1L, 200)\n",
      "   :     +- *(1) Filter (isnotnull(nickname#2) && (nickname#2 = Chewie))\n",
      "   :        +- Scan ExistingRDD[id#0L,breed_id#1L,nickname#2]\n",
      "   +- *(3) Sort [breed_id#6L ASC NULLS FIRST], false, 0\n",
      "      +- Exchange hashpartitioning(breed_id#6L, 200)\n",
      "         +- Scan ExistingRDD[breed_id#6L,name#7,average_height#8L]\n"
     ]
    }
   ],
   "source": [
    "df.explain()"
   ]
  },
  {
   "cell_type": "markdown",
   "metadata": {},
   "source": [
    "**What Happened:**\n",
    "\n",
    "Because the column `nickname` is only present in the `left` side of the join, only the `left` side of the join was `filtered` before the join."
   ]
  },
  {
   "cell_type": "markdown",
   "metadata": {},
   "source": [
    "### Case #2: Filter on Both Sides of the Join"
   ]
  },
  {
   "cell_type": "code",
   "execution_count": 7,
   "metadata": {},
   "outputs": [
    {
     "data": {
      "text/html": [
       "<div>\n",
       "<style scoped>\n",
       "    .dataframe tbody tr th:only-of-type {\n",
       "        vertical-align: middle;\n",
       "    }\n",
       "\n",
       "    .dataframe tbody tr th {\n",
       "        vertical-align: top;\n",
       "    }\n",
       "\n",
       "    .dataframe thead th {\n",
       "        text-align: right;\n",
       "    }\n",
       "</style>\n",
       "<table border=\"1\" class=\"dataframe\">\n",
       "  <thead>\n",
       "    <tr style=\"text-align: right;\">\n",
       "      <th></th>\n",
       "      <th>breed_id</th>\n",
       "      <th>id</th>\n",
       "      <th>nickname</th>\n",
       "      <th>name</th>\n",
       "      <th>average_height</th>\n",
       "    </tr>\n",
       "  </thead>\n",
       "  <tbody>\n",
       "    <tr>\n",
       "      <th>0</th>\n",
       "      <td>1</td>\n",
       "      <td>1</td>\n",
       "      <td>Bear</td>\n",
       "      <td>Pitbull</td>\n",
       "      <td>10</td>\n",
       "    </tr>\n",
       "    <tr>\n",
       "      <th>1</th>\n",
       "      <td>1</td>\n",
       "      <td>2</td>\n",
       "      <td>Chewie</td>\n",
       "      <td>Pitbull</td>\n",
       "      <td>10</td>\n",
       "    </tr>\n",
       "  </tbody>\n",
       "</table>\n",
       "</div>"
      ],
      "text/plain": [
       "   breed_id  id nickname     name  average_height\n",
       "0         1   1     Bear  Pitbull              10\n",
       "1         1   2   Chewie  Pitbull              10"
      ]
     },
     "execution_count": 7,
     "metadata": {},
     "output_type": "execute_result"
    }
   ],
   "source": [
    "df = (\n",
    "    pets\n",
    "    .join(breeds, 'breed_id', 'left_outer')\n",
    "    .filter(F.col('breed_id') == 1)\n",
    ")\n",
    "\n",
    "df.toPandas()"
   ]
  },
  {
   "cell_type": "code",
   "execution_count": 8,
   "metadata": {
    "scrolled": false
   },
   "outputs": [
    {
     "name": "stdout",
     "output_type": "stream",
     "text": [
      "== Physical Plan ==\n",
      "*(4) Project [breed_id#1L, id#0L, nickname#2, name#7, average_height#8L]\n",
      "+- SortMergeJoin [breed_id#1L], [breed_id#6L], LeftOuter\n",
      "   :- *(2) Sort [breed_id#1L ASC NULLS FIRST], false, 0\n",
      "   :  +- Exchange hashpartitioning(breed_id#1L, 200)\n",
      "   :     +- *(1) Filter (isnotnull(breed_id#1L) && (breed_id#1L = 1))\n",
      "   :        +- Scan ExistingRDD[id#0L,breed_id#1L,nickname#2]\n",
      "   +- *(3) Sort [breed_id#6L ASC NULLS FIRST], false, 0\n",
      "      +- Exchange hashpartitioning(breed_id#6L, 200)\n",
      "         +- Scan ExistingRDD[breed_id#6L,name#7,average_height#8L]\n"
     ]
    }
   ],
   "source": [
    "df.explain()"
   ]
  },
  {
   "cell_type": "markdown",
   "metadata": {},
   "source": [
    "**What Happened:**\n",
    "\n",
    "The column `breed_id` is present in `both` sides of the join, but only the `left` side was `filtered` before the join."
   ]
  },
  {
   "cell_type": "markdown",
   "metadata": {},
   "source": [
    "### Case #3: Filter on Both Sides of the Join #2"
   ]
  },
  {
   "cell_type": "code",
   "execution_count": 9,
   "metadata": {},
   "outputs": [
    {
     "data": {
      "text/html": [
       "<div>\n",
       "<style scoped>\n",
       "    .dataframe tbody tr th:only-of-type {\n",
       "        vertical-align: middle;\n",
       "    }\n",
       "\n",
       "    .dataframe tbody tr th {\n",
       "        vertical-align: top;\n",
       "    }\n",
       "\n",
       "    .dataframe thead th {\n",
       "        text-align: right;\n",
       "    }\n",
       "</style>\n",
       "<table border=\"1\" class=\"dataframe\">\n",
       "  <thead>\n",
       "    <tr style=\"text-align: right;\">\n",
       "      <th></th>\n",
       "      <th>breed_id</th>\n",
       "      <th>id</th>\n",
       "      <th>nickname</th>\n",
       "      <th>name</th>\n",
       "      <th>average_height</th>\n",
       "    </tr>\n",
       "  </thead>\n",
       "  <tbody>\n",
       "    <tr>\n",
       "      <th>0</th>\n",
       "      <td>1</td>\n",
       "      <td>1</td>\n",
       "      <td>Bear</td>\n",
       "      <td>Pitbull</td>\n",
       "      <td>10</td>\n",
       "    </tr>\n",
       "    <tr>\n",
       "      <th>1</th>\n",
       "      <td>1</td>\n",
       "      <td>2</td>\n",
       "      <td>Chewie</td>\n",
       "      <td>Pitbull</td>\n",
       "      <td>10</td>\n",
       "    </tr>\n",
       "  </tbody>\n",
       "</table>\n",
       "</div>"
      ],
      "text/plain": [
       "   breed_id  id nickname     name  average_height\n",
       "0         1   1     Bear  Pitbull              10\n",
       "1         1   2   Chewie  Pitbull              10"
      ]
     },
     "execution_count": 9,
     "metadata": {},
     "output_type": "execute_result"
    }
   ],
   "source": [
    "df = (\n",
    "    pets\n",
    "    .join(breeds, 'breed_id')\n",
    "    .filter(F.col('breed_id') == 1)\n",
    ")\n",
    "\n",
    "df.toPandas()"
   ]
  },
  {
   "cell_type": "code",
   "execution_count": 10,
   "metadata": {
    "scrolled": true
   },
   "outputs": [
    {
     "name": "stdout",
     "output_type": "stream",
     "text": [
      "== Physical Plan ==\n",
      "*(5) Project [breed_id#1L, id#0L, nickname#2, name#7, average_height#8L]\n",
      "+- *(5) SortMergeJoin [breed_id#1L], [breed_id#6L], Inner\n",
      "   :- *(2) Sort [breed_id#1L ASC NULLS FIRST], false, 0\n",
      "   :  +- Exchange hashpartitioning(breed_id#1L, 200)\n",
      "   :     +- *(1) Filter (isnotnull(breed_id#1L) && (breed_id#1L = 1))\n",
      "   :        +- Scan ExistingRDD[id#0L,breed_id#1L,nickname#2]\n",
      "   +- *(4) Sort [breed_id#6L ASC NULLS FIRST], false, 0\n",
      "      +- Exchange hashpartitioning(breed_id#6L, 200)\n",
      "         +- *(3) Filter (isnotnull(breed_id#6L) && (breed_id#6L = 1))\n",
      "            +- Scan ExistingRDD[breed_id#6L,name#7,average_height#8L]\n"
     ]
    }
   ],
   "source": [
    "df.explain()"
   ]
  },
  {
   "cell_type": "markdown",
   "metadata": {},
   "source": [
    "**What Happened:**\n",
    "\n",
    "The column `breed_id` is present in `both` sides of the join, and spark was able to figure out that it should perform a `filter` on both sides before the join."
   ]
  },
  {
   "cell_type": "markdown",
   "metadata": {},
   "source": [
    "### Case #4: Filter on Both Sides of the Join, Filter Beforehand"
   ]
  },
  {
   "cell_type": "code",
   "execution_count": 11,
   "metadata": {},
   "outputs": [
    {
     "data": {
      "text/html": [
       "<div>\n",
       "<style scoped>\n",
       "    .dataframe tbody tr th:only-of-type {\n",
       "        vertical-align: middle;\n",
       "    }\n",
       "\n",
       "    .dataframe tbody tr th {\n",
       "        vertical-align: top;\n",
       "    }\n",
       "\n",
       "    .dataframe thead th {\n",
       "        text-align: right;\n",
       "    }\n",
       "</style>\n",
       "<table border=\"1\" class=\"dataframe\">\n",
       "  <thead>\n",
       "    <tr style=\"text-align: right;\">\n",
       "      <th></th>\n",
       "      <th>breed_id</th>\n",
       "      <th>id</th>\n",
       "      <th>nickname</th>\n",
       "      <th>name</th>\n",
       "      <th>average_height</th>\n",
       "    </tr>\n",
       "  </thead>\n",
       "  <tbody>\n",
       "    <tr>\n",
       "      <th>0</th>\n",
       "      <td>1</td>\n",
       "      <td>1</td>\n",
       "      <td>Bear</td>\n",
       "      <td>Pitbull</td>\n",
       "      <td>10</td>\n",
       "    </tr>\n",
       "    <tr>\n",
       "      <th>1</th>\n",
       "      <td>1</td>\n",
       "      <td>2</td>\n",
       "      <td>Chewie</td>\n",
       "      <td>Pitbull</td>\n",
       "      <td>10</td>\n",
       "    </tr>\n",
       "  </tbody>\n",
       "</table>\n",
       "</div>"
      ],
      "text/plain": [
       "   breed_id  id nickname     name  average_height\n",
       "0         1   1     Bear  Pitbull              10\n",
       "1         1   2   Chewie  Pitbull              10"
      ]
     },
     "execution_count": 11,
     "metadata": {},
     "output_type": "execute_result"
    }
   ],
   "source": [
    "df = (\n",
    "    pets\n",
    "    .join(\n",
    "        breeds.filter(F.col('breed_id') == 1), \n",
    "        'breed_id', \n",
    "        'left_outer'\n",
    "    )\n",
    "    .filter(F.col('breed_id') == 1)\n",
    ")\n",
    "\n",
    "df.toPandas()"
   ]
  },
  {
   "cell_type": "code",
   "execution_count": 12,
   "metadata": {
    "scrolled": false
   },
   "outputs": [
    {
     "name": "stdout",
     "output_type": "stream",
     "text": [
      "== Physical Plan ==\n",
      "*(5) Project [breed_id#1L, id#0L, nickname#2, name#7, average_height#8L]\n",
      "+- SortMergeJoin [breed_id#1L], [breed_id#6L], LeftOuter\n",
      "   :- *(2) Sort [breed_id#1L ASC NULLS FIRST], false, 0\n",
      "   :  +- Exchange hashpartitioning(breed_id#1L, 200)\n",
      "   :     +- *(1) Filter (isnotnull(breed_id#1L) && (breed_id#1L = 1))\n",
      "   :        +- Scan ExistingRDD[id#0L,breed_id#1L,nickname#2]\n",
      "   +- *(4) Sort [breed_id#6L ASC NULLS FIRST], false, 0\n",
      "      +- Exchange hashpartitioning(breed_id#6L, 200)\n",
      "         +- *(3) Filter (isnotnull(breed_id#6L) && (breed_id#6L = 1))\n",
      "            +- Scan ExistingRDD[breed_id#6L,name#7,average_height#8L]\n"
     ]
    }
   ],
   "source": [
    "df.explain()"
   ]
  },
  {
   "cell_type": "markdown",
   "metadata": {},
   "source": [
    "**What Happened:**\n",
    "\n",
    "The column `breed_id` is present in `both` sides of the join, and both sides were `filtered` before the join."
   ]
  },
  {
   "cell_type": "markdown",
   "metadata": {},
   "source": [
    "### Summary\n",
    "* To improve join performance, we should always try to push the `filter` before the joins.\n",
    "* Spark might be smart enough to figure that the `filter` can be performed on both sides, but not always.\n",
    "* You should alway check to see if your Spark DAG is performant during a join and if any `filter`s can be pushed before the joins."
   ]
  }
 ],
 "metadata": {
  "kernelspec": {
   "display_name": "Python 2",
   "language": "python",
   "name": "python2"
  },
  "language_info": {
   "codemirror_mode": {
    "name": "ipython",
    "version": 2
   },
   "file_extension": ".py",
   "mimetype": "text/x-python",
   "name": "python",
   "nbconvert_exporter": "python",
   "pygments_lexer": "ipython2",
   "version": "2.7.15"
  }
 },
 "nbformat": 4,
 "nbformat_minor": 2
}
