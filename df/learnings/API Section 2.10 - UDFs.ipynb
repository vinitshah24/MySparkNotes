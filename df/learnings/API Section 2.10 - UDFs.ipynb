{
 "cells": [
  {
   "cell_type": "markdown",
   "metadata": {},
   "source": [
    "### Library Imports"
   ]
  },
  {
   "cell_type": "code",
   "execution_count": 1,
   "metadata": {},
   "outputs": [],
   "source": [
    "from pyspark.sql import SparkSession\n",
    "from pyspark.sql import types as T\n",
    "\n",
    "from pyspark.sql import functions as F\n",
    "\n",
    "from datetime import datetime\n",
    "from decimal import Decimal"
   ]
  },
  {
   "cell_type": "markdown",
   "metadata": {},
   "source": [
    "### Template"
   ]
  },
  {
   "cell_type": "code",
   "execution_count": 2,
   "metadata": {},
   "outputs": [],
   "source": [
    "spark = (\n",
    "    SparkSession.builder\n",
    "    .master(\"local\")\n",
    "    .appName(\"Section 2.10 - Spark Functions aren't Enough, I Need my Own!\")\n",
    "    .config(\"spark.some.config.option\", \"some-value\")\n",
    "    .getOrCreate()\n",
    ")\n",
    "\n",
    "sc = spark.sparkContext\n",
    "\n",
    "import os\n",
    "\n",
    "data_path = \"/data/pets.csv\"\n",
    "base_path = os.path.dirname(os.getcwd())\n",
    "path = base_path + data_path"
   ]
  },
  {
   "cell_type": "code",
   "execution_count": 3,
   "metadata": {
    "scrolled": true
   },
   "outputs": [
    {
     "data": {
      "text/html": [
       "<div>\n",
       "<style scoped>\n",
       "    .dataframe tbody tr th:only-of-type {\n",
       "        vertical-align: middle;\n",
       "    }\n",
       "\n",
       "    .dataframe tbody tr th {\n",
       "        vertical-align: top;\n",
       "    }\n",
       "\n",
       "    .dataframe thead th {\n",
       "        text-align: right;\n",
       "    }\n",
       "</style>\n",
       "<table border=\"1\" class=\"dataframe\">\n",
       "  <thead>\n",
       "    <tr style=\"text-align: right;\">\n",
       "      <th></th>\n",
       "      <th>id</th>\n",
       "      <th>breed_id</th>\n",
       "      <th>nickname</th>\n",
       "      <th>birthday</th>\n",
       "      <th>age</th>\n",
       "      <th>color</th>\n",
       "    </tr>\n",
       "  </thead>\n",
       "  <tbody>\n",
       "    <tr>\n",
       "      <th>0</th>\n",
       "      <td>1</td>\n",
       "      <td>1</td>\n",
       "      <td>King</td>\n",
       "      <td>2014-11-22 12:30:31</td>\n",
       "      <td>5</td>\n",
       "      <td>brown</td>\n",
       "    </tr>\n",
       "    <tr>\n",
       "      <th>1</th>\n",
       "      <td>2</td>\n",
       "      <td>3</td>\n",
       "      <td>Argus</td>\n",
       "      <td>2016-11-22 10:05:10</td>\n",
       "      <td>10</td>\n",
       "      <td>None</td>\n",
       "    </tr>\n",
       "    <tr>\n",
       "      <th>2</th>\n",
       "      <td>3</td>\n",
       "      <td>1</td>\n",
       "      <td>Chewie</td>\n",
       "      <td>2016-11-22 10:05:10</td>\n",
       "      <td>15</td>\n",
       "      <td>None</td>\n",
       "    </tr>\n",
       "    <tr>\n",
       "      <th>3</th>\n",
       "      <td>3</td>\n",
       "      <td>2</td>\n",
       "      <td>Maple</td>\n",
       "      <td>2018-11-22 10:05:10</td>\n",
       "      <td>17</td>\n",
       "      <td>white</td>\n",
       "    </tr>\n",
       "  </tbody>\n",
       "</table>\n",
       "</div>"
      ],
      "text/plain": [
       "  id breed_id nickname             birthday age  color\n",
       "0  1        1     King  2014-11-22 12:30:31   5  brown\n",
       "1  2        3    Argus  2016-11-22 10:05:10  10   None\n",
       "2  3        1   Chewie  2016-11-22 10:05:10  15   None\n",
       "3  3        2    Maple  2018-11-22 10:05:10  17  white"
      ]
     },
     "execution_count": 3,
     "metadata": {},
     "output_type": "execute_result"
    }
   ],
   "source": [
    "pets = spark.read.csv(path, header=True)\n",
    "pets.toPandas()"
   ]
  },
  {
   "cell_type": "markdown",
   "metadata": {},
   "source": [
    "### Spark Functions aren't Enough, I Need my Own!\n",
    "\n",
    "What happens when you can't find functions that can perform what you want? Try looking again 🤪. But if this is really the case, your last resort can be to implement an `udf` short for `user defined function`.\n",
    "\n",
    "These are functions written in python code that take a subset of columns as the input and returns a new column back. There are multiple steps in creating a `udf`, we'll walk through one and decompose it step by step. "
   ]
  },
  {
   "cell_type": "markdown",
   "metadata": {},
   "source": [
    "### Option 1: Steps"
   ]
  },
  {
   "cell_type": "code",
   "execution_count": 4,
   "metadata": {},
   "outputs": [
    {
     "name": "stdout",
     "output_type": "stream",
     "text": [
      "Hello World!\n",
      "HELLO WORLD!\n"
     ]
    },
    {
     "data": {
      "text/html": [
       "<div>\n",
       "<style scoped>\n",
       "    .dataframe tbody tr th:only-of-type {\n",
       "        vertical-align: middle;\n",
       "    }\n",
       "\n",
       "    .dataframe tbody tr th {\n",
       "        vertical-align: top;\n",
       "    }\n",
       "\n",
       "    .dataframe thead th {\n",
       "        text-align: right;\n",
       "    }\n",
       "</style>\n",
       "<table border=\"1\" class=\"dataframe\">\n",
       "  <thead>\n",
       "    <tr style=\"text-align: right;\">\n",
       "      <th></th>\n",
       "      <th>id</th>\n",
       "      <th>breed_id</th>\n",
       "      <th>nickname</th>\n",
       "      <th>birthday</th>\n",
       "      <th>age</th>\n",
       "      <th>color</th>\n",
       "      <th>nickname_uppercase</th>\n",
       "      <th>color_uppercase</th>\n",
       "      <th>color_uppercase_trimmed</th>\n",
       "    </tr>\n",
       "  </thead>\n",
       "  <tbody>\n",
       "    <tr>\n",
       "      <th>0</th>\n",
       "      <td>1</td>\n",
       "      <td>1</td>\n",
       "      <td>King</td>\n",
       "      <td>2014-11-22 12:30:31</td>\n",
       "      <td>5</td>\n",
       "      <td>brown</td>\n",
       "      <td>KI</td>\n",
       "      <td>BR</td>\n",
       "      <td>BRO</td>\n",
       "    </tr>\n",
       "    <tr>\n",
       "      <th>1</th>\n",
       "      <td>2</td>\n",
       "      <td>3</td>\n",
       "      <td>Argus</td>\n",
       "      <td>2016-11-22 10:05:10</td>\n",
       "      <td>10</td>\n",
       "      <td>None</td>\n",
       "      <td>AR</td>\n",
       "      <td>None</td>\n",
       "      <td>None</td>\n",
       "    </tr>\n",
       "    <tr>\n",
       "      <th>2</th>\n",
       "      <td>3</td>\n",
       "      <td>1</td>\n",
       "      <td>Chewie</td>\n",
       "      <td>2016-11-22 10:05:10</td>\n",
       "      <td>15</td>\n",
       "      <td>None</td>\n",
       "      <td>CH</td>\n",
       "      <td>None</td>\n",
       "      <td>None</td>\n",
       "    </tr>\n",
       "    <tr>\n",
       "      <th>3</th>\n",
       "      <td>3</td>\n",
       "      <td>2</td>\n",
       "      <td>Maple</td>\n",
       "      <td>2018-11-22 10:05:10</td>\n",
       "      <td>17</td>\n",
       "      <td>white</td>\n",
       "      <td>MA</td>\n",
       "      <td>WH</td>\n",
       "      <td>WHI</td>\n",
       "    </tr>\n",
       "  </tbody>\n",
       "</table>\n",
       "</div>"
      ],
      "text/plain": [
       "  id breed_id nickname             birthday age  color nickname_uppercase  \\\n",
       "0  1        1     King  2014-11-22 12:30:31   5  brown                 KI   \n",
       "1  2        3    Argus  2016-11-22 10:05:10  10   None                 AR   \n",
       "2  3        1   Chewie  2016-11-22 10:05:10  15   None                 CH   \n",
       "3  3        2    Maple  2018-11-22 10:05:10  17  white                 MA   \n",
       "\n",
       "  color_uppercase color_uppercase_trimmed  \n",
       "0              BR                     BRO  \n",
       "1            None                    None  \n",
       "2            None                    None  \n",
       "3              WH                     WHI  "
      ]
     },
     "execution_count": 4,
     "metadata": {},
     "output_type": "execute_result"
    }
   ],
   "source": [
    "# Step 1: Create your own function\n",
    "def uppercase_words(word, cuttoff_length=2):\n",
    "    return word.upper()[:cuttoff_length] if word else None\n",
    "\n",
    "s = 'Hello World!'\n",
    "print(s)\n",
    "print(uppercase_words(s, 20))\n",
    "\n",
    "# Step 2: Register the udf as a spark udf\n",
    "uppercase_words_udf = F.udf(uppercase_words, T.StringType())\n",
    "\n",
    "# Step 3: Use it!\n",
    "(\n",
    "    pets\n",
    "    .withColumn('nickname_uppercase', uppercase_words_udf(F.col('nickname')))\n",
    "    .withColumn('color_uppercase', uppercase_words_udf(F.col('color')))\n",
    "    .withColumn('color_uppercase_trimmed', uppercase_words_udf(F.col('color'), F.lit(3)))\n",
    "    .toPandas()\n",
    ")"
   ]
  },
  {
   "cell_type": "markdown",
   "metadata": {},
   "source": [
    "**What Happened?**\n",
    "\n",
    "Although the upper function is defined in the spark `fuctions` library it still serves as a good example. Let's breakdown the steps involved:\n",
    "1. Create the function that you want (`uppercase_words`), remembering that only `spark columnar objects` are accepted as input arguments to the function. This means if you want to use other values, you will need to cast it to a column object using `F.lit()` from the previous sections.\n",
    "2. Register the python function as a spark function, and specify the spark return type. The format is like so `F.udf(python_function, spark_return_type)`.\n",
    "3. Now you can use the function!"
   ]
  },
  {
   "cell_type": "markdown",
   "metadata": {},
   "source": [
    "### Option 2: 1 Less Step"
   ]
  },
  {
   "cell_type": "code",
   "execution_count": 5,
   "metadata": {},
   "outputs": [
    {
     "data": {
      "text/html": [
       "<div>\n",
       "<style scoped>\n",
       "    .dataframe tbody tr th:only-of-type {\n",
       "        vertical-align: middle;\n",
       "    }\n",
       "\n",
       "    .dataframe tbody tr th {\n",
       "        vertical-align: top;\n",
       "    }\n",
       "\n",
       "    .dataframe thead th {\n",
       "        text-align: right;\n",
       "    }\n",
       "</style>\n",
       "<table border=\"1\" class=\"dataframe\">\n",
       "  <thead>\n",
       "    <tr style=\"text-align: right;\">\n",
       "      <th></th>\n",
       "      <th>id</th>\n",
       "      <th>breed_id</th>\n",
       "      <th>nickname</th>\n",
       "      <th>birthday</th>\n",
       "      <th>age</th>\n",
       "      <th>color</th>\n",
       "      <th>color_uppercase</th>\n",
       "    </tr>\n",
       "  </thead>\n",
       "  <tbody>\n",
       "    <tr>\n",
       "      <th>0</th>\n",
       "      <td>1</td>\n",
       "      <td>1</td>\n",
       "      <td>King</td>\n",
       "      <td>2014-11-22 12:30:31</td>\n",
       "      <td>5</td>\n",
       "      <td>brown</td>\n",
       "      <td>BR</td>\n",
       "    </tr>\n",
       "    <tr>\n",
       "      <th>1</th>\n",
       "      <td>2</td>\n",
       "      <td>3</td>\n",
       "      <td>Argus</td>\n",
       "      <td>2016-11-22 10:05:10</td>\n",
       "      <td>10</td>\n",
       "      <td>None</td>\n",
       "      <td>None</td>\n",
       "    </tr>\n",
       "    <tr>\n",
       "      <th>2</th>\n",
       "      <td>3</td>\n",
       "      <td>1</td>\n",
       "      <td>Chewie</td>\n",
       "      <td>2016-11-22 10:05:10</td>\n",
       "      <td>15</td>\n",
       "      <td>None</td>\n",
       "      <td>None</td>\n",
       "    </tr>\n",
       "    <tr>\n",
       "      <th>3</th>\n",
       "      <td>3</td>\n",
       "      <td>2</td>\n",
       "      <td>Maple</td>\n",
       "      <td>2018-11-22 10:05:10</td>\n",
       "      <td>17</td>\n",
       "      <td>white</td>\n",
       "      <td>WH</td>\n",
       "    </tr>\n",
       "  </tbody>\n",
       "</table>\n",
       "</div>"
      ],
      "text/plain": [
       "  id breed_id nickname             birthday age  color color_uppercase\n",
       "0  1        1     King  2014-11-22 12:30:31   5  brown              BR\n",
       "1  2        3    Argus  2016-11-22 10:05:10  10   None            None\n",
       "2  3        1   Chewie  2016-11-22 10:05:10  15   None            None\n",
       "3  3        2    Maple  2018-11-22 10:05:10  17  white              WH"
      ]
     },
     "execution_count": 5,
     "metadata": {},
     "output_type": "execute_result"
    }
   ],
   "source": [
    "from pyspark.sql.functions import udf\n",
    "\n",
    "# Step 1: Create and register your own function\n",
    "@udf('string', 'int')\n",
    "def uppercase_words(word, cuttoff_length=2):\n",
    "    return word.upper()[:cuttoff_length] if word else None\n",
    "\n",
    "# Step 2: Use it!\n",
    "(\n",
    "    pets\n",
    "    .withColumn('color_uppercase', uppercase_words_udf(F.col('color')))\n",
    "    .toPandas()\n",
    ")"
   ]
  },
  {
   "cell_type": "markdown",
   "metadata": {},
   "source": [
    "**What Happened?**\n",
    "\n",
    "The `udf` function can also be used as a decorator to register your python functions as spark functions. \n",
    "\n",
    "Where the inputs are the types of the arguments to the `udf`."
   ]
  },
  {
   "cell_type": "markdown",
   "metadata": {},
   "source": [
    "### The Ugly Part of `udf`s\n",
    "\n",
    "**TL;DR** `Spark function`s are executed on the JVM, while `Python UDF`s are executed in Python. This will require extra python memory for your spark application (will explain in Chapter 6) and more passing of data between the JVM and Python.\n",
    "\n",
    "If your function can be performed with the spark `functions`, you should alway use the spark `functions`. `udf`s perform very poorly compared to the spark `functions`. This is a greate response that encapsulates the reason as to why:\n",
    "\n",
    "> The main reasons are already enumerated above and can be reduced to a simple fact that Spark DataFrame is natively a JVM structure and standard access methods are implemented by simple calls to Java API. UDF from the other hand are implemented in Python and require moving data back and forth.\n",
    ">\n",
    "> While PySpark in general requires data movements between JVM and Python, in case of low level RDD API it typically doesn't require expensive serde activity. Spark SQL adds additional cost of serialization and serialization as well cost of moving data from and to unsafe representation on JVM. The later one is specific to all UDFs (Python, Scala and Java) but the former one is specific to non-native languages.\n",
    ">\n",
    "> Unlike UDFs, Spark SQL functions operate directly on JVM and typically are well integrated with both Catalyst and Tungsten. It means these can be optimized in the execution plan and most of the time can benefit from codgen and other Tungsten optimizations. Moreover these can operate on data in its \"native\" representation.\n",
    ">\n",
    "> So in a sense the problem here is that Python UDF has to bring data to the code while SQL expressions go the other way around.\n",
    "\n",
    "source: https://stackoverflow.com/questions/38296609/spark-functions-vs-udf-performance"
   ]
  },
  {
   "cell_type": "markdown",
   "metadata": {},
   "source": [
    "### Option 3: Pandas Vectorized `UDF`s"
   ]
  },
  {
   "cell_type": "code",
   "execution_count": 6,
   "metadata": {},
   "outputs": [],
   "source": [
    "# TODO: https://databricks.com/blog/2017/10/30/introducing-vectorized-udfs-for-pyspark.html"
   ]
  },
  {
   "cell_type": "markdown",
   "metadata": {},
   "source": [
    "### Summary\n",
    "\n",
    "* We learnt how to use a python function within spark, called `udf`s.\n",
    "* We learnt how to pass non-column objects into the function by using knowledge gained from previous chapters.\n",
    "* We learnt about the bad parts of `udf`s and their performance issues."
   ]
  }
 ],
 "metadata": {
  "kernelspec": {
   "display_name": "Python 3 (ipykernel)",
   "language": "python",
   "name": "python3"
  },
  "language_info": {
   "codemirror_mode": {
    "name": "ipython",
    "version": 3
   },
   "file_extension": ".py",
   "mimetype": "text/x-python",
   "name": "python",
   "nbconvert_exporter": "python",
   "pygments_lexer": "ipython3",
   "version": "3.11.7"
  }
 },
 "nbformat": 4,
 "nbformat_minor": 4
}
