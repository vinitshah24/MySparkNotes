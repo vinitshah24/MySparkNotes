{
 "cells": [
  {
   "cell_type": "markdown",
   "metadata": {},
   "source": [
    "### Library Imports"
   ]
  },
  {
   "cell_type": "code",
   "execution_count": 1,
   "metadata": {},
   "outputs": [],
   "source": [
    "from pyspark.sql import SparkSession\n",
    "from pyspark.sql import types as T\n",
    "\n",
    "from pyspark.sql import functions as F\n",
    "\n",
    "from datetime import datetime\n",
    "from decimal import Decimal"
   ]
  },
  {
   "cell_type": "markdown",
   "metadata": {},
   "source": [
    "### Template"
   ]
  },
  {
   "cell_type": "code",
   "execution_count": 2,
   "metadata": {},
   "outputs": [],
   "source": [
    "spark = (\n",
    "    SparkSession.builder\n",
    "    .master(\"local\")\n",
    "    .appName(\"Section 1.1 - Struct Types\")\n",
    "    .config(\"spark.some.config.option\", \"some-value\")\n",
    "    .getOrCreate()\n",
    ")\n",
    "\n",
    "sc = spark.sparkContext\n",
    "\n",
    "import os\n",
    "\n",
    "data_path = \"/data/pets.csv\"\n",
    "base_path = os.path.dirname(os.getcwd())\n",
    "path = base_path + data_path"
   ]
  },
  {
   "cell_type": "code",
   "execution_count": 3,
   "metadata": {},
   "outputs": [
    {
     "name": "stdout",
     "output_type": "stream",
     "text": [
      "+---+--------+--------+-------------------+---+-----+------+\n",
      "| id|breed_id|nickname|           birthday|age|color|weight|\n",
      "+---+--------+--------+-------------------+---+-----+------+\n",
      "|  1|       1|    King|2014-11-22 12:30:31|  5|brown|  10.0|\n",
      "|  2|       3|   Argus|2016-11-22 10:05:10| 10| null|   5.5|\n",
      "|  3|       1|  Chewie|2016-11-22 10:05:10| 15| null|    12|\n",
      "|  3|       2|   Maple|2018-11-22 10:05:10| 17|white|   3.4|\n",
      "|  4|       2|    null|2019-01-01 10:05:10| 13| null|    10|\n",
      "+---+--------+--------+-------------------+---+-----+------+\n",
      "\n"
     ]
    }
   ],
   "source": [
    "pets = spark.read.csv(path, header=True)\n",
    "pets.show()"
   ]
  },
  {
   "cell_type": "markdown",
   "metadata": {},
   "source": [
    "### Struct Types\n",
    "\n",
    "What are they used for? TODO"
   ]
  },
  {
   "cell_type": "code",
   "execution_count": 4,
   "metadata": {},
   "outputs": [
    {
     "name": "stdout",
     "output_type": "stream",
     "text": [
      "+---+--------+--------+-------------------+---+-----+------+---------------------------------------+--------------------+\n",
      "|id |breed_id|nickname|birthday           |age|color|weight|struct_col                             |nickname_from_struct|\n",
      "+---+--------+--------+-------------------+---+-----+------+---------------------------------------+--------------------+\n",
      "|1  |1       |King    |2014-11-22 12:30:31|5  |brown|10.0  |{King, 2014-11-22 12:30:31, 5, brown}  |King                |\n",
      "|2  |3       |Argus   |2016-11-22 10:05:10|10 |null |5.5   |{Argus, 2016-11-22 10:05:10, 10, null} |Argus               |\n",
      "|3  |1       |Chewie  |2016-11-22 10:05:10|15 |null |12    |{Chewie, 2016-11-22 10:05:10, 15, null}|Chewie              |\n",
      "|3  |2       |Maple   |2018-11-22 10:05:10|17 |white|3.4   |{Maple, 2018-11-22 10:05:10, 17, white}|Maple               |\n",
      "|4  |2       |null    |2019-01-01 10:05:10|13 |null |10    |{null, 2019-01-01 10:05:10, 13, null}  |null                |\n",
      "+---+--------+--------+-------------------+---+-----+------+---------------------------------------+--------------------+\n",
      "\n"
     ]
    }
   ],
   "source": [
    "(\n",
    "    pets\n",
    "    .withColumn('struct_col', F.struct('nickname', 'birthday', 'age', 'color'))\n",
    "    .withColumn('nickname_from_struct', F.col('struct_col').nickname)\n",
    "    .show(truncate=False)\n",
    ")"
   ]
  },
  {
   "cell_type": "markdown",
   "metadata": {},
   "source": [
    "**What Happened?**\n",
    "\n",
    "We created a `struct` type column consisting of the columns `'nickname', 'birthday', 'age', 'color'`. Then we accessed a member `nickname` from the struct."
   ]
  },
  {
   "cell_type": "markdown",
   "metadata": {},
   "source": [
    "### Summary\n",
    "\n",
    "* TODO: Fix a use-case.\n",
    "* It is pretty easy creating and accessing `struct` datatypes."
   ]
  }
 ],
 "metadata": {
  "kernelspec": {
   "display_name": "Python 3 (ipykernel)",
   "language": "python",
   "name": "python3"
  },
  "language_info": {
   "codemirror_mode": {
    "name": "ipython",
    "version": 3
   },
   "file_extension": ".py",
   "mimetype": "text/x-python",
   "name": "python",
   "nbconvert_exporter": "python",
   "pygments_lexer": "ipython3",
   "version": "3.11.7"
  }
 },
 "nbformat": 4,
 "nbformat_minor": 4
}
