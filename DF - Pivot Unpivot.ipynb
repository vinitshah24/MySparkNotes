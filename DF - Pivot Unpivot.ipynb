{
 "cells": [
  {
   "cell_type": "code",
   "execution_count": 1,
   "id": "73855f46",
   "metadata": {},
   "outputs": [],
   "source": [
    "import sys\n",
    "import os"
   ]
  },
  {
   "cell_type": "code",
   "execution_count": 2,
   "id": "0c9d24a3",
   "metadata": {},
   "outputs": [
    {
     "data": {
      "text/plain": [
       "'C:\\\\Program Files\\\\Java\\\\jdk1.8.0_311'"
      ]
     },
     "execution_count": 2,
     "metadata": {},
     "output_type": "execute_result"
    }
   ],
   "source": [
    "os.environ.get('JAVA_HOME')"
   ]
  },
  {
   "cell_type": "code",
   "execution_count": 3,
   "id": "96eacb8a",
   "metadata": {},
   "outputs": [],
   "source": [
    "import findspark\n",
    "findspark.init()"
   ]
  },
  {
   "cell_type": "code",
   "execution_count": 4,
   "id": "1cbdeb9a",
   "metadata": {},
   "outputs": [],
   "source": [
    "from pyspark.sql import SparkSession\n",
    "from pyspark.sql.functions import *\n",
    "from pyspark.sql.types import *"
   ]
  },
  {
   "cell_type": "code",
   "execution_count": 5,
   "id": "f25b345e",
   "metadata": {},
   "outputs": [],
   "source": [
    "spark = SparkSession.builder.master(\"local[4]\").appName(\"SparkSQL\").getOrCreate()"
   ]
  },
  {
   "cell_type": "code",
   "execution_count": 6,
   "id": "afbb349d",
   "metadata": {},
   "outputs": [],
   "source": [
    "data = ((\"Banana\", 1000, \"USA\"), \n",
    "        (\"Carrots\", 1500, \"USA\"),\n",
    "        (\"Beans\", 1600, \"USA\"), \n",
    "        (\"Orange\", 2000, \"USA\"),\n",
    "        (\"Orange\", 2000, \"USA\"), \n",
    "        (\"Banana\", 400, \"China\"),\n",
    "        (\"Carrots\", 1200, \"China\"), \n",
    "        (\"Beans\", 1500, \"China\"),\n",
    "        (\"Orange\", 4000, \"China\"), \n",
    "        (\"Banana\", 2000, \"Canada\"),\n",
    "        (\"Carrots\", 2000, \"Canada\"), \n",
    "        (\"Beans\", 2000, \"Mexico\"))\n",
    "rdd = spark.sparkContext.parallelize(data)"
   ]
  },
  {
   "cell_type": "code",
   "execution_count": 7,
   "id": "2ecb18f7",
   "metadata": {},
   "outputs": [
    {
     "data": {
      "text/plain": [
       "[('Banana', 1000, 'USA'),\n",
       " ('Carrots', 1500, 'USA'),\n",
       " ('Beans', 1600, 'USA'),\n",
       " ('Orange', 2000, 'USA'),\n",
       " ('Orange', 2000, 'USA')]"
      ]
     },
     "execution_count": 7,
     "metadata": {},
     "output_type": "execute_result"
    }
   ],
   "source": [
    "rdd.take(5)"
   ]
  },
  {
   "cell_type": "code",
   "execution_count": 9,
   "id": "680b3b2c",
   "metadata": {},
   "outputs": [
    {
     "name": "stdout",
     "output_type": "stream",
     "text": [
      "+-------+------+-------+\n",
      "|Product|Amount|Country|\n",
      "+-------+------+-------+\n",
      "| Banana|  1000|    USA|\n",
      "|Carrots|  1500|    USA|\n",
      "|  Beans|  1600|    USA|\n",
      "| Orange|  2000|    USA|\n",
      "| Orange|  2000|    USA|\n",
      "| Banana|   400|  China|\n",
      "|Carrots|  1200|  China|\n",
      "|  Beans|  1500|  China|\n",
      "| Orange|  4000|  China|\n",
      "| Banana|  2000| Canada|\n",
      "|Carrots|  2000| Canada|\n",
      "|  Beans|  2000| Mexico|\n",
      "+-------+------+-------+\n",
      "\n"
     ]
    }
   ],
   "source": [
    "df = rdd.toDF([\"Product\", \"Amount\", \"Country\"])\n",
    "df.show()"
   ]
  },
  {
   "cell_type": "code",
   "execution_count": 12,
   "id": "4a422d9e",
   "metadata": {
    "scrolled": true
   },
   "outputs": [
    {
     "name": "stdout",
     "output_type": "stream",
     "text": [
      "+-------+------+-----+-------+------+\n",
      "|Country|Banana|Beans|Carrots|Orange|\n",
      "+-------+------+-----+-------+------+\n",
      "|  China|   400| 1500|   1200|  4000|\n",
      "|    USA|  1000| 1600|   1500|  4000|\n",
      "| Mexico|  null| 2000|   null|  null|\n",
      "| Canada|  2000| null|   2000|  null|\n",
      "+-------+------+-----+-------+------+\n",
      "\n",
      "Execution time: 9.09967827796936\n"
     ]
    }
   ],
   "source": [
    "import time\n",
    "start_time = time.time()\n",
    "df.groupBy(\"Country\").pivot(\"Product\").sum(\"Amount\").show()\n",
    "print(f\"Execution time: {time.time() - start_time}\")"
   ]
  },
  {
   "cell_type": "code",
   "execution_count": 23,
   "id": "24c7312d",
   "metadata": {},
   "outputs": [
    {
     "data": {
      "text/plain": [
       "['Beans', 'Banana', 'Carrots', 'Orange']"
      ]
     },
     "execution_count": 23,
     "metadata": {},
     "output_type": "execute_result"
    }
   ],
   "source": [
    "products = df.select(\"Product\").distinct().rdd.map(lambda row : row[0]).collect()\n",
    "products"
   ]
  },
  {
   "cell_type": "markdown",
   "id": "1ca92313",
   "metadata": {},
   "source": [
    "## New Optimized Approach\n",
    "Spark 2.0 on-wards performance has been improved on Pivot. Pivot is a costly operation. Hence, to enhance performance, provide column data (if known) as an argument to function"
   ]
  },
  {
   "cell_type": "code",
   "execution_count": 24,
   "id": "2d06a456",
   "metadata": {},
   "outputs": [
    {
     "name": "stdout",
     "output_type": "stream",
     "text": [
      "+-------+-----+------+-------+------+\n",
      "|Country|Beans|Banana|Carrots|Orange|\n",
      "+-------+-----+------+-------+------+\n",
      "|  China| 1500|   400|   1200|  4000|\n",
      "|    USA| 1600|  1000|   1500|  4000|\n",
      "| Mexico| 2000|  null|   null|  null|\n",
      "| Canada| null|  2000|   2000|  null|\n",
      "+-------+-----+------+-------+------+\n",
      "\n",
      "Execution time: 4.363990068435669\n"
     ]
    }
   ],
   "source": [
    "import time\n",
    "start_time = time.time()\n",
    "df.groupBy(\"Country\").pivot(\"Product\", products).sum(\"Amount\").show()\n",
    "print(f\"Execution time: {time.time() - start_time}\")"
   ]
  },
  {
   "cell_type": "markdown",
   "id": "502833c4",
   "metadata": {},
   "source": [
    "## Unpivot"
   ]
  },
  {
   "cell_type": "code",
   "execution_count": 27,
   "id": "747dadcb",
   "metadata": {},
   "outputs": [
    {
     "name": "stdout",
     "output_type": "stream",
     "text": [
      "+-------+-------+-----+\n",
      "|Country|Country|Total|\n",
      "+-------+-------+-----+\n",
      "|  China| Banana|  400|\n",
      "|  China|  Beans| 1500|\n",
      "|  China|Carrots| 1200|\n",
      "|  China| Orange| 4000|\n",
      "|    USA| Banana| 1000|\n",
      "|    USA|  Beans| 1600|\n",
      "|    USA|Carrots| 1500|\n",
      "|    USA| Orange| 4000|\n",
      "| Mexico|  Beans| 2000|\n",
      "| Canada| Banana| 2000|\n",
      "| Canada|Carrots| 2000|\n",
      "+-------+-------+-----+\n",
      "\n"
     ]
    }
   ],
   "source": [
    "unpivoted_df = pivoted_df \\\n",
    "    .selectExpr(\"Country\", \"stack(4, 'Banana', Banana, 'Beans', Beans, 'Carrots', Carrots, 'Orange', Orange) as (Country, Total)\") \\\n",
    "    .where(\"Total is not null\")\n",
    "unpivoted_df.show()"
   ]
  },
  {
   "cell_type": "code",
   "execution_count": null,
   "id": "eda273d4",
   "metadata": {},
   "outputs": [],
   "source": []
  }
 ],
 "metadata": {
  "kernelspec": {
   "display_name": "Python 3 (ipykernel)",
   "language": "python",
   "name": "python3"
  },
  "language_info": {
   "codemirror_mode": {
    "name": "ipython",
    "version": 3
   },
   "file_extension": ".py",
   "mimetype": "text/x-python",
   "name": "python",
   "nbconvert_exporter": "python",
   "pygments_lexer": "ipython3",
   "version": "3.9.13"
  }
 },
 "nbformat": 4,
 "nbformat_minor": 5
}
