{
 "cells": [
  {
   "cell_type": "code",
   "execution_count": 2,
   "id": "73855f46",
   "metadata": {},
   "outputs": [],
   "source": [
    "import sys\n",
    "import os"
   ]
  },
  {
   "cell_type": "code",
   "execution_count": 3,
   "id": "0c9d24a3",
   "metadata": {},
   "outputs": [
    {
     "data": {
      "text/plain": [
       "'C:\\\\Program Files\\\\Java\\\\jdk1.8.0_311'"
      ]
     },
     "execution_count": 3,
     "metadata": {},
     "output_type": "execute_result"
    }
   ],
   "source": [
    "os.environ.get('JAVA_HOME')"
   ]
  },
  {
   "cell_type": "code",
   "execution_count": 4,
   "id": "96eacb8a",
   "metadata": {},
   "outputs": [],
   "source": [
    "import findspark\n",
    "findspark.init()"
   ]
  },
  {
   "cell_type": "code",
   "execution_count": 5,
   "id": "1cbdeb9a",
   "metadata": {},
   "outputs": [],
   "source": [
    "from pyspark.sql import SparkSession\n",
    "from pyspark.sql.functions import *\n",
    "from pyspark.sql.types import *\n",
    "import numpy as np"
   ]
  },
  {
   "cell_type": "markdown",
   "id": "e9dcb574",
   "metadata": {},
   "source": [
    "# FIFO Scheduling"
   ]
  },
  {
   "cell_type": "code",
   "execution_count": null,
   "id": "f25b345e",
   "metadata": {},
   "outputs": [],
   "source": [
    "spark = SparkSession.builder \\\n",
    "            .appName(\"FIFOScheduler\") \\\n",
    "            .master(\"local[*]\") \\\n",
    "            .config(\"spark.sql.autoBroadcastJoinThreshold\", \"10\") \\\n",
    "            .getOrCreate()"
   ]
  },
  {
   "cell_type": "code",
   "execution_count": null,
   "id": "7865ae50",
   "metadata": {},
   "outputs": [],
   "source": [
    "airport_df = spark.read.json(\"data/airlines_aiport.json\")\n",
    "flight_df = spark.read.json(\"data/airlines_flight.json\")"
   ]
  },
  {
   "cell_type": "code",
   "execution_count": null,
   "id": "fd036edc",
   "metadata": {},
   "outputs": [],
   "source": [
    "airport_df.join(flight_df, \"id\", \"inner\").show(5)"
   ]
  },
  {
   "cell_type": "code",
   "execution_count": null,
   "id": "0719e4dd",
   "metadata": {},
   "outputs": [],
   "source": [
    "spark.stop()"
   ]
  },
  {
   "cell_type": "markdown",
   "id": "2bdfde1b",
   "metadata": {},
   "source": [
    "# Fair Scheduling"
   ]
  },
  {
   "cell_type": "code",
   "execution_count": 6,
   "id": "6bf58d62",
   "metadata": {},
   "outputs": [],
   "source": [
    "spark = SparkSession \\\n",
    "        .builder \\\n",
    "        .appName(\"FairSchedulerApp\") \\\n",
    "        .master(\"local[3]\") \\\n",
    "        .config(\"spark.sql.autoBroadcastJoinThreshold\", \"50\") \\\n",
    "        .config(\"spark.scheduler.mode\", \"FAIR\") \\\n",
    "        .getOrCreate()"
   ]
  },
  {
   "cell_type": "code",
   "execution_count": 7,
   "id": "4d34bd5a",
   "metadata": {},
   "outputs": [],
   "source": [
    "import threading"
   ]
  },
  {
   "cell_type": "code",
   "execution_count": 8,
   "id": "dbcd822a",
   "metadata": {},
   "outputs": [],
   "source": [
    "jobs = []\n",
    "output = []"
   ]
  },
  {
   "cell_type": "code",
   "execution_count": 9,
   "id": "7178bfcb",
   "metadata": {},
   "outputs": [],
   "source": [
    "def join_data(airport_data, flight_data):\n",
    "    df1 = spark.read.json(airport_data)\n",
    "    df2 = spark.read.json(flight_data)\n",
    "    output.append(df1.join(df2, \"id\", \"inner\").count())"
   ]
  },
  {
   "cell_type": "code",
   "execution_count": 11,
   "id": "010a2f1f",
   "metadata": {},
   "outputs": [],
   "source": [
    "thread1 = threading.Thread(target=join_data, \n",
    "                           args=(\"data/airlines_aiport.json\", \"data/airlines_flight.json\"))\n",
    "jobs.append(thread1)"
   ]
  },
  {
   "cell_type": "code",
   "execution_count": 12,
   "id": "eaed5f89",
   "metadata": {},
   "outputs": [],
   "source": [
    "thread2 = threading.Thread(target=join_data, \n",
    "                           args=(\"data/airlines_aiport.json\", \"data/airlines_flight.json\"))\n",
    "jobs.append(thread2)"
   ]
  },
  {
   "cell_type": "code",
   "execution_count": 13,
   "id": "06c2f490",
   "metadata": {},
   "outputs": [],
   "source": [
    "for job in jobs:\n",
    "    job.start()"
   ]
  },
  {
   "cell_type": "code",
   "execution_count": 14,
   "id": "e00a6548",
   "metadata": {},
   "outputs": [],
   "source": [
    "for job in jobs:\n",
    "    job.join()"
   ]
  },
  {
   "cell_type": "code",
   "execution_count": 15,
   "id": "9c3ac85e",
   "metadata": {},
   "outputs": [
    {
     "data": {
      "text/plain": [
       "[201, 201]"
      ]
     },
     "execution_count": 15,
     "metadata": {},
     "output_type": "execute_result"
    }
   ],
   "source": [
    "output"
   ]
  },
  {
   "cell_type": "code",
   "execution_count": null,
   "id": "cbd641f8",
   "metadata": {},
   "outputs": [],
   "source": []
  }
 ],
 "metadata": {
  "kernelspec": {
   "display_name": "Python 3 (ipykernel)",
   "language": "python",
   "name": "python3"
  },
  "language_info": {
   "codemirror_mode": {
    "name": "ipython",
    "version": 3
   },
   "file_extension": ".py",
   "mimetype": "text/x-python",
   "name": "python",
   "nbconvert_exporter": "python",
   "pygments_lexer": "ipython3",
   "version": "3.9.13"
  }
 },
 "nbformat": 4,
 "nbformat_minor": 5
}
