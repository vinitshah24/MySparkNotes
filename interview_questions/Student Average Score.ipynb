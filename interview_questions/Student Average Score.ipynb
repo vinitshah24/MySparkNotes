{
 "cells": [
  {
   "cell_type": "code",
   "execution_count": 1,
   "id": "293f1f9c-3a8f-46f3-a14b-f781e004b3e9",
   "metadata": {},
   "outputs": [],
   "source": [
    "from pyspark.sql import *\n",
    "from pyspark.sql.functions import *"
   ]
  },
  {
   "cell_type": "code",
   "execution_count": 2,
   "id": "7ddcbc02-b001-4888-8906-d425e9202a2e",
   "metadata": {},
   "outputs": [],
   "source": [
    "spark = SparkSession.builder.appName(\"test\").getOrCreate()"
   ]
  },
  {
   "cell_type": "code",
   "execution_count": 3,
   "id": "3e5fb679-9806-4c9a-904e-665139fc0976",
   "metadata": {},
   "outputs": [
    {
     "name": "stdout",
     "output_type": "stream",
     "text": [
      "+----------+------------+\n",
      "|student_id|student_name|\n",
      "+----------+------------+\n",
      "|         1|       Steve|\n",
      "|         2|       David|\n",
      "|         3|       Aryan|\n",
      "+----------+------------+\n",
      "\n"
     ]
    }
   ],
   "source": [
    "data = [\n",
    "    [1, \"Steve\"],\n",
    "    [2, \"David\"],\n",
    "    [3, \"Aryan\"],\n",
    "]\n",
    "student_df = spark.createDataFrame(data, [\"student_id\", \"student_name\"])\n",
    "student_df.show()"
   ]
  },
  {
   "cell_type": "code",
   "execution_count": 4,
   "id": "c102033d-362d-4531-8fdd-5bfdb5d647d3",
   "metadata": {},
   "outputs": [
    {
     "name": "stdout",
     "output_type": "stream",
     "text": [
      "+----------+------------+-----+\n",
      "|student_id|subject_name|score|\n",
      "+----------+------------+-----+\n",
      "|         1|     pyspark|   90|\n",
      "|         1|         sql|  100|\n",
      "|         2|     pyspark|   70|\n",
      "|         2|         sql|   60|\n",
      "|         3|     pyspark|   30|\n",
      "|         3|         sql|   20|\n",
      "+----------+------------+-----+\n",
      "\n"
     ]
    }
   ],
   "source": [
    "data = [\n",
    "    [1, \"pyspark\", 90],\n",
    "    [1, \"sql\", 100],\n",
    "    [2, \"pyspark\", 70],\n",
    "    [2, \"sql\", 60],\n",
    "    [3, \"pyspark\", 30],\n",
    "    [3, \"sql\", 20],\n",
    "]\n",
    "score_df = spark.createDataFrame(data, [\"student_id\", \"subject_name\", \"score\"])\n",
    "score_df.show()"
   ]
  },
  {
   "cell_type": "code",
   "execution_count": 7,
   "id": "9673a1eb-5d36-4106-8a23-30e7e6c77094",
   "metadata": {
    "scrolled": true
   },
   "outputs": [
    {
     "name": "stdout",
     "output_type": "stream",
     "text": [
      "+----------+------------+-------------+\n",
      "|student_id|student_name|average_score|\n",
      "+----------+------------+-------------+\n",
      "|         1|       Steve|         95.0|\n",
      "|         2|       David|         65.0|\n",
      "|         3|       Aryan|         25.0|\n",
      "+----------+------------+-------------+\n",
      "\n"
     ]
    }
   ],
   "source": [
    "join_df = student_df.alias(\"students\").join(\n",
    "    score_df.alias(\"scores\"), student_df.student_id == score_df.student_id\n",
    ")\n",
    "agg_df = join_df.groupBy(\"students.student_id\", \"students.student_name\").agg(\n",
    "    avg(col(\"scores.score\")).alias(\"average_score\")\n",
    ")\n",
    "agg_df.show()"
   ]
  },
  {
   "cell_type": "code",
   "execution_count": 12,
   "id": "f8a25451-95d3-438c-948b-a15ec72aad77",
   "metadata": {},
   "outputs": [
    {
     "name": "stdout",
     "output_type": "stream",
     "text": [
      "+----------+------------+-------------+-----------+\n",
      "|student_id|student_name|average_score|     status|\n",
      "+----------+------------+-------------+-----------+\n",
      "|         1|       Steve|         95.0|Distinction|\n",
      "|         2|       David|         65.0|First Class|\n",
      "|         3|       Aryan|         25.0|       Fail|\n",
      "+----------+------------+-------------+-----------+\n",
      "\n"
     ]
    }
   ],
   "source": [
    "agg_df.withColumn(\n",
    "    \"status\",\n",
    "    when(col(\"average_score\") >= 70, \"Distinction\")\n",
    "    .when((col(\"average_score\") < 70) & (col(\"average_score\") >= 60), \"First Class\")\n",
    "    .when((col(\"average_score\") < 60) & (col(\"average_score\") >= 50), \"Second Class\")\n",
    "    .when((col(\"average_score\") < 50) & (col(\"average_score\") >= 40), \"Third Class\")\n",
    "    .otherwise(\"Fail\"),\n",
    ").show()"
   ]
  },
  {
   "cell_type": "code",
   "execution_count": null,
   "id": "bf95198f-24f3-49ea-89d0-6399c366da14",
   "metadata": {},
   "outputs": [],
   "source": []
  }
 ],
 "metadata": {
  "kernelspec": {
   "display_name": "Python 3 (ipykernel)",
   "language": "python",
   "name": "python3"
  },
  "language_info": {
   "codemirror_mode": {
    "name": "ipython",
    "version": 3
   },
   "file_extension": ".py",
   "mimetype": "text/x-python",
   "name": "python",
   "nbconvert_exporter": "python",
   "pygments_lexer": "ipython3",
   "version": "3.11.7"
  }
 },
 "nbformat": 4,
 "nbformat_minor": 5
}
