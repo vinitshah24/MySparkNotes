{
 "cells": [
  {
   "cell_type": "code",
   "execution_count": 1,
   "id": "64393c8f-6a29-42dc-aeee-d0fa4447be9c",
   "metadata": {},
   "outputs": [],
   "source": [
    "from pyspark.sql import *\n",
    "from pyspark.sql.functions import *"
   ]
  },
  {
   "cell_type": "code",
   "execution_count": 2,
   "id": "c830bbb9-10dc-4813-bccd-6869b46f6301",
   "metadata": {},
   "outputs": [],
   "source": [
    "spark = SparkSession.builder.appName(\"test\").getOrCreate()"
   ]
  },
  {
   "cell_type": "code",
   "execution_count": 3,
   "id": "44e0245f-bd51-4fd5-a19c-78d8c33d1982",
   "metadata": {},
   "outputs": [
    {
     "name": "stdout",
     "output_type": "stream",
     "text": [
      "+---------+-----------+\n",
      "|player_id|player_name|\n",
      "+---------+-----------+\n",
      "|        1|      Nadal|\n",
      "|        2|    Federer|\n",
      "|        3|      Novak|\n",
      "+---------+-----------+\n",
      "\n"
     ]
    }
   ],
   "source": [
    "data = [\n",
    "    [1, \"Nadal\"],\n",
    "    [2, \"Federer\"],\n",
    "    [3, \"Novak\"],\n",
    "]\n",
    "players_df = spark.createDataFrame(data, [\"player_id\", \"player_name\"])\n",
    "players_df.show()"
   ]
  },
  {
   "cell_type": "code",
   "execution_count": 4,
   "id": "d2c39ef7-b496-41d1-b117-9790e0651a08",
   "metadata": {},
   "outputs": [
    {
     "name": "stdout",
     "output_type": "stream",
     "text": [
      "+----+---------+-------+-------+-------+\n",
      "|year|wimbledon|fr_open|us_open|au_open|\n",
      "+----+---------+-------+-------+-------+\n",
      "|2017|        2|      1|      1|      2|\n",
      "|2018|        3|      1|      3|      2|\n",
      "|2019|        3|      1|      1|      3|\n",
      "+----+---------+-------+-------+-------+\n",
      "\n"
     ]
    }
   ],
   "source": [
    "data = [\n",
    "    [2017, 2, 1, 1, 2],\n",
    "    [2018, 3, 1, 3, 2],\n",
    "    [2019, 3, 1, 1, 3],\n",
    "]\n",
    "championship_df = spark.createDataFrame(data, [\"year\", \"wimbledon\", \"fr_open\", \"us_open\", \"au_open\"])\n",
    "championship_df.show()"
   ]
  },
  {
   "cell_type": "code",
   "execution_count": 5,
   "id": "4b924372-b8cf-4060-9752-075958d179a0",
   "metadata": {},
   "outputs": [
    {
     "name": "stdout",
     "output_type": "stream",
     "text": [
      "+---+\n",
      "| id|\n",
      "+---+\n",
      "|  2|\n",
      "|  3|\n",
      "|  3|\n",
      "|  1|\n",
      "|  1|\n",
      "|  1|\n",
      "|  1|\n",
      "|  3|\n",
      "|  1|\n",
      "|  2|\n",
      "|  2|\n",
      "|  3|\n",
      "+---+\n",
      "\n"
     ]
    }
   ],
   "source": [
    "df = (\n",
    "    championship_df.select(\"wimbledon\")\n",
    "    .unionAll(championship_df.select(\"fr_open\"))\n",
    "    .unionAll(championship_df.select(\"us_open\"))\n",
    "    .unionAll(championship_df.select(\"au_open\"))   \n",
    ").withColumnRenamed(\"wimbledon\", \"id\")\n",
    "df.show()"
   ]
  },
  {
   "cell_type": "code",
   "execution_count": 6,
   "id": "02158771-e0fe-4822-84f5-b72fe856b6d4",
   "metadata": {},
   "outputs": [
    {
     "name": "stdout",
     "output_type": "stream",
     "text": [
      "+---------+-----------+----+\n",
      "|player_id|player_name|wins|\n",
      "+---------+-----------+----+\n",
      "|        1|      Nadal|   5|\n",
      "|        2|    Federer|   3|\n",
      "|        3|      Novak|   4|\n",
      "+---------+-----------+----+\n",
      "\n"
     ]
    }
   ],
   "source": [
    "res_df = (\n",
    "    players_df\n",
    "    .join(df, players_df.player_id == df.id)\n",
    "    .groupBy(\"player_id\", \"player_name\")\n",
    "    .agg(count(\"player_id\").alias(\"wins\"))\n",
    "    .select(\"player_id\", \"player_name\", \"wins\")\n",
    ")\n",
    "res_df.show()"
   ]
  },
  {
   "cell_type": "code",
   "execution_count": null,
   "id": "02067b59-dbfc-44ad-b374-0e2aebffcbc5",
   "metadata": {},
   "outputs": [],
   "source": []
  }
 ],
 "metadata": {
  "kernelspec": {
   "display_name": "Python 3 (ipykernel)",
   "language": "python",
   "name": "python3"
  },
  "language_info": {
   "codemirror_mode": {
    "name": "ipython",
    "version": 3
   },
   "file_extension": ".py",
   "mimetype": "text/x-python",
   "name": "python",
   "nbconvert_exporter": "python",
   "pygments_lexer": "ipython3",
   "version": "3.11.7"
  }
 },
 "nbformat": 4,
 "nbformat_minor": 5
}
