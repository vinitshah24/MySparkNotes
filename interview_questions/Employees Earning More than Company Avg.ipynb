{
 "cells": [
  {
   "cell_type": "code",
   "execution_count": 4,
   "id": "8074f2d0-71b6-46a5-8045-21ed1ab9425a",
   "metadata": {},
   "outputs": [],
   "source": [
    "from pyspark.sql import *\n",
    "from pyspark.sql.functions import *"
   ]
  },
  {
   "cell_type": "code",
   "execution_count": 5,
   "id": "e5450dec-1c2f-474d-a99d-797f0f8ad7a3",
   "metadata": {},
   "outputs": [],
   "source": [
    "spark = SparkSession.builder.appName(\"test\").getOrCreate()"
   ]
  },
  {
   "cell_type": "code",
   "execution_count": 6,
   "id": "b16955b0-bfeb-4375-84dc-6b5a51c0ac1a",
   "metadata": {},
   "outputs": [
    {
     "name": "stdout",
     "output_type": "stream",
     "text": [
      "+------+--------+-----------+------+\n",
      "|emp_id|emp_name|       dept|salary|\n",
      "+------+--------+-----------+------+\n",
      "|     1|   Alice|         HR| 60000|\n",
      "|     2|     Bob|         HR| 50000|\n",
      "|     3| Charlie|    Finance| 70000|\n",
      "|     4|   David|    Finance| 75000|\n",
      "|     5|     Eve|Engineering| 90000|\n",
      "|     6|   Frank|Engineering| 93000|\n",
      "|     7|   Grace|         HR| 45000|\n",
      "|     8|    Hank|Engineering| 98000|\n",
      "|     9|     Ivy|    Finance| 66000|\n",
      "+------+--------+-----------+------+\n",
      "\n"
     ]
    }
   ],
   "source": [
    "data = [\n",
    "    [1, \"Alice\", \"HR\", 60000],\n",
    "    [2, \"Bob\", \"HR\", 50000],\n",
    "    [3, \"Charlie\", \"Finance\", 70000],\n",
    "    [4, \"David\", \"Finance\", 75000],\n",
    "    [5, \"Eve\", \"Engineering\", 90000],\n",
    "    [6, \"Frank\", \"Engineering\", 93000],\n",
    "    [7, \"Grace\", \"HR\", 45000],\n",
    "    [8, \"Hank\", \"Engineering\", 98000],\n",
    "    [9, \"Ivy\", \"Finance\", 66000],\n",
    "]\n",
    "df = spark.createDataFrame(data, [\"emp_id\", \"emp_name\", \"dept\", \"salary\"])\n",
    "df.show()"
   ]
  },
  {
   "cell_type": "code",
   "execution_count": 7,
   "id": "b8940792-5b17-4959-aafd-968366bf506b",
   "metadata": {},
   "outputs": [
    {
     "name": "stdout",
     "output_type": "stream",
     "text": [
      "+------+--------+-----------+------+------------------+\n",
      "|emp_id|emp_name|       dept|salary|        avg_salary|\n",
      "+------+--------+-----------+------+------------------+\n",
      "|     5|     Eve|Engineering| 90000| 93666.66666666667|\n",
      "|     6|   Frank|Engineering| 93000| 93666.66666666667|\n",
      "|     8|    Hank|Engineering| 98000| 93666.66666666667|\n",
      "|     3| Charlie|    Finance| 70000| 70333.33333333333|\n",
      "|     4|   David|    Finance| 75000| 70333.33333333333|\n",
      "|     9|     Ivy|    Finance| 66000| 70333.33333333333|\n",
      "|     1|   Alice|         HR| 60000|51666.666666666664|\n",
      "|     2|     Bob|         HR| 50000|51666.666666666664|\n",
      "|     7|   Grace|         HR| 45000|51666.666666666664|\n",
      "+------+--------+-----------+------+------------------+\n",
      "\n"
     ]
    }
   ],
   "source": [
    "df1 = df.withColumn(\"avg_salary\", avg(\"salary\").over(Window.partitionBy(\"dept\")))\n",
    "df1.show()"
   ]
  },
  {
   "cell_type": "code",
   "execution_count": 8,
   "id": "a9ce5b3e-d060-4a8c-be62-699f1b95fc6c",
   "metadata": {},
   "outputs": [
    {
     "name": "stdout",
     "output_type": "stream",
     "text": [
      "+--------+-----------+------+------------------+\n",
      "|emp_name|       dept|salary|        avg_salary|\n",
      "+--------+-----------+------+------------------+\n",
      "|    Hank|Engineering| 98000| 93666.66666666667|\n",
      "|   David|    Finance| 75000| 70333.33333333333|\n",
      "|   Alice|         HR| 60000|51666.666666666664|\n",
      "+--------+-----------+------+------------------+\n",
      "\n"
     ]
    }
   ],
   "source": [
    "df1.where(col(\"salary\") > col(\"avg_salary\")).select(\"emp_name\", \"dept\", \"salary\", \"avg_salary\").show()"
   ]
  },
  {
   "cell_type": "code",
   "execution_count": null,
   "id": "87cb0a70-202c-4666-82ad-f91dbff89d9d",
   "metadata": {},
   "outputs": [],
   "source": []
  }
 ],
 "metadata": {
  "kernelspec": {
   "display_name": "Python 3 (ipykernel)",
   "language": "python",
   "name": "python3"
  },
  "language_info": {
   "codemirror_mode": {
    "name": "ipython",
    "version": 3
   },
   "file_extension": ".py",
   "mimetype": "text/x-python",
   "name": "python",
   "nbconvert_exporter": "python",
   "pygments_lexer": "ipython3",
   "version": "3.11.7"
  }
 },
 "nbformat": 4,
 "nbformat_minor": 5
}
