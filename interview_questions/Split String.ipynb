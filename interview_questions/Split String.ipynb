{
 "cells": [
  {
   "cell_type": "code",
   "execution_count": 1,
   "id": "22e42aa1-5496-4350-860e-61a03c5cc324",
   "metadata": {},
   "outputs": [],
   "source": [
    "from pyspark.sql import *\n",
    "from pyspark.sql.functions import *\n",
    "from pyspark.sql.types import *"
   ]
  },
  {
   "cell_type": "code",
   "execution_count": 2,
   "id": "07c0befa-e84d-4651-9413-46556d54cc9b",
   "metadata": {},
   "outputs": [],
   "source": [
    "spark = SparkSession.builder.appName(\"test\").getOrCreate()"
   ]
  },
  {
   "cell_type": "markdown",
   "id": "73f0c372-4b31-49fe-85eb-b20ab60c208c",
   "metadata": {},
   "source": [
    "### Split String"
   ]
  },
  {
   "cell_type": "code",
   "execution_count": 3,
   "id": "4016bba8-a3ad-4a11-901e-3d3b52c623c8",
   "metadata": {},
   "outputs": [
    {
     "name": "stdout",
     "output_type": "stream",
     "text": [
      "+------+------------+\n",
      "|  name|       phone|\n",
      "+------+------------+\n",
      "|Joanne|040-20215632|\n",
      "|   Tom|044-23651023|\n",
      "|  John|086-12456782|\n",
      "+------+------------+\n",
      "\n"
     ]
    }
   ],
   "source": [
    "data = [(\"Joanne\", \"040-20215632\"), (\"Tom\", \"044-23651023\"), (\"John\", \"086-12456782\")]\n",
    "schema = [\"name\", \"phone\"]\n",
    "df = spark.createDataFrame(data, schema)\n",
    "df.show()"
   ]
  },
  {
   "cell_type": "code",
   "execution_count": 5,
   "id": "8ca88817-5d49-4e39-932c-b20bbb84be7d",
   "metadata": {},
   "outputs": [
    {
     "name": "stdout",
     "output_type": "stream",
     "text": [
      "+------+------------+--------+---------+\n",
      "|  name|       phone|std_code|phone_num|\n",
      "+------+------------+--------+---------+\n",
      "|Joanne|040-20215632|     040| 20215632|\n",
      "|   Tom|044-23651023|     044| 23651023|\n",
      "|  John|086-12456782|     086| 12456782|\n",
      "+------+------------+--------+---------+\n",
      "\n"
     ]
    }
   ],
   "source": [
    "df1 = (\n",
    "    df\n",
    "    .withColumn(\"std_code\", split(df.phone, \"-\").getItem(0))\n",
    "    .withColumn(\"phone_num\", split(df.phone, \"-\").getItem(1))\n",
    ")\n",
    "df1.show()"
   ]
  },
  {
   "cell_type": "code",
   "execution_count": null,
   "id": "dbf3c540-51d2-406f-8eaa-9e448738dad7",
   "metadata": {},
   "outputs": [],
   "source": []
  }
 ],
 "metadata": {
  "kernelspec": {
   "display_name": "Python 3 (ipykernel)",
   "language": "python",
   "name": "python3"
  },
  "language_info": {
   "codemirror_mode": {
    "name": "ipython",
    "version": 3
   },
   "file_extension": ".py",
   "mimetype": "text/x-python",
   "name": "python",
   "nbconvert_exporter": "python",
   "pygments_lexer": "ipython3",
   "version": "3.11.7"
  }
 },
 "nbformat": 4,
 "nbformat_minor": 5
}
