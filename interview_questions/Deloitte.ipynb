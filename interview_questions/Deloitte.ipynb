{
 "cells": [
  {
   "cell_type": "code",
   "execution_count": 1,
   "id": "737a7a43-5f7c-4b38-b14f-0795a393aad5",
   "metadata": {},
   "outputs": [],
   "source": [
    "from pyspark.sql import *\n",
    "from pyspark.sql.functions import *\n",
    "from pyspark.sql.types import *"
   ]
  },
  {
   "cell_type": "code",
   "execution_count": 2,
   "id": "48b103e4-dbf3-462a-89b0-0903ae459ea9",
   "metadata": {},
   "outputs": [],
   "source": [
    "spark = SparkSession.builder.appName(\"test\").getOrCreate()"
   ]
  },
  {
   "cell_type": "markdown",
   "id": "8f69f234-c382-4ccf-a9b0-e0652cff94e4",
   "metadata": {},
   "source": [
    "### Q1: Group Concat"
   ]
  },
  {
   "cell_type": "code",
   "execution_count": 3,
   "id": "362f97d6-5a34-4050-a6a1-1e4f8abd84ed",
   "metadata": {},
   "outputs": [],
   "source": [
    "data = [\n",
    "    (1, \"John\", \"ADF\"),\n",
    "    (1, \"John\", \"ADB\"),\n",
    "    (1, \"John\", \"PowerBI\"),\n",
    "    (2, \"Joanne\", \"ADF\"),\n",
    "    (2, \"Joanne\", \"SQL\"),\n",
    "    (2, \"Joanne\", \"Crystal Report\"),\n",
    "    (3, \"Vikas\", \"ADF\"),\n",
    "    (3, \"Vikas\", \"SQL\"),\n",
    "    (3, \"Vikas\", \"SSIS\"),\n",
    "    (4, \"Monu\", \"SQL\"),\n",
    "    (4, \"Monu\", \"SSIS\"),\n",
    "    (4, \"Monu\", \"SSAS\"),\n",
    "    (4, \"Monu\", \"ADF\"),\n",
    "]\n",
    "schema = [\"emp_id\", \"emp_name\", \"skill\"]\n",
    "df = spark.createDataFrame(data, schema)"
   ]
  },
  {
   "cell_type": "code",
   "execution_count": 4,
   "id": "6d9df29c-1ea3-46f3-bf30-5986e388d932",
   "metadata": {},
   "outputs": [],
   "source": [
    "from pyspark.sql.functions import collect_list, concat_ws"
   ]
  },
  {
   "cell_type": "code",
   "execution_count": 5,
   "id": "b2d01300-a3f4-42a4-8c15-755d1cefe8cc",
   "metadata": {},
   "outputs": [
    {
     "name": "stdout",
     "output_type": "stream",
     "text": [
      "+--------+--------------------------+\n",
      "|emp_name|skills                    |\n",
      "+--------+--------------------------+\n",
      "|John    |[ADF, ADB, PowerBI]       |\n",
      "|Joanne  |[ADF, SQL, Crystal Report]|\n",
      "|Vikas   |[ADF, SQL, SSIS]          |\n",
      "|Monu    |[SQL, SSIS, SSAS, ADF]    |\n",
      "+--------+--------------------------+\n",
      "\n"
     ]
    }
   ],
   "source": [
    "df1 = df.groupBy(df.emp_name).agg(collect_list(df.skill).alias(\"skills\"))\n",
    "df1.show(truncate=False)"
   ]
  },
  {
   "cell_type": "code",
   "execution_count": 6,
   "id": "4e28b3f4-2cb2-4de8-9a82-9f0025926714",
   "metadata": {},
   "outputs": [
    {
     "name": "stdout",
     "output_type": "stream",
     "text": [
      "+--------+----------------------+\n",
      "|emp_name|skills                |\n",
      "+--------+----------------------+\n",
      "|John    |ADF,ADB,PowerBI       |\n",
      "|Joanne  |ADF,SQL,Crystal Report|\n",
      "|Vikas   |ADF,SQL,SSIS          |\n",
      "|Monu    |SQL,SSIS,SSAS,ADF     |\n",
      "+--------+----------------------+\n",
      "\n"
     ]
    }
   ],
   "source": [
    "df1.select(df.emp_name, concat_ws(\",\", df1.skills).alias(\"skills\")).show(truncate=False)"
   ]
  },
  {
   "cell_type": "markdown",
   "id": "6f985e1c-8e97-4501-8b0f-502fb19bd6a2",
   "metadata": {},
   "source": [
    "### Q2: Grouping"
   ]
  },
  {
   "cell_type": "code",
   "execution_count": 8,
   "id": "12c653ba-226b-4f85-babd-89d7fc5bf3c9",
   "metadata": {},
   "outputs": [],
   "source": [
    "data = [\n",
    "    (\"IT\", \"M\"),\n",
    "    (\"IT\", \"F\"),\n",
    "    (\"IT\", \"M\"),\n",
    "    (\"IT\", \"M\"),\n",
    "    (\"HR\", \"M\"),\n",
    "    (\"HR\", \"F\"),\n",
    "    (\"HR\", \"F\"),\n",
    "    (\"HR\", \"F\"),\n",
    "    (\"HR\", \"M\"),\n",
    "    (\"Sales\", \"M\"),\n",
    "    (\"Sales\", \"F\"),\n",
    "    (\"Sales\", \"M\"),\n",
    "    (\"Sales\", \"F\")\n",
    "]\n",
    "schema = [\"dept_name\", \"gender\"]\n",
    "df = spark.createDataFrame(data, schema)"
   ]
  },
  {
   "cell_type": "code",
   "execution_count": 19,
   "id": "6830845b-c65f-4414-acf5-1c1e20360e42",
   "metadata": {},
   "outputs": [
    {
     "name": "stdout",
     "output_type": "stream",
     "text": [
      "+---------+---------------+----------+------------+\n",
      "|dept_name|total_emp_count|male_count|female_count|\n",
      "+---------+---------------+----------+------------+\n",
      "|       IT|              4|         3|           1|\n",
      "|       HR|              5|         2|           3|\n",
      "|    Sales|              4|         2|           2|\n",
      "+---------+---------------+----------+------------+\n",
      "\n"
     ]
    }
   ],
   "source": [
    "df1 = df.groupBy(\"dept_name\").agg(\n",
    "    count(col(\"dept_name\")).alias(\"total_emp_count\"),\n",
    "    count(when(col(\"gender\") == \"M\", 1)).alias(\"male_count\"),\n",
    "    count(when(col(\"gender\") == \"F\", 1)).alias(\"female_count\"),\n",
    ")\n",
    "df1.show()"
   ]
  },
  {
   "cell_type": "code",
   "execution_count": null,
   "id": "4a3bf4b8-a42e-40aa-a0db-e2ae0588da49",
   "metadata": {},
   "outputs": [],
   "source": []
  }
 ],
 "metadata": {
  "kernelspec": {
   "display_name": "Python 3 (ipykernel)",
   "language": "python",
   "name": "python3"
  },
  "language_info": {
   "codemirror_mode": {
    "name": "ipython",
    "version": 3
   },
   "file_extension": ".py",
   "mimetype": "text/x-python",
   "name": "python",
   "nbconvert_exporter": "python",
   "pygments_lexer": "ipython3",
   "version": "3.11.7"
  }
 },
 "nbformat": 4,
 "nbformat_minor": 5
}
