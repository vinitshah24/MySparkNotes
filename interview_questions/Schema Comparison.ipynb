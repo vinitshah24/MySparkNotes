{
 "cells": [
  {
   "cell_type": "code",
   "execution_count": 1,
   "id": "b174208b-5db3-4232-b03f-eb21afc7f14a",
   "metadata": {},
   "outputs": [],
   "source": [
    "from pyspark.sql import *\n",
    "from pyspark.sql.functions import *"
   ]
  },
  {
   "cell_type": "code",
   "execution_count": 2,
   "id": "e6c3d74a-5e6a-4ed2-b6d6-2f9f991b868c",
   "metadata": {},
   "outputs": [],
   "source": [
    "spark = SparkSession.builder.appName(\"test\").getOrCreate()"
   ]
  },
  {
   "cell_type": "code",
   "execution_count": 3,
   "id": "2357cd85-0f44-4ab3-b885-b19497ce252a",
   "metadata": {},
   "outputs": [
    {
     "name": "stdout",
     "output_type": "stream",
     "text": [
      "+---+-----+------+------+\n",
      "| id| name|gender|salary|\n",
      "+---+-----+------+------+\n",
      "|  1|  Ram|  Male|   100|\n",
      "|  2|Radhe|Female|   200|\n",
      "|  3| John|  Male|   250|\n",
      "+---+-----+------+------+\n",
      "\n",
      "+---+------+------+------+\n",
      "| id|  name|gender|salary|\n",
      "+---+------+------+------+\n",
      "|101|  John|  Male|   100|\n",
      "|102|Joanne|Female|   250|\n",
      "|103| Smith|  Male|   250|\n",
      "+---+------+------+------+\n",
      "\n",
      "+----+-------+----------+------+\n",
      "|  id|   name|department|salary|\n",
      "+----+-------+----------+------+\n",
      "|1001|Maxwell|        IT|   200|\n",
      "|   2|    MSD|        HR|   350|\n",
      "|   3|  Virat|        IT|   300|\n",
      "+----+-------+----------+------+\n",
      "\n"
     ]
    }
   ],
   "source": [
    "data1 = [\n",
    "    (1, \"Ram\", \"Male\", 100), \n",
    "    (2, \"Radhe\", \"Female\", 200), \n",
    "    (3, \"John\", \"Male\", 250)\n",
    "]\n",
    "schema1 = [\"id\", \"name\", \"gender\", \"salary\"]\n",
    "df1 = spark.createDataFrame(data1, schema1)\n",
    "df1.show()\n",
    "\n",
    "data2 = [\n",
    "    (101, \"John\", \"Male\", 100),\n",
    "    (102, \"Joanne\", \"Female\", 250),\n",
    "    (103, \"Smith\", \"Male\", 250),\n",
    "]\n",
    "schema2 = [\"id\", \"name\", \"gender\", \"salary\"]\n",
    "df2 = spark.createDataFrame(data2, schema2)\n",
    "df2.show()\n",
    "\n",
    "data3 = [\n",
    "    (1001, \"Maxwell\", \"IT\", 200), \n",
    "    (2, \"MSD\", \"HR\", 350), \n",
    "    (3, \"Virat\", \"IT\", 300)\n",
    "]\n",
    "schema3 = [\"id\", \"name\", \"department\", \"salary\"]\n",
    "df3 = spark.createDataFrame(data3, schema3)\n",
    "df3.show()"
   ]
  },
  {
   "cell_type": "code",
   "execution_count": 5,
   "id": "fb47df12-aad9-4c28-85c6-50ba72356ff2",
   "metadata": {},
   "outputs": [
    {
     "data": {
      "text/plain": [
       "StructType([StructField('id', LongType(), True), StructField('name', StringType(), True), StructField('gender', StringType(), True), StructField('salary', LongType(), True)])"
      ]
     },
     "execution_count": 5,
     "metadata": {},
     "output_type": "execute_result"
    }
   ],
   "source": [
    "df1.schema"
   ]
  },
  {
   "cell_type": "code",
   "execution_count": 6,
   "id": "f194c27d-9f6e-4964-83af-6f4ed81ab5e6",
   "metadata": {},
   "outputs": [
    {
     "data": {
      "text/plain": [
       "pyspark.sql.types.StructType"
      ]
     },
     "execution_count": 6,
     "metadata": {},
     "output_type": "execute_result"
    }
   ],
   "source": [
    "type(df1.schema)"
   ]
  },
  {
   "cell_type": "code",
   "execution_count": 32,
   "id": "e745317e-e9d2-419c-93e3-2c58bd72ceb8",
   "metadata": {},
   "outputs": [
    {
     "name": "stdout",
     "output_type": "stream",
     "text": [
      "id LongType() True\n",
      "name StringType() True\n",
      "gender StringType() True\n",
      "salary LongType() True\n"
     ]
    }
   ],
   "source": [
    "for struct_field in df1.schema:\n",
    "        print(f\"{struct_field.name} {struct_field.dataType} {struct_field.nullable}\")"
   ]
  },
  {
   "cell_type": "code",
   "execution_count": 33,
   "id": "1d5d8793-d2f5-499e-90b5-8c21e672a6a0",
   "metadata": {},
   "outputs": [
    {
     "data": {
      "text/plain": [
       "True"
      ]
     },
     "execution_count": 33,
     "metadata": {},
     "output_type": "execute_result"
    }
   ],
   "source": [
    "df1.schema == df2.schema"
   ]
  },
  {
   "cell_type": "code",
   "execution_count": 34,
   "id": "13514980-1955-424a-8dde-3f2d31e33229",
   "metadata": {},
   "outputs": [
    {
     "data": {
      "text/plain": [
       "False"
      ]
     },
     "execution_count": 34,
     "metadata": {},
     "output_type": "execute_result"
    }
   ],
   "source": [
    "df1.schema == df3.schema"
   ]
  },
  {
   "cell_type": "code",
   "execution_count": null,
   "id": "5c1f387a-af0f-46bd-b36d-7d8b09c43112",
   "metadata": {},
   "outputs": [],
   "source": []
  }
 ],
 "metadata": {
  "kernelspec": {
   "display_name": "Python 3 (ipykernel)",
   "language": "python",
   "name": "python3"
  },
  "language_info": {
   "codemirror_mode": {
    "name": "ipython",
    "version": 3
   },
   "file_extension": ".py",
   "mimetype": "text/x-python",
   "name": "python",
   "nbconvert_exporter": "python",
   "pygments_lexer": "ipython3",
   "version": "3.11.7"
  }
 },
 "nbformat": 4,
 "nbformat_minor": 5
}
