{
 "cells": [
  {
   "cell_type": "code",
   "execution_count": 1,
   "id": "41d326ac-14a7-44f4-a6e8-373a9fc2f3f1",
   "metadata": {},
   "outputs": [],
   "source": [
    "from pyspark.sql import *\n",
    "from pyspark.sql.functions import *\n",
    "from pyspark.sql.types import *"
   ]
  },
  {
   "cell_type": "code",
   "execution_count": 2,
   "id": "2957d3db-c12e-4242-afba-f2a432530371",
   "metadata": {},
   "outputs": [],
   "source": [
    "spark = SparkSession.builder.appName(\"test\").getOrCreate()"
   ]
  },
  {
   "cell_type": "markdown",
   "id": "1b173244-405f-4009-bf99-fd86ef1b55c3",
   "metadata": {},
   "source": [
    "### Q1: LAG"
   ]
  },
  {
   "cell_type": "code",
   "execution_count": 3,
   "id": "e0cdd95c-602d-4025-a1a8-2196ad3f8c23",
   "metadata": {},
   "outputs": [
    {
     "name": "stdout",
     "output_type": "stream",
     "text": [
      "+-----+----------+-------+--------+----------+\n",
      "|so_id|   so_date|item_id|item_qty|item_value|\n",
      "+-----+----------+-------+--------+----------+\n",
      "|    1|2024-01-01|     I1|      10|      1000|\n",
      "|    2|2024-01-15|     I2|      20|      2000|\n",
      "|    3|2024-02-01|     I3|      10|      1500|\n",
      "|    4|2024-02-15|     I4|      20|      2500|\n",
      "|    5|2024-03-01|     I5|      30|      3000|\n",
      "|    6|2024-03-10|     I6|      40|      3500|\n",
      "|    7|2024-03-20|     I7|      20|      2500|\n",
      "|    8|2024-03-30|     I8|      10|      1000|\n",
      "+-----+----------+-------+--------+----------+\n",
      "\n"
     ]
    }
   ],
   "source": [
    "data = [\n",
    "    (1, \"2024-01-01\", \"I1\", 10, 1000),\n",
    "    (2, \"2024-01-15\", \"I2\", 20, 2000),\n",
    "    (3, \"2024-02-01\", \"I3\", 10, 1500),\n",
    "    (4, \"2024-02-15\", \"I4\", 20, 2500),\n",
    "    (5, \"2024-03-01\", \"I5\", 30, 3000),\n",
    "    (6, \"2024-03-10\", \"I6\", 40, 3500),\n",
    "    (7, \"2024-03-20\", \"I7\", 20, 2500),\n",
    "    (8, \"2024-03-30\", \"I8\", 10, 1000),\n",
    "]\n",
    "schema = [\"so_id\", \"so_date\", \"item_id\", \"item_qty\", \"item_value\"]\n",
    "df = spark.createDataFrame(data, schema)\n",
    "df.show()"
   ]
  },
  {
   "cell_type": "code",
   "execution_count": 4,
   "id": "ee36653a-8e0c-4392-b56b-f2390243f51f",
   "metadata": {},
   "outputs": [
    {
     "name": "stdout",
     "output_type": "stream",
     "text": [
      "root\n",
      " |-- so_id: long (nullable = true)\n",
      " |-- so_date: date (nullable = true)\n",
      " |-- item_id: string (nullable = true)\n",
      " |-- item_qty: long (nullable = true)\n",
      " |-- item_value: long (nullable = true)\n",
      "\n"
     ]
    }
   ],
   "source": [
    "df = df.withColumn(\"so_date\", col(\"so_date\").cast(DateType()))\n",
    "df.printSchema()"
   ]
  },
  {
   "cell_type": "code",
   "execution_count": 5,
   "id": "e2875e9d-97ec-4a6a-891a-20beb6e3a9b8",
   "metadata": {},
   "outputs": [
    {
     "name": "stdout",
     "output_type": "stream",
     "text": [
      "+-----+----+----------+\n",
      "|month|year|item_value|\n",
      "+-----+----+----------+\n",
      "|    1|2024|      1000|\n",
      "|    1|2024|      2000|\n",
      "|    2|2024|      1500|\n",
      "|    2|2024|      2500|\n",
      "|    3|2024|      3000|\n",
      "|    3|2024|      3500|\n",
      "|    3|2024|      2500|\n",
      "|    3|2024|      1000|\n",
      "+-----+----+----------+\n",
      "\n"
     ]
    }
   ],
   "source": [
    "df1 = df.select(\n",
    "    month(col(\"so_date\")).alias(\"month\"),\n",
    "    year(col(\"so_date\")).alias(\"year\"),\n",
    "    col(\"item_value\"),\n",
    ")\n",
    "df1.show()"
   ]
  },
  {
   "cell_type": "code",
   "execution_count": 6,
   "id": "5630f0a1-1126-407e-8330-5ab9886b18b7",
   "metadata": {},
   "outputs": [
    {
     "name": "stdout",
     "output_type": "stream",
     "text": [
      "+-----+----+-----------+\n",
      "|month|year|total_sales|\n",
      "+-----+----+-----------+\n",
      "|    1|2024|       3000|\n",
      "|    2|2024|       4000|\n",
      "|    3|2024|      10000|\n",
      "+-----+----+-----------+\n",
      "\n"
     ]
    }
   ],
   "source": [
    "df2 = df1.groupBy(\"month\", \"year\").agg(sum(\"item_value\").alias(\"total_sales\"))\n",
    "df2.show()"
   ]
  },
  {
   "cell_type": "code",
   "execution_count": 7,
   "id": "a1ffa944-b4cb-4de2-8a72-23e1d9697f45",
   "metadata": {},
   "outputs": [
    {
     "name": "stdout",
     "output_type": "stream",
     "text": [
      "+-----+----+-----------+----------+\n",
      "|month|year|total_sales|prev_sales|\n",
      "+-----+----+-----------+----------+\n",
      "|    1|2024|       3000|      null|\n",
      "|    2|2024|       4000|      3000|\n",
      "|    3|2024|      10000|      4000|\n",
      "+-----+----+-----------+----------+\n",
      "\n"
     ]
    }
   ],
   "source": [
    "df3 = df2.select(\n",
    "    \"*\",\n",
    "    lag(col(\"total_sales\"))\n",
    "    .over(Window.orderBy(col(\"month\"), col(\"year\")))\n",
    "    .alias(\"prev_sales\"),\n",
    ")\n",
    "df3.show()"
   ]
  },
  {
   "cell_type": "code",
   "execution_count": 8,
   "id": "386744f0-5ff3-4ce8-9bab-59f5f80df526",
   "metadata": {},
   "outputs": [
    {
     "name": "stdout",
     "output_type": "stream",
     "text": [
      "+-----+----+-----------+----------+-------------------+\n",
      "|month|year|total_sales|prev_sales|pct_diff_prev_month|\n",
      "+-----+----+-----------+----------+-------------------+\n",
      "|    1|2024|       3000|      null|               null|\n",
      "|    2|2024|       4000|      3000|             3925.0|\n",
      "|    3|2024|      10000|      4000|             9960.0|\n",
      "+-----+----+-----------+----------+-------------------+\n",
      "\n"
     ]
    }
   ],
   "source": [
    "df3.select(\n",
    "    \"*\",\n",
    "    (col(\"total_sales\") - col(\"prev_sales\") * 100 / col(\"total_sales\")).alias(\n",
    "        \"pct_diff_prev_month\"\n",
    "    ),\n",
    ").show()"
   ]
  },
  {
   "cell_type": "markdown",
   "id": "2fbf9956-a884-4849-af49-1485d155e4ae",
   "metadata": {},
   "source": [
    "### Q2: Strategy"
   ]
  },
  {
   "cell_type": "code",
   "execution_count": 9,
   "id": "18533b71-e32b-49c0-b05b-0e1817fd7600",
   "metadata": {
    "scrolled": true
   },
   "outputs": [
    {
     "name": "stdout",
     "output_type": "stream",
     "text": [
      "+----------+----------+-----------+---------+\n",
      "|machine_id|process_id|activity_id|timestamp|\n",
      "+----------+----------+-----------+---------+\n",
      "|         0|         0|      start|    0.712|\n",
      "|         0|         0|        end|     1.52|\n",
      "|         0|         1|      start|     3.14|\n",
      "|         0|         1|        end|     4.12|\n",
      "|         1|         0|      start|     0.55|\n",
      "|         1|         0|        end|     1.55|\n",
      "|         1|         1|      start|     0.43|\n",
      "|         1|         1|        end|     1.42|\n",
      "|         2|         0|      start|      4.1|\n",
      "|         2|         0|        end|    4.512|\n",
      "|         2|         1|      start|      2.5|\n",
      "|         2|         1|        end|      5.0|\n",
      "+----------+----------+-----------+---------+\n",
      "\n"
     ]
    }
   ],
   "source": [
    "data = [\n",
    "    (0, 0, \"start\", 0.712),\n",
    "    (0, 0, \"end\", 1.520),\n",
    "    (0, 1, \"start\", 3.140),\n",
    "    (0, 1, \"end\", 4.120),\n",
    "    (1, 0, \"start\", 0.550),\n",
    "    (1, 0, \"end\", 1.550),\n",
    "    (1, 1, \"start\", 0.430),\n",
    "    (1, 1, \"end\", 1.420),\n",
    "    (2, 0, \"start\", 4.100),\n",
    "    (2, 0, \"end\", 4.512),\n",
    "    (2, 1, \"start\", 2.500),\n",
    "    (2, 1, \"end\", 5.000),\n",
    "]\n",
    "schema = [\"machine_id\", \"process_id\", \"activity_id\", \"timestamp\"]\n",
    "df = spark.createDataFrame(data, schema)\n",
    "df.show()"
   ]
  },
  {
   "cell_type": "code",
   "execution_count": 10,
   "id": "8a2233d2-e986-416e-a0fd-3bccd916fb05",
   "metadata": {},
   "outputs": [
    {
     "name": "stdout",
     "output_type": "stream",
     "text": [
      "+----------+----------+----------+--------+\n",
      "|machine_id|process_id|start_time|end_time|\n",
      "+----------+----------+----------+--------+\n",
      "|         0|         0|     0.712|    null|\n",
      "|         0|         0|      null|    1.52|\n",
      "|         0|         1|      3.14|    null|\n",
      "|         0|         1|      null|    4.12|\n",
      "|         1|         0|      0.55|    null|\n",
      "|         1|         0|      null|    1.55|\n",
      "|         1|         1|      0.43|    null|\n",
      "|         1|         1|      null|    1.42|\n",
      "|         2|         0|       4.1|    null|\n",
      "|         2|         0|      null|   4.512|\n",
      "|         2|         1|       2.5|    null|\n",
      "|         2|         1|      null|     5.0|\n",
      "+----------+----------+----------+--------+\n",
      "\n"
     ]
    }
   ],
   "source": [
    "df1 = df.select(\n",
    "    \"machine_id\",\n",
    "    \"process_id\",\n",
    "    when(col(\"activity_id\") == \"start\", col(\"timestamp\")).alias(\"start_time\"),\n",
    "    when(col(\"activity_id\") == \"end\", col(\"timestamp\")).alias(\"end_time\"),\n",
    ")\n",
    "df1.show()"
   ]
  },
  {
   "cell_type": "code",
   "execution_count": 11,
   "id": "f66852ed-07a1-4c56-9520-16200e8e3405",
   "metadata": {},
   "outputs": [
    {
     "name": "stdout",
     "output_type": "stream",
     "text": [
      "+----------+----------+------------------+\n",
      "|machine_id|process_id|              diff|\n",
      "+----------+----------+------------------+\n",
      "|         0|         0|             0.808|\n",
      "|         0|         1|              0.98|\n",
      "|         1|         0|               1.0|\n",
      "|         1|         1|              0.99|\n",
      "|         2|         0|0.4119999999999999|\n",
      "|         2|         1|               2.5|\n",
      "+----------+----------+------------------+\n",
      "\n"
     ]
    }
   ],
   "source": [
    "df2 = (\n",
    "    df1\n",
    "    .groupBy(col(\"machine_id\"), col(\"process_id\"))\n",
    "    .agg((max(col(\"end_time\")) - max(col(\"start_time\"))).alias(\"diff\"))\n",
    ")\n",
    "df2.show()"
   ]
  },
  {
   "cell_type": "code",
   "execution_count": 12,
   "id": "82c0c025-327f-4a53-b107-08d16c357c3e",
   "metadata": {},
   "outputs": [
    {
     "name": "stdout",
     "output_type": "stream",
     "text": [
      "+----------+-------------------+\n",
      "|machine_id|avg_processing_time|\n",
      "+----------+-------------------+\n",
      "|         0|              0.894|\n",
      "|         1|              0.995|\n",
      "|         2|              1.456|\n",
      "+----------+-------------------+\n",
      "\n"
     ]
    }
   ],
   "source": [
    "df3 = df2.groupBy(col(\"machine_id\")).agg(avg(col(\"diff\")).alias(\"avg_processing_time\"))\n",
    "df3.show()"
   ]
  },
  {
   "cell_type": "code",
   "execution_count": null,
   "id": "fa805374-bae2-48fd-97d7-5b013e5874be",
   "metadata": {},
   "outputs": [],
   "source": []
  }
 ],
 "metadata": {
  "kernelspec": {
   "display_name": "Python 3 (ipykernel)",
   "language": "python",
   "name": "python3"
  },
  "language_info": {
   "codemirror_mode": {
    "name": "ipython",
    "version": 3
   },
   "file_extension": ".py",
   "mimetype": "text/x-python",
   "name": "python",
   "nbconvert_exporter": "python",
   "pygments_lexer": "ipython3",
   "version": "3.11.7"
  }
 },
 "nbformat": 4,
 "nbformat_minor": 5
}
