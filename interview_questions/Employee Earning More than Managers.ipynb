{
 "cells": [
  {
   "cell_type": "code",
   "execution_count": 1,
   "id": "ea32a130-e4fa-465f-928f-5b58ecd82e59",
   "metadata": {},
   "outputs": [],
   "source": [
    "from pyspark.sql import *\n",
    "from pyspark.sql.functions import *"
   ]
  },
  {
   "cell_type": "code",
   "execution_count": 2,
   "id": "b1cc3df3-d79f-417e-b1c9-fa19725b2823",
   "metadata": {},
   "outputs": [],
   "source": [
    "spark = SparkSession.builder.appName(\"test\").getOrCreate()"
   ]
  },
  {
   "cell_type": "code",
   "execution_count": 3,
   "id": "8eb08428-0947-4607-b3c2-be0b84751fb3",
   "metadata": {},
   "outputs": [
    {
     "name": "stdout",
     "output_type": "stream",
     "text": [
      "+---+-----+------+----------+\n",
      "| id| name|salary|manager_id|\n",
      "+---+-----+------+----------+\n",
      "|  1| John|  6000|         4|\n",
      "|  2|Kevin| 11000|         4|\n",
      "|  3|  Bob|  8000|         5|\n",
      "|  4|Laura|  9000|      null|\n",
      "|  5|Sarah| 10000|      null|\n",
      "+---+-----+------+----------+\n",
      "\n"
     ]
    }
   ],
   "source": [
    "data = [\n",
    "    [1, \"John\", 6000, 4],\n",
    "    [2, \"Kevin\", 11000, 4],\n",
    "    [3, \"Bob\", 8000, 5],\n",
    "    [4, \"Laura\", 9000, None],\n",
    "    [5, \"Sarah\", 10000, None],\n",
    "]\n",
    "df = spark.createDataFrame(data, [\"id\", \"name\", \"salary\", \"manager_id\"])\n",
    "df.show()"
   ]
  },
  {
   "cell_type": "code",
   "execution_count": 4,
   "id": "da537837-2d54-43b7-ace3-9a54a9215de4",
   "metadata": {},
   "outputs": [
    {
     "name": "stdout",
     "output_type": "stream",
     "text": [
      "+---+-----+------+----------+---+-----+------+----------+\n",
      "| id| name|salary|manager_id| id| name|salary|manager_id|\n",
      "+---+-----+------+----------+---+-----+------+----------+\n",
      "|  2|Kevin| 11000|         4|  4|Laura|  9000|      null|\n",
      "+---+-----+------+----------+---+-----+------+----------+\n",
      "\n"
     ]
    }
   ],
   "source": [
    "df1 = (\n",
    "    df.alias(\"emp\")\n",
    "    .join(df.alias(\"mgr\"), col(\"emp.manager_id\") == col(\"mgr.id\"))\n",
    "    .filter(col(\"emp.salary\") > col(\"mgr.salary\"))\n",
    "    .orderBy(desc(col(\"emp.salary\")))\n",
    ")\n",
    "df1.show()"
   ]
  },
  {
   "cell_type": "code",
   "execution_count": 5,
   "id": "1ab47826-b59c-425b-bd91-6f54ebf82dd7",
   "metadata": {},
   "outputs": [
    {
     "name": "stdout",
     "output_type": "stream",
     "text": [
      "+-----+\n",
      "| name|\n",
      "+-----+\n",
      "|Kevin|\n",
      "+-----+\n",
      "\n"
     ]
    }
   ],
   "source": [
    "df1.select(\"emp.name\").show()"
   ]
  },
  {
   "cell_type": "code",
   "execution_count": null,
   "id": "a37543cc-2e73-4232-8ede-2037588b442c",
   "metadata": {},
   "outputs": [],
   "source": []
  }
 ],
 "metadata": {
  "kernelspec": {
   "display_name": "Python 3 (ipykernel)",
   "language": "python",
   "name": "python3"
  },
  "language_info": {
   "codemirror_mode": {
    "name": "ipython",
    "version": 3
   },
   "file_extension": ".py",
   "mimetype": "text/x-python",
   "name": "python",
   "nbconvert_exporter": "python",
   "pygments_lexer": "ipython3",
   "version": "3.11.7"
  }
 },
 "nbformat": 4,
 "nbformat_minor": 5
}
