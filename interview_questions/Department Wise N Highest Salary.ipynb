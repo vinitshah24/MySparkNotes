{
 "cells": [
  {
   "cell_type": "code",
   "execution_count": 1,
   "id": "33db786a-2246-4a01-98ab-4ba5b7c00a59",
   "metadata": {},
   "outputs": [],
   "source": [
    "from pyspark.sql import *\n",
    "from pyspark.sql.functions import *"
   ]
  },
  {
   "cell_type": "code",
   "execution_count": 2,
   "id": "628fc1d7-94bd-462d-89ed-36471629a739",
   "metadata": {},
   "outputs": [],
   "source": [
    "spark = SparkSession.builder.appName(\"test\").getOrCreate()"
   ]
  },
  {
   "cell_type": "code",
   "execution_count": 3,
   "id": "d99eddcb-ee09-4c5a-8089-e446c49a1fcc",
   "metadata": {
    "scrolled": true
   },
   "outputs": [
    {
     "name": "stdout",
     "output_type": "stream",
     "text": [
      "+------+--------+------+---------+\n",
      "|emp_id|emp_name|salary|dept_name|\n",
      "+------+--------+------+---------+\n",
      "|     1|       A|  1000|       IT|\n",
      "|     2|       B|  1500|       IT|\n",
      "|     3|       C|  2500|       IT|\n",
      "|     4|       D|  3000|       HR|\n",
      "|     5|       E|  2000|       HR|\n",
      "|     6|       F|  1000|       HR|\n",
      "|     7|       G|  4000|    Sales|\n",
      "|     8|       H|  4000|    Sales|\n",
      "|     9|       I|  1000|    Sales|\n",
      "|    10|       J|  2000|    Sales|\n",
      "+------+--------+------+---------+\n",
      "\n"
     ]
    }
   ],
   "source": [
    "data = [\n",
    "    (1, \"A\", 1000, \"IT\"),\n",
    "    (2, \"B\", 1500, \"IT\"),\n",
    "    (3, \"C\", 2500, \"IT\"),\n",
    "    (4, \"D\", 3000, \"HR\"),\n",
    "    (5, \"E\", 2000, \"HR\"),\n",
    "    (6, \"F\", 1000, \"HR\"),\n",
    "    (7, \"G\", 4000, \"Sales\"),\n",
    "    (8, \"H\", 4000, \"Sales\"),\n",
    "    (9, \"I\", 1000, \"Sales\"),\n",
    "    (10, \"J\", 2000, \"Sales\"),\n",
    "]\n",
    "df = spark.createDataFrame(data, [\"emp_id\", \"emp_name\", \"salary\", \"dept_name\"])\n",
    "df.show()"
   ]
  },
  {
   "cell_type": "code",
   "execution_count": 4,
   "id": "658b911c-6dc4-444c-9890-f1a20f2d4953",
   "metadata": {},
   "outputs": [
    {
     "name": "stdout",
     "output_type": "stream",
     "text": [
      "+------+--------+---------+------+\n",
      "|emp_id|emp_name|dept_name|salary|\n",
      "+------+--------+---------+------+\n",
      "|     3|       C|       IT|  2500|\n",
      "|     4|       D|       HR|  3000|\n",
      "|     7|       G|    Sales|  4000|\n",
      "|     8|       H|    Sales|  4000|\n",
      "+------+--------+---------+------+\n",
      "\n"
     ]
    }
   ],
   "source": [
    "(\n",
    "    df.select(\"*\")\n",
    "    .withColumn(\n",
    "        \"rank\", rank().over(Window.partitionBy(\"dept_name\").orderBy(desc(\"salary\")))\n",
    "    )\n",
    "    .where(col(\"rank\") == 1)\n",
    "    .select(\"emp_id\", \"emp_name\", \"dept_name\", \"salary\")\n",
    "    .orderBy(\"emp_id\")\n",
    "    .show()\n",
    ")"
   ]
  },
  {
   "cell_type": "code",
   "execution_count": null,
   "id": "1f4d2735-72aa-4fdf-8d1c-4a815d4a6747",
   "metadata": {},
   "outputs": [],
   "source": []
  }
 ],
 "metadata": {
  "kernelspec": {
   "display_name": "Python 3 (ipykernel)",
   "language": "python",
   "name": "python3"
  },
  "language_info": {
   "codemirror_mode": {
    "name": "ipython",
    "version": 3
   },
   "file_extension": ".py",
   "mimetype": "text/x-python",
   "name": "python",
   "nbconvert_exporter": "python",
   "pygments_lexer": "ipython3",
   "version": "3.11.7"
  }
 },
 "nbformat": 4,
 "nbformat_minor": 5
}
