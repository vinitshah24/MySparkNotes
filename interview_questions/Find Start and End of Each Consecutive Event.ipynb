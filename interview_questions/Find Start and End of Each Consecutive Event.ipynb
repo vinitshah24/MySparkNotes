{
 "cells": [
  {
   "cell_type": "code",
   "execution_count": 1,
   "id": "7c7e1395-45ca-4ed3-93ab-6713bb575dcc",
   "metadata": {},
   "outputs": [],
   "source": [
    "from pyspark.sql import *\n",
    "from pyspark.sql.functions import *"
   ]
  },
  {
   "cell_type": "code",
   "execution_count": 2,
   "id": "8f7cdc9a-c7db-41b3-9789-4bece1fa21bd",
   "metadata": {},
   "outputs": [],
   "source": [
    "spark = SparkSession.builder.appName(\"test\").getOrCreate()"
   ]
  },
  {
   "cell_type": "code",
   "execution_count": 3,
   "id": "5b342d0b-76d7-4ec4-9c3e-8d1984a5962c",
   "metadata": {},
   "outputs": [
    {
     "name": "stdout",
     "output_type": "stream",
     "text": [
      "+----------+------------+\n",
      "|event_date|event_status|\n",
      "+----------+------------+\n",
      "|2020-06-01|         Won|\n",
      "|2020-06-02|         Won|\n",
      "|2020-06-03|         Won|\n",
      "|2020-06-04|        Lost|\n",
      "|2020-06-05|        Lost|\n",
      "|2020-06-06|        Lost|\n",
      "|2020-06-07|         Won|\n",
      "+----------+------------+\n",
      "\n"
     ]
    }
   ],
   "source": [
    "data = [\n",
    "    [\"01-06-2020\", \"Won\"],\n",
    "    [\"02-06-2020\", \"Won\"],\n",
    "    [\"03-06-2020\", \"Won\"],\n",
    "    [\"04-06-2020\", \"Lost\"],\n",
    "    [\"05-06-2020\", \"Lost\"],\n",
    "    [\"06-06-2020\", \"Lost\"],\n",
    "    [\"07-06-2020\", \"Won\"],\n",
    "]\n",
    "df = spark.createDataFrame(data, [\"event_date\", \"event_status\"])\n",
    "df = df.withColumn(\"event_date\", to_date(\"event_date\", \"dd-MM-yyyy\"))\n",
    "df.show()"
   ]
  },
  {
   "cell_type": "code",
   "execution_count": 4,
   "id": "5d3405dd-33ef-4a11-829b-834c9cbb0587",
   "metadata": {},
   "outputs": [
    {
     "name": "stdout",
     "output_type": "stream",
     "text": [
      "root\n",
      " |-- event_date: date (nullable = true)\n",
      " |-- event_status: string (nullable = true)\n",
      "\n"
     ]
    }
   ],
   "source": [
    "df.printSchema()"
   ]
  },
  {
   "cell_type": "code",
   "execution_count": 5,
   "id": "c6d7a74c-1cac-43e3-bd87-2802ee77e979",
   "metadata": {},
   "outputs": [
    {
     "name": "stdout",
     "output_type": "stream",
     "text": [
      "+----------+------------+------------+\n",
      "|event_date|event_status|event_change|\n",
      "+----------+------------+------------+\n",
      "|2020-06-01|         Won|           0|\n",
      "|2020-06-02|         Won|           0|\n",
      "|2020-06-03|         Won|           0|\n",
      "|2020-06-04|        Lost|           1|\n",
      "|2020-06-05|        Lost|           0|\n",
      "|2020-06-06|        Lost|           0|\n",
      "|2020-06-07|         Won|           1|\n",
      "+----------+------------+------------+\n",
      "\n"
     ]
    }
   ],
   "source": [
    "df1 = df.withColumn(\n",
    "    \"event_change\",\n",
    "    when(\n",
    "        col(\"event_status\") != lag(col(\"event_status\")).over(Window.orderBy(\"event_date\")),\n",
    "        1,\n",
    "    ).otherwise(0),\n",
    ")\n",
    "df1.show()"
   ]
  },
  {
   "cell_type": "code",
   "execution_count": 6,
   "id": "ae58170d-80fd-40ea-9f91-02aa9ed043d9",
   "metadata": {},
   "outputs": [
    {
     "name": "stdout",
     "output_type": "stream",
     "text": [
      "+----------+------------+------------+-----------+\n",
      "|event_date|event_status|event_change|event_group|\n",
      "+----------+------------+------------+-----------+\n",
      "|2020-06-01|         Won|           0|          0|\n",
      "|2020-06-02|         Won|           0|          0|\n",
      "|2020-06-03|         Won|           0|          0|\n",
      "|2020-06-04|        Lost|           1|          1|\n",
      "|2020-06-05|        Lost|           0|          1|\n",
      "|2020-06-06|        Lost|           0|          1|\n",
      "|2020-06-07|         Won|           1|          2|\n",
      "+----------+------------+------------+-----------+\n",
      "\n"
     ]
    }
   ],
   "source": [
    "df2 = df1.withColumn(\n",
    "    \"event_group\", sum(\"event_change\").over(Window.orderBy(\"event_date\"))\n",
    ")\n",
    "df2.show()"
   ]
  },
  {
   "cell_type": "code",
   "execution_count": 7,
   "id": "beb483fe-5c86-4d69-b8cb-308c5936bb7a",
   "metadata": {},
   "outputs": [
    {
     "name": "stdout",
     "output_type": "stream",
     "text": [
      "+------------+----------+----------+\n",
      "|event_status|start_date|  end_date|\n",
      "+------------+----------+----------+\n",
      "|         Won|2020-06-01|2020-06-03|\n",
      "|        Lost|2020-06-04|2020-06-06|\n",
      "|         Won|2020-06-07|2020-06-07|\n",
      "+------------+----------+----------+\n",
      "\n"
     ]
    }
   ],
   "source": [
    "df3 = (\n",
    "    df2.groupBy(\"event_group\", \"event_status\")\n",
    "    .agg(first(\"event_date\").alias(\"start_date\"), last(\"event_date\").alias(\"end_date\"))\n",
    "    .drop(\"event_group\")\n",
    "    .drop(\"event_change\")\n",
    ")\n",
    "df3.show()"
   ]
  },
  {
   "cell_type": "code",
   "execution_count": 8,
   "id": "4d32e8d7-d5dc-43c0-b670-fa4511fac73a",
   "metadata": {},
   "outputs": [],
   "source": [
    "df.createOrReplaceTempView(\"events\")"
   ]
  },
  {
   "cell_type": "code",
   "execution_count": 9,
   "id": "bcbb7833-7702-4a57-9cfd-9d15d2ba88e3",
   "metadata": {},
   "outputs": [
    {
     "name": "stdout",
     "output_type": "stream",
     "text": [
      "+----------+------------+\n",
      "|event_date|event_status|\n",
      "+----------+------------+\n",
      "|2020-06-01|         Won|\n",
      "|2020-06-02|         Won|\n",
      "|2020-06-03|         Won|\n",
      "|2020-06-04|        Lost|\n",
      "|2020-06-05|        Lost|\n",
      "|2020-06-06|        Lost|\n",
      "|2020-06-07|         Won|\n",
      "+----------+------------+\n",
      "\n"
     ]
    }
   ],
   "source": [
    "spark.sql(\"SELECT * FROM events\").show()"
   ]
  },
  {
   "cell_type": "code",
   "execution_count": 10,
   "id": "633c0b1c-1a9f-4479-9178-f9833650307f",
   "metadata": {},
   "outputs": [
    {
     "name": "stdout",
     "output_type": "stream",
     "text": [
      "+------------+----------+----------+\n",
      "|event_status|start_date|  end_date|\n",
      "+------------+----------+----------+\n",
      "|         Won|2020-06-01|2020-06-03|\n",
      "|        Lost|2020-06-04|2020-06-06|\n",
      "|         Won|2020-06-07|2020-06-07|\n",
      "+------------+----------+----------+\n",
      "\n"
     ]
    }
   ],
   "source": [
    "query = \"\"\"\n",
    "WITH cte AS (\n",
    "    SELECT \n",
    "        event_date, \n",
    "        event_status,\n",
    "        CASE WHEN event_status != LAG(event_status) OVER (ORDER BY event_date) THEN 1 ELSE 0 END AS event_change\n",
    "    FROM events\n",
    "),\n",
    "cte2 AS (\n",
    "    SELECT\n",
    "        event_date, \n",
    "        event_status,\n",
    "        SUM(event_change) OVER (ORDER BY event_date) AS event_group\n",
    "    FROM cte\n",
    ")\n",
    "SELECT\n",
    "    event_status,\n",
    "    FIRST(event_date) AS start_date,\n",
    "    LAST(event_date) AS end_date\n",
    "FROM cte2\n",
    "GROUP BY event_group, event_status\n",
    "ORDER BY event_group\n",
    "\"\"\"\n",
    "\n",
    "spark.sql(query).show()"
   ]
  },
  {
   "cell_type": "code",
   "execution_count": null,
   "id": "5480755f-af9f-48bd-9329-583de8118c9f",
   "metadata": {},
   "outputs": [],
   "source": []
  }
 ],
 "metadata": {
  "kernelspec": {
   "display_name": "Python 3 (ipykernel)",
   "language": "python",
   "name": "python3"
  },
  "language_info": {
   "codemirror_mode": {
    "name": "ipython",
    "version": 3
   },
   "file_extension": ".py",
   "mimetype": "text/x-python",
   "name": "python",
   "nbconvert_exporter": "python",
   "pygments_lexer": "ipython3",
   "version": "3.11.7"
  }
 },
 "nbformat": 4,
 "nbformat_minor": 5
}
