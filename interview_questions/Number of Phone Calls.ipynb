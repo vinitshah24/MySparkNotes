{
 "cells": [
  {
   "cell_type": "code",
   "execution_count": 1,
   "id": "9e8dbb1b-5eb1-4018-b92b-4e62b47a8af6",
   "metadata": {},
   "outputs": [],
   "source": [
    "from pyspark.sql import *\n",
    "from pyspark.sql.functions import *"
   ]
  },
  {
   "cell_type": "code",
   "execution_count": 2,
   "id": "69476e6f-8c31-402a-87ac-faba781f5a40",
   "metadata": {},
   "outputs": [],
   "source": [
    "spark = SparkSession.builder.appName(\"test\").getOrCreate()"
   ]
  },
  {
   "cell_type": "code",
   "execution_count": 3,
   "id": "92ce90e8-ce6f-4376-b7da-4655c43b0996",
   "metadata": {},
   "outputs": [
    {
     "name": "stdout",
     "output_type": "stream",
     "text": [
      "+-------+-----+--------+\n",
      "|from_id|to_id|duration|\n",
      "+-------+-----+--------+\n",
      "|     10|   20|      50|\n",
      "|     20|   10|      12|\n",
      "|     10|   30|      20|\n",
      "|     30|   40|     100|\n",
      "|     30|   40|     200|\n",
      "|     30|   40|     200|\n",
      "|     40|   30|     500|\n",
      "+-------+-----+--------+\n",
      "\n"
     ]
    }
   ],
   "source": [
    "data = [\n",
    "    (10, 20, 50),\n",
    "    (20, 10, 12),\n",
    "    (10, 30, 20),\n",
    "    (30, 40, 100),\n",
    "    (30, 40, 200),\n",
    "    (30, 40, 200),\n",
    "    (40, 30, 500),\n",
    "]\n",
    "df = spark.createDataFrame(data, [\"from_id\", \"to_id\", \"duration\"])\n",
    "df.show()"
   ]
  },
  {
   "cell_type": "code",
   "execution_count": 4,
   "id": "56bb0ae1-9f35-4d78-936f-9c2f30251cd1",
   "metadata": {},
   "outputs": [
    {
     "name": "stdout",
     "output_type": "stream",
     "text": [
      "+--------+--------+--------+\n",
      "|person_1|person_2|duration|\n",
      "+--------+--------+--------+\n",
      "|      10|      20|      50|\n",
      "|      10|      20|      12|\n",
      "|      10|      30|      20|\n",
      "|      30|      40|     100|\n",
      "|      30|      40|     200|\n",
      "|      30|      40|     200|\n",
      "|      30|      40|     500|\n",
      "+--------+--------+--------+\n",
      "\n"
     ]
    }
   ],
   "source": [
    "df1 = (\n",
    "    df\n",
    "    .withColumn(\"person_1\", when(col(\"from_id\") < col(\"to_id\"), col(\"from_id\")).otherwise(col(\"to_id\")))\n",
    "    .withColumn(\"person_2\", when(col(\"from_id\") < col(\"to_id\"), col(\"to_id\")).otherwise(col(\"from_id\")))\n",
    "    .select(\"person_1\", \"person_2\", \"duration\")\n",
    ")\n",
    "df1.show()"
   ]
  },
  {
   "cell_type": "code",
   "execution_count": 5,
   "id": "157c227b-f339-499f-b385-f37c2892de75",
   "metadata": {},
   "outputs": [
    {
     "name": "stdout",
     "output_type": "stream",
     "text": [
      "+--------+--------+--------+-------------+\n",
      "|person_1|person_2|count(1)|sum(duration)|\n",
      "+--------+--------+--------+-------------+\n",
      "|      10|      20|       2|           62|\n",
      "|      10|      30|       1|           20|\n",
      "|      30|      40|       4|         1000|\n",
      "+--------+--------+--------+-------------+\n",
      "\n"
     ]
    }
   ],
   "source": [
    "df1.groupBy(col(\"person_1\"), col(\"person_2\")).agg(count(\"*\"), sum(col(\"duration\"))).show()"
   ]
  },
  {
   "cell_type": "code",
   "execution_count": 6,
   "id": "6d8df77b-9552-4575-994d-69d56748766a",
   "metadata": {},
   "outputs": [],
   "source": [
    "df.createOrReplaceTempView(\"calls\")"
   ]
  },
  {
   "cell_type": "code",
   "execution_count": 7,
   "id": "731c0716-630d-426e-bf04-57df37a1c640",
   "metadata": {},
   "outputs": [
    {
     "name": "stdout",
     "output_type": "stream",
     "text": [
      "+--------+--------+----------+--------------+\n",
      "|person_1|person_2|call_count|total_duration|\n",
      "+--------+--------+----------+--------------+\n",
      "|      10|      20|         2|            62|\n",
      "|      10|      30|         1|            20|\n",
      "|      30|      40|         4|          1000|\n",
      "+--------+--------+----------+--------------+\n",
      "\n"
     ]
    }
   ],
   "source": [
    "query = \"\"\"\n",
    "WITH cte AS (\n",
    "    SELECT\n",
    "        *,\n",
    "        CASE WHEN from_id < to_id THEN from_id ELSE to_id END person_1,\n",
    "        CASE WHEN from_id < to_id THEN to_id ELSE from_id END person_2\n",
    "    FROM calls\n",
    ")\n",
    "SELECT\n",
    "    person_1,\n",
    "    person_2,\n",
    "    COUNT(*) AS call_count,\n",
    "    SUM(duration) AS total_duration\n",
    "FROM cte\n",
    "GROUP BY person_1, person_2\n",
    "\"\"\"\n",
    "spark.sql(query).show()"
   ]
  },
  {
   "cell_type": "code",
   "execution_count": null,
   "id": "26614f92-e71d-4f2b-a3a0-1ea9d41f50e3",
   "metadata": {},
   "outputs": [],
   "source": []
  }
 ],
 "metadata": {
  "kernelspec": {
   "display_name": "Python 3 (ipykernel)",
   "language": "python",
   "name": "python3"
  },
  "language_info": {
   "codemirror_mode": {
    "name": "ipython",
    "version": 3
   },
   "file_extension": ".py",
   "mimetype": "text/x-python",
   "name": "python",
   "nbconvert_exporter": "python",
   "pygments_lexer": "ipython3",
   "version": "3.11.7"
  }
 },
 "nbformat": 4,
 "nbformat_minor": 5
}
