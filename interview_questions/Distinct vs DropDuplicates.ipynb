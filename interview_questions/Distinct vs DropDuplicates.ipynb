{
 "cells": [
  {
   "cell_type": "code",
   "execution_count": 1,
   "id": "900bd0b0-660a-4607-8867-3103f41cfe14",
   "metadata": {},
   "outputs": [],
   "source": [
    "from pyspark.sql import SparkSession\n",
    "from pyspark.sql.functions import *"
   ]
  },
  {
   "cell_type": "code",
   "execution_count": 2,
   "id": "02e09c38-91d9-4de2-9a2b-15705f4ac4c8",
   "metadata": {},
   "outputs": [],
   "source": [
    "spark = SparkSession.builder.appName(\"test\").getOrCreate()"
   ]
  },
  {
   "cell_type": "code",
   "execution_count": 3,
   "id": "f410ed32-bff1-4d89-896a-1784de848d9b",
   "metadata": {},
   "outputs": [
    {
     "name": "stdout",
     "output_type": "stream",
     "text": [
      "+---+------+-----+\n",
      "| id|  name|sales|\n",
      "+---+------+-----+\n",
      "|111| David|    8|\n",
      "|222|Thomas|   12|\n",
      "|111| David|    8|\n",
      "|222|Thomas|    6|\n",
      "+---+------+-----+\n",
      "\n"
     ]
    }
   ],
   "source": [
    "data = [\n",
    "    [111, \"David\", 8],\n",
    "    [222, \"Thomas\", 12],\n",
    "    [111, \"David\", 8],\n",
    "    [222, \"Thomas\", 6],\n",
    "]\n",
    "df = spark.createDataFrame(data, [\"id\", \"name\", \"sales\"])\n",
    "df.show()"
   ]
  },
  {
   "cell_type": "code",
   "execution_count": 4,
   "id": "1ef8216f-04e2-4468-8cf4-0bed7a22b54d",
   "metadata": {},
   "outputs": [
    {
     "name": "stdout",
     "output_type": "stream",
     "text": [
      "+---+------+-----+\n",
      "| id|  name|sales|\n",
      "+---+------+-----+\n",
      "|111| David|    8|\n",
      "|222|Thomas|   12|\n",
      "|222|Thomas|    6|\n",
      "+---+------+-----+\n",
      "\n"
     ]
    }
   ],
   "source": [
    "df.distinct().show()"
   ]
  },
  {
   "cell_type": "code",
   "execution_count": 5,
   "id": "698335e9-7c98-4f21-a4ad-f6877e95d585",
   "metadata": {},
   "outputs": [
    {
     "name": "stdout",
     "output_type": "stream",
     "text": [
      "+---+------+-----+\n",
      "| id|  name|sales|\n",
      "+---+------+-----+\n",
      "|111| David|    8|\n",
      "|222|Thomas|   12|\n",
      "|222|Thomas|    6|\n",
      "+---+------+-----+\n",
      "\n"
     ]
    }
   ],
   "source": [
    "df.dropDuplicates().show()"
   ]
  },
  {
   "cell_type": "markdown",
   "id": "b13a6039-233f-4b30-99cd-41e11ebce281",
   "metadata": {},
   "source": [
    "### Subset"
   ]
  },
  {
   "cell_type": "code",
   "execution_count": 6,
   "id": "f2ac295e-58f8-45e6-a72e-0bfb5873ecab",
   "metadata": {},
   "outputs": [
    {
     "name": "stdout",
     "output_type": "stream",
     "text": [
      "+---+------+-----+\n",
      "| id|  name|sales|\n",
      "+---+------+-----+\n",
      "|111| David|    8|\n",
      "|222|Thomas|   12|\n",
      "|111| David|    8|\n",
      "|222|Thomas|    6|\n",
      "+---+------+-----+\n",
      "\n"
     ]
    }
   ],
   "source": [
    "data = [\n",
    "    [111, \"David\", 8],\n",
    "    [222, \"Thomas\", 12],\n",
    "    [111, \"David\", 8],\n",
    "    [222, \"Thomas\", 6],\n",
    "]\n",
    "df = spark.createDataFrame(data, [\"id\", \"name\", \"sales\"])\n",
    "df.show()"
   ]
  },
  {
   "cell_type": "code",
   "execution_count": 7,
   "id": "0257b783-5910-4aea-a01b-44a0985faddb",
   "metadata": {},
   "outputs": [
    {
     "name": "stdout",
     "output_type": "stream",
     "text": [
      "+---+------+\n",
      "| id|  name|\n",
      "+---+------+\n",
      "|111| David|\n",
      "|222|Thomas|\n",
      "+---+------+\n",
      "\n"
     ]
    }
   ],
   "source": [
    "df.select(\"id\", \"name\").distinct().show()"
   ]
  },
  {
   "cell_type": "code",
   "execution_count": 8,
   "id": "b409d18f-737e-4099-9b50-1be002c259a9",
   "metadata": {},
   "outputs": [
    {
     "name": "stdout",
     "output_type": "stream",
     "text": [
      "+---+------+-----+\n",
      "| id|  name|sales|\n",
      "+---+------+-----+\n",
      "|111| David|    8|\n",
      "|222|Thomas|   12|\n",
      "+---+------+-----+\n",
      "\n"
     ]
    }
   ],
   "source": [
    "df.dropDuplicates([\"id\", \"name\"]).show()"
   ]
  },
  {
   "cell_type": "code",
   "execution_count": null,
   "id": "b5026175-67cb-426d-b6bc-cdb7347c3a37",
   "metadata": {},
   "outputs": [],
   "source": []
  }
 ],
 "metadata": {
  "kernelspec": {
   "display_name": "Python 3 (ipykernel)",
   "language": "python",
   "name": "python3"
  },
  "language_info": {
   "codemirror_mode": {
    "name": "ipython",
    "version": 3
   },
   "file_extension": ".py",
   "mimetype": "text/x-python",
   "name": "python",
   "nbconvert_exporter": "python",
   "pygments_lexer": "ipython3",
   "version": "3.11.7"
  }
 },
 "nbformat": 4,
 "nbformat_minor": 5
}
