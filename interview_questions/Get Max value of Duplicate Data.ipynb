{
 "cells": [
  {
   "cell_type": "code",
   "execution_count": 1,
   "id": "c7a1da09-6ab9-4469-ba85-3eaee8b09514",
   "metadata": {},
   "outputs": [],
   "source": [
    "from pyspark.sql import SparkSession, Window\n",
    "from pyspark.sql.functions import *"
   ]
  },
  {
   "cell_type": "code",
   "execution_count": 2,
   "id": "df019de2-c3b8-4613-97ef-c6c78deaa102",
   "metadata": {},
   "outputs": [],
   "source": [
    "spark = SparkSession.builder.appName(\"test\").getOrCreate()"
   ]
  },
  {
   "cell_type": "code",
   "execution_count": 3,
   "id": "a7aea214-33de-4cb3-ad44-f34d1f5542ed",
   "metadata": {},
   "outputs": [
    {
     "name": "stdout",
     "output_type": "stream",
     "text": [
      "+----------+------+-----+------------+\n",
      "|product_id|  name|price|discount_pct|\n",
      "+----------+------+-----+------------+\n",
      "|       100|Mobile| 5000|          10|\n",
      "|       100|Mobile| 7000|           7|\n",
      "|       200|Laptop|20000|           4|\n",
      "|       200|Laptop|25000|           8|\n",
      "|       200|Laptop|22000|          12|\n",
      "+----------+------+-----+------------+\n",
      "\n"
     ]
    }
   ],
   "source": [
    "data = [\n",
    "    [100, \"Mobile\", 5000, 10],\n",
    "    [100, \"Mobile\", 7000, 7],\n",
    "    [200, \"Laptop\", 20000, 4],\n",
    "    [200, \"Laptop\", 25000, 8],\n",
    "    [200, \"Laptop\", 22000, 12],\n",
    "]\n",
    "df = spark.createDataFrame(data, [\"product_id\", \"name\", \"price\", \"discount_pct\"])\n",
    "df.show()"
   ]
  },
  {
   "cell_type": "code",
   "execution_count": 4,
   "id": "51278e4b-9fea-4a8a-9a5a-175010b87e01",
   "metadata": {},
   "outputs": [
    {
     "name": "stdout",
     "output_type": "stream",
     "text": [
      "+----------+------+-----+------------+---------+----------------+\n",
      "|product_id|  name|price|discount_pct|price_max|discount_pct_max|\n",
      "+----------+------+-----+------------+---------+----------------+\n",
      "|       100|Mobile| 5000|          10|     7000|              10|\n",
      "|       100|Mobile| 7000|           7|     7000|              10|\n",
      "|       200|Laptop|22000|          12|    25000|              12|\n",
      "|       200|Laptop|25000|           8|    25000|              12|\n",
      "|       200|Laptop|20000|           4|    25000|              12|\n",
      "+----------+------+-----+------------+---------+----------------+\n",
      "\n"
     ]
    }
   ],
   "source": [
    "price_window_spec = Window.partitionBy(\"product_id\").orderBy(desc(\"price\"))\n",
    "df = df.withColumn(\"price_max\", first(\"price\").over(price_window_spec))\n",
    "\n",
    "discount_window_spec = Window.partitionBy(\"product_id\").orderBy(desc(\"discount_pct\"))\n",
    "df = df.withColumn(\"discount_pct_max\", first(\"discount_pct\").over(discount_window_spec))\n",
    "\n",
    "df.show()"
   ]
  },
  {
   "cell_type": "code",
   "execution_count": 8,
   "id": "407c5b37-655c-4b87-8a41-64f5156a533e",
   "metadata": {},
   "outputs": [
    {
     "name": "stdout",
     "output_type": "stream",
     "text": [
      "+----------+------+-----+------------+\n",
      "|product_id|  name|price|discount_pct|\n",
      "+----------+------+-----+------------+\n",
      "|       100|Mobile| 7000|          10|\n",
      "|       200|Laptop|25000|          12|\n",
      "+----------+------+-----+------------+\n",
      "\n"
     ]
    }
   ],
   "source": [
    "df.select(\n",
    "    col(\"product_id\"),\n",
    "    col(\"name\"),\n",
    "    col(\"price_max\").alias(\"price\"),\n",
    "    col(\"discount_pct_max\").alias(\"discount_pct\"),\n",
    ").distinct().show()"
   ]
  },
  {
   "cell_type": "code",
   "execution_count": null,
   "id": "b2bff722-bc29-480a-a4c6-14e1f41cc049",
   "metadata": {},
   "outputs": [],
   "source": []
  }
 ],
 "metadata": {
  "kernelspec": {
   "display_name": "Python 3 (ipykernel)",
   "language": "python",
   "name": "python3"
  },
  "language_info": {
   "codemirror_mode": {
    "name": "ipython",
    "version": 3
   },
   "file_extension": ".py",
   "mimetype": "text/x-python",
   "name": "python",
   "nbconvert_exporter": "python",
   "pygments_lexer": "ipython3",
   "version": "3.11.7"
  }
 },
 "nbformat": 4,
 "nbformat_minor": 5
}
