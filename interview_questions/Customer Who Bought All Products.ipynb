{
 "cells": [
  {
   "cell_type": "code",
   "execution_count": 1,
   "id": "573ae9db-409d-4e48-b126-8a16403061ef",
   "metadata": {},
   "outputs": [],
   "source": [
    "from pyspark.sql import *\n",
    "from pyspark.sql.functions import *"
   ]
  },
  {
   "cell_type": "code",
   "execution_count": 2,
   "id": "9f4c9cd7-9a15-4289-9cae-a90e55cd2de7",
   "metadata": {},
   "outputs": [],
   "source": [
    "spark = SparkSession.builder.appName(\"test\").getOrCreate()"
   ]
  },
  {
   "cell_type": "code",
   "execution_count": 3,
   "id": "e0a095c6-01f6-44ae-a24c-0fe0f531e0ee",
   "metadata": {},
   "outputs": [
    {
     "name": "stdout",
     "output_type": "stream",
     "text": [
      "+-----------+-----------+\n",
      "|customer_id|product_key|\n",
      "+-----------+-----------+\n",
      "|          1|          5|\n",
      "|          2|          6|\n",
      "|          3|          5|\n",
      "|          3|          6|\n",
      "|          1|          6|\n",
      "+-----------+-----------+\n",
      "\n"
     ]
    }
   ],
   "source": [
    "data = [\n",
    "    [1, 5],\n",
    "    [2, 6],\n",
    "    [3, 5],\n",
    "    [3, 6],\n",
    "    [1, 6],\n",
    "]\n",
    "cust_df = spark.createDataFrame(data, [\"customer_id\", \"product_key\"])\n",
    "cust_df.show()"
   ]
  },
  {
   "cell_type": "code",
   "execution_count": 4,
   "id": "9187f47b-4e3b-4a82-b7ac-f874e217e6dd",
   "metadata": {},
   "outputs": [
    {
     "name": "stdout",
     "output_type": "stream",
     "text": [
      "+-----------+\n",
      "|product_key|\n",
      "+-----------+\n",
      "|          5|\n",
      "|          6|\n",
      "+-----------+\n",
      "\n"
     ]
    }
   ],
   "source": [
    "data = [[5], [6]]\n",
    "prod_df = spark.createDataFrame(data, [\"product_key\"])\n",
    "prod_df.show()"
   ]
  },
  {
   "cell_type": "code",
   "execution_count": 5,
   "id": "111ad276-46da-424b-9221-bc39089b2475",
   "metadata": {},
   "outputs": [
    {
     "name": "stdout",
     "output_type": "stream",
     "text": [
      "+-----------+\n",
      "|customer_id|\n",
      "+-----------+\n",
      "|          1|\n",
      "|          3|\n",
      "+-----------+\n",
      "\n"
     ]
    }
   ],
   "source": [
    "(\n",
    "    cust_df\n",
    "    .groupBy(\"customer_id\")\n",
    "    .agg(count(\"product_key\").alias(\"prod_count\"))\n",
    "    .where(col(\"prod_count\") == prod_df.select(\"product_key\").count())\n",
    "    .select(\"customer_id\")\n",
    "    .show()\n",
    ")"
   ]
  },
  {
   "cell_type": "code",
   "execution_count": null,
   "id": "2953760d-02a0-4323-845b-0f9b0607f02c",
   "metadata": {},
   "outputs": [],
   "source": []
  }
 ],
 "metadata": {
  "kernelspec": {
   "display_name": "Python 3 (ipykernel)",
   "language": "python",
   "name": "python3"
  },
  "language_info": {
   "codemirror_mode": {
    "name": "ipython",
    "version": 3
   },
   "file_extension": ".py",
   "mimetype": "text/x-python",
   "name": "python",
   "nbconvert_exporter": "python",
   "pygments_lexer": "ipython3",
   "version": "3.11.7"
  }
 },
 "nbformat": 4,
 "nbformat_minor": 5
}
