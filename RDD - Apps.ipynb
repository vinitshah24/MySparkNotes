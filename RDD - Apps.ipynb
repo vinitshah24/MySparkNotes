{
 "cells": [
  {
   "cell_type": "code",
   "execution_count": 1,
   "id": "73855f46",
   "metadata": {},
   "outputs": [],
   "source": [
    "import sys\n",
    "import os"
   ]
  },
  {
   "cell_type": "code",
   "execution_count": 2,
   "id": "0c9d24a3",
   "metadata": {},
   "outputs": [
    {
     "data": {
      "text/plain": [
       "'C:\\\\Program Files\\\\Java\\\\jdk1.8.0_311'"
      ]
     },
     "execution_count": 2,
     "metadata": {},
     "output_type": "execute_result"
    }
   ],
   "source": [
    "os.environ.get('JAVA_HOME')"
   ]
  },
  {
   "cell_type": "code",
   "execution_count": 3,
   "id": "96eacb8a",
   "metadata": {},
   "outputs": [],
   "source": [
    "import findspark\n",
    "findspark.init()"
   ]
  },
  {
   "cell_type": "code",
   "execution_count": 4,
   "id": "1cbdeb9a",
   "metadata": {},
   "outputs": [],
   "source": [
    "from pyspark import SparkContext\n",
    "import numpy as np"
   ]
  },
  {
   "cell_type": "code",
   "execution_count": 5,
   "id": "835b845f",
   "metadata": {},
   "outputs": [],
   "source": [
    "sc = SparkContext(master=\"local[*]\", appName=\"SparkApp\")"
   ]
  },
  {
   "cell_type": "code",
   "execution_count": 6,
   "id": "0d23c27c",
   "metadata": {},
   "outputs": [],
   "source": [
    "rdd = sc.textFile(\"data/customer-orders.csv\")"
   ]
  },
  {
   "cell_type": "code",
   "execution_count": 10,
   "id": "787cab86",
   "metadata": {},
   "outputs": [
    {
     "data": {
      "text/plain": [
       "['44,8602,37.19',\n",
       " '35,5368,65.89',\n",
       " '2,3391,40.64',\n",
       " '47,6694,14.98',\n",
       " '29,680,13.08']"
      ]
     },
     "execution_count": 10,
     "metadata": {},
     "output_type": "execute_result"
    }
   ],
   "source": [
    "rdd.take(5)"
   ]
  },
  {
   "cell_type": "code",
   "execution_count": 8,
   "id": "2508ab80",
   "metadata": {},
   "outputs": [],
   "source": [
    "def extract_customer_price_pairs(line):\n",
    "    fields = line.split(',')\n",
    "    return (int(fields[0]), float(fields[2]))"
   ]
  },
  {
   "cell_type": "code",
   "execution_count": 9,
   "id": "987c8ead",
   "metadata": {},
   "outputs": [],
   "source": [
    "map_rdd = rdd.map(extract_customer_price_pairs)"
   ]
  },
  {
   "cell_type": "code",
   "execution_count": 15,
   "id": "06071186",
   "metadata": {},
   "outputs": [
    {
     "data": {
      "text/plain": [
       "[(44, 37.19), (35, 65.89), (2, 40.64), (47, 14.98), (29, 13.08)]"
      ]
     },
     "execution_count": 15,
     "metadata": {},
     "output_type": "execute_result"
    }
   ],
   "source": [
    "map_rdd.take(5)"
   ]
  },
  {
   "cell_type": "code",
   "execution_count": 12,
   "id": "a09963dc",
   "metadata": {},
   "outputs": [],
   "source": [
    "total_by_customer = map_rdd.reduceByKey(lambda x, y: x + y)"
   ]
  },
  {
   "cell_type": "code",
   "execution_count": 13,
   "id": "d82c12da",
   "metadata": {},
   "outputs": [
    {
     "data": {
      "text/plain": [
       "[(44, 4756.890000000001),\n",
       " (2, 5994.59),\n",
       " (70, 5368.249999999999),\n",
       " (14, 4735.030000000001),\n",
       " (42, 5696.840000000002)]"
      ]
     },
     "execution_count": 13,
     "metadata": {},
     "output_type": "execute_result"
    }
   ],
   "source": [
    "total_by_customer.take(5)"
   ]
  },
  {
   "cell_type": "code",
   "execution_count": 19,
   "id": "27ff789e",
   "metadata": {},
   "outputs": [],
   "source": [
    "flipped = total_by_customer.map(lambda x: (round(x[1], 2), x[0]))"
   ]
  },
  {
   "cell_type": "code",
   "execution_count": 20,
   "id": "4fd3f4e3",
   "metadata": {},
   "outputs": [],
   "source": [
    "total_by_customer_sorted = flipped.sortByKey()"
   ]
  },
  {
   "cell_type": "code",
   "execution_count": 21,
   "id": "8df51402",
   "metadata": {},
   "outputs": [
    {
     "data": {
      "text/plain": [
       "[(3309.38, 45),\n",
       " (3790.57, 79),\n",
       " (3924.23, 96),\n",
       " (4042.65, 23),\n",
       " (4172.29, 99),\n",
       " (4178.5, 75),\n",
       " (4278.05, 36),\n",
       " (4297.26, 98),\n",
       " (4316.3, 47),\n",
       " (4327.73, 77),\n",
       " (4367.62, 13),\n",
       " (4384.33, 48),\n",
       " (4394.6, 49),\n",
       " (4475.57, 94),\n",
       " (4505.79, 67),\n",
       " (4517.27, 50),\n",
       " (4524.51, 78),\n",
       " (4561.07, 5),\n",
       " (4628.4, 57),\n",
       " (4635.8, 83),\n",
       " (4642.26, 91),\n",
       " (4647.13, 74),\n",
       " (4652.94, 84),\n",
       " (4659.63, 3),\n",
       " (4664.59, 12),\n",
       " (4681.92, 66),\n",
       " (4701.02, 56),\n",
       " (4707.41, 21),\n",
       " (4727.86, 80),\n",
       " (4735.03, 14),\n",
       " (4735.2, 37),\n",
       " (4755.07, 7),\n",
       " (4756.89, 44),\n",
       " (4765.05, 31),\n",
       " (4812.49, 82),\n",
       " (4815.05, 4),\n",
       " (4819.7, 10),\n",
       " (4830.55, 88),\n",
       " (4836.86, 20),\n",
       " (4851.48, 89),\n",
       " (4876.84, 95),\n",
       " (4898.46, 38),\n",
       " (4904.21, 76),\n",
       " (4908.81, 86),\n",
       " (4915.89, 27),\n",
       " (4921.27, 18),\n",
       " (4945.3, 53),\n",
       " (4958.6, 1),\n",
       " (4975.22, 51),\n",
       " (4979.06, 16),\n",
       " (4990.72, 30),\n",
       " (5000.71, 28),\n",
       " (5019.45, 22),\n",
       " (5032.53, 29),\n",
       " (5032.68, 17),\n",
       " (5040.71, 60),\n",
       " (5057.61, 25),\n",
       " (5059.43, 19),\n",
       " (5112.71, 81),\n",
       " (5123.01, 69),\n",
       " (5140.35, 65),\n",
       " (5152.29, 11),\n",
       " (5155.42, 35),\n",
       " (5186.43, 40),\n",
       " (5206.4, 87),\n",
       " (5245.06, 52),\n",
       " (5250.4, 26),\n",
       " (5253.32, 62),\n",
       " (5254.66, 33),\n",
       " (5259.92, 24),\n",
       " (5265.75, 93),\n",
       " (5288.69, 64),\n",
       " (5290.41, 90),\n",
       " (5298.09, 55),\n",
       " (5322.65, 9),\n",
       " (5330.8, 34),\n",
       " (5337.44, 72),\n",
       " (5368.25, 70),\n",
       " (5368.83, 43),\n",
       " (5379.28, 92),\n",
       " (5397.88, 6),\n",
       " (5413.51, 15),\n",
       " (5415.15, 63),\n",
       " (5437.73, 58),\n",
       " (5496.05, 32),\n",
       " (5497.48, 61),\n",
       " (5503.43, 85),\n",
       " (5517.24, 8),\n",
       " (5524.95, 0),\n",
       " (5637.62, 41),\n",
       " (5642.89, 59),\n",
       " (5696.84, 42),\n",
       " (5963.11, 46),\n",
       " (5977.19, 97),\n",
       " (5994.59, 2),\n",
       " (5995.66, 71),\n",
       " (6065.39, 54),\n",
       " (6193.11, 39),\n",
       " (6206.2, 73),\n",
       " (6375.45, 68)]"
      ]
     },
     "execution_count": 21,
     "metadata": {},
     "output_type": "execute_result"
    }
   ],
   "source": [
    "total_by_customer_sorted.collect()"
   ]
  },
  {
   "cell_type": "code",
   "execution_count": null,
   "id": "36d0708f",
   "metadata": {},
   "outputs": [],
   "source": []
  }
 ],
 "metadata": {
  "kernelspec": {
   "display_name": "spark_env",
   "language": "python",
   "name": "spark_env"
  },
  "language_info": {
   "codemirror_mode": {
    "name": "ipython",
    "version": 3
   },
   "file_extension": ".py",
   "mimetype": "text/x-python",
   "name": "python",
   "nbconvert_exporter": "python",
   "pygments_lexer": "ipython3",
   "version": "3.7.0"
  }
 },
 "nbformat": 4,
 "nbformat_minor": 5
}
