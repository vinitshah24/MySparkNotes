{
 "cells": [
  {
   "cell_type": "code",
   "execution_count": 1,
   "id": "73855f46",
   "metadata": {},
   "outputs": [],
   "source": [
    "import sys\n",
    "import os"
   ]
  },
  {
   "cell_type": "code",
   "execution_count": 2,
   "id": "0c9d24a3",
   "metadata": {},
   "outputs": [
    {
     "data": {
      "text/plain": [
       "'C:\\\\Program Files\\\\Java\\\\jdk1.8.0_311'"
      ]
     },
     "execution_count": 2,
     "metadata": {},
     "output_type": "execute_result"
    }
   ],
   "source": [
    "os.environ.get('JAVA_HOME')"
   ]
  },
  {
   "cell_type": "code",
   "execution_count": 3,
   "id": "96eacb8a",
   "metadata": {},
   "outputs": [],
   "source": [
    "import findspark\n",
    "findspark.init()"
   ]
  },
  {
   "cell_type": "code",
   "execution_count": 4,
   "id": "1cbdeb9a",
   "metadata": {},
   "outputs": [],
   "source": [
    "from pyspark.sql import SparkSession\n",
    "from pyspark.sql.functions import col, udf\n",
    "from pyspark.sql.types import StringType"
   ]
  },
  {
   "cell_type": "code",
   "execution_count": 5,
   "id": "f25b345e",
   "metadata": {},
   "outputs": [],
   "source": [
    "spark = SparkSession.builder.config(\"spark.sql.warehouse.dir\", \"temp\").appName(\"SparkSQL\").getOrCreate()"
   ]
  },
  {
   "cell_type": "code",
   "execution_count": 6,
   "id": "51967b1f",
   "metadata": {},
   "outputs": [
    {
     "name": "stdout",
     "output_type": "stream",
     "text": [
      "+---+------------+\n",
      "|id |name        |\n",
      "+---+------------+\n",
      "|1  |john jones  |\n",
      "|2  |tracey smith|\n",
      "|3  |amy sanders |\n",
      "+---+------------+\n",
      "\n"
     ]
    }
   ],
   "source": [
    "columns = [\"id\", \"name\"]\n",
    "data = [\n",
    "    (\"1\", \"john jones\"),\n",
    "    (\"2\", \"tracey smith\"),\n",
    "    (\"3\", \"amy sanders\")\n",
    "]\n",
    "df = spark.createDataFrame(data=data, schema=columns)\n",
    "df.show(truncate=False)"
   ]
  },
  {
   "cell_type": "code",
   "execution_count": 7,
   "id": "c5711bb1",
   "metadata": {},
   "outputs": [
    {
     "name": "stdout",
     "output_type": "stream",
     "text": [
      "root\n",
      " |-- id: string (nullable = true)\n",
      " |-- name: string (nullable = true)\n",
      "\n"
     ]
    }
   ],
   "source": [
    "df.printSchema()"
   ]
  },
  {
   "cell_type": "markdown",
   "id": "f83a5298",
   "metadata": {},
   "source": [
    "## UDF FUNCTION"
   ]
  },
  {
   "cell_type": "code",
   "execution_count": 8,
   "id": "e79f8b46",
   "metadata": {},
   "outputs": [],
   "source": [
    "def convertSentCase(sent):\n",
    "    arr = []\n",
    "    for word in sent.split(\" \"):\n",
    "        arr.append(f\"{word[0:1].upper()}{word[1:]}\")\n",
    "    return \" \".join(arr)"
   ]
  },
  {
   "cell_type": "code",
   "execution_count": 9,
   "id": "2878de72",
   "metadata": {},
   "outputs": [
    {
     "data": {
      "text/plain": [
       "'Ali Jones'"
      ]
     },
     "execution_count": 9,
     "metadata": {},
     "output_type": "execute_result"
    }
   ],
   "source": [
    "convertSentCase(\"ali jones\")"
   ]
  },
  {
   "cell_type": "code",
   "execution_count": 10,
   "id": "a912caa5",
   "metadata": {},
   "outputs": [],
   "source": [
    "sent_case_udf = udf(lambda x: convertSentCase(x))"
   ]
  },
  {
   "cell_type": "code",
   "execution_count": 11,
   "id": "e7dc889e",
   "metadata": {},
   "outputs": [
    {
     "name": "stdout",
     "output_type": "stream",
     "text": [
      "+---+------------+\n",
      "|id |user        |\n",
      "+---+------------+\n",
      "|1  |John Jones  |\n",
      "|2  |Tracey Smith|\n",
      "|3  |Amy Sanders |\n",
      "+---+------------+\n",
      "\n"
     ]
    }
   ],
   "source": [
    "df.select(col(\"id\").cast(\"int\"),\n",
    "          sent_case_udf(col(\"name\")).alias(\"user\")).show(truncate=False)"
   ]
  },
  {
   "cell_type": "markdown",
   "id": "dcdc9b6a",
   "metadata": {},
   "source": [
    "## UDF SQL FUNCTION"
   ]
  },
  {
   "cell_type": "code",
   "execution_count": 12,
   "id": "7322fbe9",
   "metadata": {},
   "outputs": [
    {
     "data": {
      "text/plain": [
       "<function __main__.convertSentCase(sent)>"
      ]
     },
     "execution_count": 12,
     "metadata": {},
     "output_type": "execute_result"
    }
   ],
   "source": [
    "spark.udf.register(\"sentenceCaseUDF\", convertSentCase, StringType())"
   ]
  },
  {
   "cell_type": "code",
   "execution_count": 13,
   "id": "ab6d4c17",
   "metadata": {},
   "outputs": [
    {
     "name": "stdout",
     "output_type": "stream",
     "text": [
      "+---+------------+\n",
      "|id |users       |\n",
      "+---+------------+\n",
      "|1  |John Jones  |\n",
      "|2  |Tracey Smith|\n",
      "|3  |Amy Sanders |\n",
      "+---+------------+\n",
      "\n"
     ]
    }
   ],
   "source": [
    "df.createOrReplaceTempView(\"users_tbl\")\n",
    "spark.sql(\"SELECT id, sentenceCaseUDF(name) AS users from users_tbl\").show(truncate=False)"
   ]
  },
  {
   "cell_type": "markdown",
   "id": "117248ea",
   "metadata": {},
   "source": [
    "## NULL SAFE UDF"
   ]
  },
  {
   "cell_type": "code",
   "execution_count": 14,
   "id": "8d076b84",
   "metadata": {},
   "outputs": [
    {
     "name": "stdout",
     "output_type": "stream",
     "text": [
      "+---+------------+\n",
      "|id |name        |\n",
      "+---+------------+\n",
      "|1  |john jones  |\n",
      "|2  |tracey smith|\n",
      "|3  |amy sanders |\n",
      "|4  |null        |\n",
      "+---+------------+\n",
      "\n"
     ]
    }
   ],
   "source": [
    "columns = [\"id\", \"name\"]\n",
    "data = [\n",
    "    (\"1\", \"john jones\"),\n",
    "    (\"2\", \"tracey smith\"),\n",
    "    (\"3\", \"amy sanders\"),\n",
    "    (\"4\", None)\n",
    "]\n",
    "df = spark.createDataFrame(data=data, schema=columns)\n",
    "df.show(truncate=False)"
   ]
  },
  {
   "cell_type": "code",
   "execution_count": 15,
   "id": "e516c256",
   "metadata": {},
   "outputs": [
    {
     "data": {
      "text/plain": [
       "<function __main__.<lambda>(x)>"
      ]
     },
     "execution_count": 15,
     "metadata": {},
     "output_type": "execute_result"
    }
   ],
   "source": [
    "spark.udf.register(\"nullSafeUDF\", lambda x: convertSentCase(x) if x is not None else \"\", StringType())"
   ]
  },
  {
   "cell_type": "code",
   "execution_count": 16,
   "id": "6f97e6a3",
   "metadata": {},
   "outputs": [
    {
     "name": "stdout",
     "output_type": "stream",
     "text": [
      "+-----------------+\n",
      "|nullSafeUDF(name)|\n",
      "+-----------------+\n",
      "|John Jones       |\n",
      "|Tracey Smith     |\n",
      "|Amy Sanders      |\n",
      "+-----------------+\n",
      "\n"
     ]
    }
   ],
   "source": [
    "spark.sql(\"SELECT nullSafeUDF(name) FROM users_tbl\").show(truncate=False)"
   ]
  }
 ],
 "metadata": {
  "kernelspec": {
   "display_name": "Python 3 (ipykernel)",
   "language": "python",
   "name": "python3"
  },
  "language_info": {
   "codemirror_mode": {
    "name": "ipython",
    "version": 3
   },
   "file_extension": ".py",
   "mimetype": "text/x-python",
   "name": "python",
   "nbconvert_exporter": "python",
   "pygments_lexer": "ipython3",
   "version": "3.9.13"
  }
 },
 "nbformat": 4,
 "nbformat_minor": 5
}
