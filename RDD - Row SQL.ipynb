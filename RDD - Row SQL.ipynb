{
 "cells": [
  {
   "cell_type": "code",
   "execution_count": 1,
   "id": "73855f46",
   "metadata": {},
   "outputs": [],
   "source": [
    "import sys\n",
    "import os"
   ]
  },
  {
   "cell_type": "code",
   "execution_count": 2,
   "id": "0c9d24a3",
   "metadata": {},
   "outputs": [
    {
     "data": {
      "text/plain": [
       "'C:\\\\Program Files\\\\Java\\\\jdk1.8.0_311'"
      ]
     },
     "execution_count": 2,
     "metadata": {},
     "output_type": "execute_result"
    }
   ],
   "source": [
    "os.environ.get('JAVA_HOME')"
   ]
  },
  {
   "cell_type": "code",
   "execution_count": 3,
   "id": "96eacb8a",
   "metadata": {},
   "outputs": [],
   "source": [
    "import findspark\n",
    "findspark.init()"
   ]
  },
  {
   "cell_type": "code",
   "execution_count": 4,
   "id": "1cbdeb9a",
   "metadata": {},
   "outputs": [],
   "source": [
    "from pyspark.sql import SparkSession\n",
    "from pyspark.sql import Row\n",
    "import numpy as np"
   ]
  },
  {
   "cell_type": "code",
   "execution_count": 5,
   "id": "f25b345e",
   "metadata": {},
   "outputs": [],
   "source": [
    "spark = SparkSession.builder.config(\"spark.sql.warehouse.dir\", \"temp\").appName(\"SparkSQL\").getOrCreate()"
   ]
  },
  {
   "cell_type": "code",
   "execution_count": 6,
   "id": "2bbaf1f0",
   "metadata": {},
   "outputs": [],
   "source": [
    "rdd = spark.sparkContext.textFile(\"data/fakefriends.csv\")"
   ]
  },
  {
   "cell_type": "code",
   "execution_count": 7,
   "id": "6371f670",
   "metadata": {},
   "outputs": [
    {
     "data": {
      "text/plain": [
       "['0,Will,33,385',\n",
       " '1,Jean-Luc,26,2',\n",
       " '2,Hugh,55,221',\n",
       " '3,Deanna,40,465',\n",
       " '4,Quark,68,21']"
      ]
     },
     "execution_count": 7,
     "metadata": {},
     "output_type": "execute_result"
    }
   ],
   "source": [
    "rdd.take(5)"
   ]
  },
  {
   "cell_type": "code",
   "execution_count": 8,
   "id": "2f68fcf9",
   "metadata": {},
   "outputs": [],
   "source": [
    "def map_data(line):\n",
    "    fields = line.split(',')\n",
    "    return Row(ID=int(fields[0]),\n",
    "               name=str(fields[1].encode(\"utf-8\")),\n",
    "               age=int(fields[2]),\n",
    "               numFriends=int(fields[3]))"
   ]
  },
  {
   "cell_type": "code",
   "execution_count": 9,
   "id": "ac829360",
   "metadata": {},
   "outputs": [],
   "source": [
    "data = rdd.map(map_data)"
   ]
  },
  {
   "cell_type": "code",
   "execution_count": 10,
   "id": "99fb434a",
   "metadata": {},
   "outputs": [
    {
     "data": {
      "text/plain": [
       "[Row(ID=0, name=\"b'Will'\", age=33, numFriends=385),\n",
       " Row(ID=1, name=\"b'Jean-Luc'\", age=26, numFriends=2),\n",
       " Row(ID=2, name=\"b'Hugh'\", age=55, numFriends=221),\n",
       " Row(ID=3, name=\"b'Deanna'\", age=40, numFriends=465),\n",
       " Row(ID=4, name=\"b'Quark'\", age=68, numFriends=21)]"
      ]
     },
     "execution_count": 10,
     "metadata": {},
     "output_type": "execute_result"
    }
   ],
   "source": [
    "data.take(5)"
   ]
  },
  {
   "cell_type": "code",
   "execution_count": 11,
   "id": "4179a053",
   "metadata": {},
   "outputs": [],
   "source": [
    "df = spark.createDataFrame(data)"
   ]
  },
  {
   "cell_type": "code",
   "execution_count": 12,
   "id": "f85479ec",
   "metadata": {},
   "outputs": [
    {
     "name": "stdout",
     "output_type": "stream",
     "text": [
      "+---+-----------+---+----------+\n",
      "| ID|       name|age|numFriends|\n",
      "+---+-----------+---+----------+\n",
      "|  0|    b'Will'| 33|       385|\n",
      "|  1|b'Jean-Luc'| 26|         2|\n",
      "|  2|    b'Hugh'| 55|       221|\n",
      "|  3|  b'Deanna'| 40|       465|\n",
      "|  4|   b'Quark'| 68|        21|\n",
      "|  5|  b'Weyoun'| 59|       318|\n",
      "|  6|  b'Gowron'| 37|       220|\n",
      "|  7|    b'Will'| 54|       307|\n",
      "|  8|  b'Jadzia'| 38|       380|\n",
      "|  9|    b'Hugh'| 27|       181|\n",
      "| 10|     b'Odo'| 53|       191|\n",
      "| 11|     b'Ben'| 57|       372|\n",
      "| 12|   b'Keiko'| 54|       253|\n",
      "| 13|b'Jean-Luc'| 56|       444|\n",
      "| 14|    b'Hugh'| 43|        49|\n",
      "| 15|     b'Rom'| 36|        49|\n",
      "| 16|  b'Weyoun'| 22|       323|\n",
      "| 17|     b'Odo'| 35|        13|\n",
      "| 18|b'Jean-Luc'| 45|       455|\n",
      "| 19|  b'Geordi'| 60|       246|\n",
      "+---+-----------+---+----------+\n",
      "only showing top 20 rows\n",
      "\n"
     ]
    }
   ],
   "source": [
    "df.show()"
   ]
  },
  {
   "cell_type": "code",
   "execution_count": 13,
   "id": "00cd8f1b",
   "metadata": {},
   "outputs": [],
   "source": [
    "df.createOrReplaceTempView(\"people\")"
   ]
  },
  {
   "cell_type": "code",
   "execution_count": 14,
   "id": "6d7efe98",
   "metadata": {},
   "outputs": [],
   "source": [
    "teenagers = spark.sql(\"SELECT * FROM people WHERE age >= 13 AND age <= 19\")"
   ]
  },
  {
   "cell_type": "code",
   "execution_count": 15,
   "id": "a23d406a",
   "metadata": {},
   "outputs": [
    {
     "name": "stdout",
     "output_type": "stream",
     "text": [
      "+---+----------+---+----------+\n",
      "| ID|      name|age|numFriends|\n",
      "+---+----------+---+----------+\n",
      "| 21|  b'Miles'| 19|       268|\n",
      "| 52|b'Beverly'| 19|       269|\n",
      "| 54|  b'Brunt'| 19|         5|\n",
      "|106|b'Beverly'| 18|       499|\n",
      "|115|  b'Dukat'| 18|       397|\n",
      "|133|  b'Quark'| 19|       265|\n",
      "|136|   b'Will'| 19|       335|\n",
      "|225|   b'Elim'| 19|       106|\n",
      "|304|   b'Will'| 19|       404|\n",
      "|341|   b'Data'| 18|       326|\n",
      "|366|  b'Keiko'| 19|       119|\n",
      "|373|  b'Quark'| 19|       272|\n",
      "|377|b'Beverly'| 18|       418|\n",
      "|404| b'Kasidy'| 18|        24|\n",
      "|409|    b'Nog'| 19|       267|\n",
      "|439|   b'Data'| 18|       417|\n",
      "|444|  b'Keiko'| 18|       472|\n",
      "|492|  b'Dukat'| 19|        36|\n",
      "|494| b'Kasidy'| 18|       194|\n",
      "+---+----------+---+----------+\n",
      "\n"
     ]
    }
   ],
   "source": [
    "teenagers.show()"
   ]
  },
  {
   "cell_type": "code",
   "execution_count": 16,
   "id": "61fb428a",
   "metadata": {},
   "outputs": [
    {
     "name": "stdout",
     "output_type": "stream",
     "text": [
      "+---+-----+\n",
      "|age|count|\n",
      "+---+-----+\n",
      "| 18|    8|\n",
      "| 19|   11|\n",
      "| 20|    5|\n",
      "| 21|    8|\n",
      "| 22|    7|\n",
      "| 23|   10|\n",
      "| 24|    5|\n",
      "| 25|   11|\n",
      "| 26|   17|\n",
      "| 27|    8|\n",
      "| 28|   10|\n",
      "| 29|   12|\n",
      "| 30|   11|\n",
      "| 31|    8|\n",
      "| 32|   11|\n",
      "| 33|   12|\n",
      "| 34|    6|\n",
      "| 35|    8|\n",
      "| 36|   10|\n",
      "| 37|    9|\n",
      "+---+-----+\n",
      "only showing top 20 rows\n",
      "\n"
     ]
    }
   ],
   "source": [
    "df.groupBy(\"age\").count().orderBy(\"age\").show()"
   ]
  },
  {
   "cell_type": "markdown",
   "id": "854dfe9f",
   "metadata": {},
   "source": [
    "# Friends By Age"
   ]
  },
  {
   "cell_type": "code",
   "execution_count": 17,
   "id": "02115851",
   "metadata": {},
   "outputs": [],
   "source": [
    "lines = spark.sparkContext.textFile(\"data/fakefriends.csv\")"
   ]
  },
  {
   "cell_type": "code",
   "execution_count": 18,
   "id": "52062796",
   "metadata": {},
   "outputs": [],
   "source": [
    "def parseLine(line):\n",
    "    fields = line.split(',')\n",
    "    age = int(fields[2])\n",
    "    numFriends = int(fields[3])\n",
    "    return (age, numFriends)"
   ]
  },
  {
   "cell_type": "code",
   "execution_count": 19,
   "id": "a39f2c05",
   "metadata": {},
   "outputs": [],
   "source": [
    "rdd = lines.map(parseLine)"
   ]
  },
  {
   "cell_type": "code",
   "execution_count": 20,
   "id": "1f16f978",
   "metadata": {},
   "outputs": [
    {
     "data": {
      "text/plain": [
       "[(33, 385),\n",
       " (26, 2),\n",
       " (55, 221),\n",
       " (40, 465),\n",
       " (68, 21),\n",
       " (59, 318),\n",
       " (37, 220),\n",
       " (54, 307),\n",
       " (38, 380),\n",
       " (27, 181)]"
      ]
     },
     "execution_count": 20,
     "metadata": {},
     "output_type": "execute_result"
    }
   ],
   "source": [
    "rdd.take(10)"
   ]
  },
  {
   "cell_type": "code",
   "execution_count": 21,
   "id": "72954d9b",
   "metadata": {},
   "outputs": [],
   "source": [
    "map_data = rdd.mapValues(lambda x: (x, 1))"
   ]
  },
  {
   "cell_type": "code",
   "execution_count": 22,
   "id": "bcdd125c",
   "metadata": {},
   "outputs": [
    {
     "data": {
      "text/plain": [
       "[(33, (385, 1)),\n",
       " (26, (2, 1)),\n",
       " (55, (221, 1)),\n",
       " (40, (465, 1)),\n",
       " (68, (21, 1)),\n",
       " (59, (318, 1)),\n",
       " (37, (220, 1)),\n",
       " (54, (307, 1)),\n",
       " (38, (380, 1)),\n",
       " (27, (181, 1))]"
      ]
     },
     "execution_count": 22,
     "metadata": {},
     "output_type": "execute_result"
    }
   ],
   "source": [
    "map_data.take(10)"
   ]
  },
  {
   "cell_type": "code",
   "execution_count": 23,
   "id": "c5839676",
   "metadata": {},
   "outputs": [],
   "source": [
    "totals_by_age = map_data.reduceByKey(lambda x, y: (x[0] + y[0], x[1] + y[1]))"
   ]
  },
  {
   "cell_type": "code",
   "execution_count": 24,
   "id": "385ce75a",
   "metadata": {},
   "outputs": [
    {
     "data": {
      "text/plain": [
       "[(26, (4115, 17)),\n",
       " (40, (4264, 17)),\n",
       " (68, (2696, 10)),\n",
       " (54, (3615, 13)),\n",
       " (38, (2903, 15)),\n",
       " (56, (1840, 6)),\n",
       " (36, (2466, 10)),\n",
       " (22, (1445, 7)),\n",
       " (60, (1419, 7)),\n",
       " (30, (2594, 11))]"
      ]
     },
     "execution_count": 24,
     "metadata": {},
     "output_type": "execute_result"
    }
   ],
   "source": [
    "totals_by_age.take(10)"
   ]
  },
  {
   "cell_type": "code",
   "execution_count": 25,
   "id": "630aad01",
   "metadata": {},
   "outputs": [],
   "source": [
    "average_by_age = totals_by_age.mapValues(lambda x: x[0] / x[1])"
   ]
  },
  {
   "cell_type": "code",
   "execution_count": 26,
   "id": "87364316",
   "metadata": {},
   "outputs": [
    {
     "data": {
      "text/plain": [
       "[(26, 242.05882352941177),\n",
       " (40, 250.8235294117647),\n",
       " (68, 269.6),\n",
       " (54, 278.0769230769231),\n",
       " (38, 193.53333333333333)]"
      ]
     },
     "execution_count": 26,
     "metadata": {},
     "output_type": "execute_result"
    }
   ],
   "source": [
    "average_by_age.take(5)"
   ]
  },
  {
   "cell_type": "code",
   "execution_count": null,
   "id": "5080a6ba",
   "metadata": {},
   "outputs": [],
   "source": []
  }
 ],
 "metadata": {
  "kernelspec": {
   "display_name": "Python 3 (ipykernel)",
   "language": "python",
   "name": "python3"
  },
  "language_info": {
   "codemirror_mode": {
    "name": "ipython",
    "version": 3
   },
   "file_extension": ".py",
   "mimetype": "text/x-python",
   "name": "python",
   "nbconvert_exporter": "python",
   "pygments_lexer": "ipython3",
   "version": "3.9.13"
  }
 },
 "nbformat": 4,
 "nbformat_minor": 5
}
