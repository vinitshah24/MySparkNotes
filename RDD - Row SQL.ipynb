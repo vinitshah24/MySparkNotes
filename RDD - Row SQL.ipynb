{
 "cells": [
  {
   "cell_type": "code",
   "execution_count": 1,
   "id": "73855f46",
   "metadata": {},
   "outputs": [],
   "source": [
    "import sys\n",
    "import os"
   ]
  },
  {
   "cell_type": "code",
   "execution_count": 2,
   "id": "0c9d24a3",
   "metadata": {},
   "outputs": [
    {
     "data": {
      "text/plain": [
       "'C:\\\\Program Files\\\\Java\\\\jdk1.8.0_311'"
      ]
     },
     "execution_count": 2,
     "metadata": {},
     "output_type": "execute_result"
    }
   ],
   "source": [
    "os.environ.get('JAVA_HOME')"
   ]
  },
  {
   "cell_type": "code",
   "execution_count": 3,
   "id": "96eacb8a",
   "metadata": {},
   "outputs": [],
   "source": [
    "import findspark\n",
    "findspark.init()"
   ]
  },
  {
   "cell_type": "code",
   "execution_count": 4,
   "id": "1cbdeb9a",
   "metadata": {},
   "outputs": [],
   "source": [
    "from pyspark.sql import SparkSession\n",
    "from pyspark.sql import Row\n",
    "import numpy as np"
   ]
  },
  {
   "cell_type": "code",
   "execution_count": 5,
   "id": "f25b345e",
   "metadata": {},
   "outputs": [],
   "source": [
    "spark = SparkSession.builder.config(\"spark.sql.warehouse.dir\", \"temp\").appName(\"SparkSQL\").getOrCreate()"
   ]
  },
  {
   "cell_type": "code",
   "execution_count": 7,
   "id": "2bbaf1f0",
   "metadata": {},
   "outputs": [],
   "source": [
    "rdd = spark.sparkContext.textFile(\"data/fakefriends.csv\")"
   ]
  },
  {
   "cell_type": "code",
   "execution_count": 8,
   "id": "6371f670",
   "metadata": {},
   "outputs": [
    {
     "data": {
      "text/plain": [
       "['0,Will,33,385',\n",
       " '1,Jean-Luc,26,2',\n",
       " '2,Hugh,55,221',\n",
       " '3,Deanna,40,465',\n",
       " '4,Quark,68,21']"
      ]
     },
     "execution_count": 8,
     "metadata": {},
     "output_type": "execute_result"
    }
   ],
   "source": [
    "rdd.take(5)"
   ]
  },
  {
   "cell_type": "code",
   "execution_count": 9,
   "id": "2f68fcf9",
   "metadata": {},
   "outputs": [],
   "source": [
    "def map_data(line):\n",
    "    fields = line.split(',')\n",
    "    return Row(ID=int(fields[0]),\n",
    "               name=str(fields[1].encode(\"utf-8\")),\n",
    "               age=int(fields[2]),\n",
    "               numFriends=int(fields[3]))"
   ]
  },
  {
   "cell_type": "code",
   "execution_count": 10,
   "id": "ac829360",
   "metadata": {},
   "outputs": [],
   "source": [
    "data = rdd.map(map_data)"
   ]
  },
  {
   "cell_type": "code",
   "execution_count": 11,
   "id": "99fb434a",
   "metadata": {},
   "outputs": [
    {
     "data": {
      "text/plain": [
       "[Row(ID=0, age=33, name=\"b'Will'\", numFriends=385),\n",
       " Row(ID=1, age=26, name=\"b'Jean-Luc'\", numFriends=2),\n",
       " Row(ID=2, age=55, name=\"b'Hugh'\", numFriends=221),\n",
       " Row(ID=3, age=40, name=\"b'Deanna'\", numFriends=465),\n",
       " Row(ID=4, age=68, name=\"b'Quark'\", numFriends=21)]"
      ]
     },
     "execution_count": 11,
     "metadata": {},
     "output_type": "execute_result"
    }
   ],
   "source": [
    "data.take(5)"
   ]
  },
  {
   "cell_type": "code",
   "execution_count": 12,
   "id": "4179a053",
   "metadata": {},
   "outputs": [],
   "source": [
    "df = spark.createDataFrame(data)"
   ]
  },
  {
   "cell_type": "code",
   "execution_count": 13,
   "id": "f85479ec",
   "metadata": {},
   "outputs": [
    {
     "name": "stdout",
     "output_type": "stream",
     "text": [
      "+---+---+-----------+----------+\n",
      "| ID|age|       name|numFriends|\n",
      "+---+---+-----------+----------+\n",
      "|  0| 33|    b'Will'|       385|\n",
      "|  1| 26|b'Jean-Luc'|         2|\n",
      "|  2| 55|    b'Hugh'|       221|\n",
      "|  3| 40|  b'Deanna'|       465|\n",
      "|  4| 68|   b'Quark'|        21|\n",
      "|  5| 59|  b'Weyoun'|       318|\n",
      "|  6| 37|  b'Gowron'|       220|\n",
      "|  7| 54|    b'Will'|       307|\n",
      "|  8| 38|  b'Jadzia'|       380|\n",
      "|  9| 27|    b'Hugh'|       181|\n",
      "| 10| 53|     b'Odo'|       191|\n",
      "| 11| 57|     b'Ben'|       372|\n",
      "| 12| 54|   b'Keiko'|       253|\n",
      "| 13| 56|b'Jean-Luc'|       444|\n",
      "| 14| 43|    b'Hugh'|        49|\n",
      "| 15| 36|     b'Rom'|        49|\n",
      "| 16| 22|  b'Weyoun'|       323|\n",
      "| 17| 35|     b'Odo'|        13|\n",
      "| 18| 45|b'Jean-Luc'|       455|\n",
      "| 19| 60|  b'Geordi'|       246|\n",
      "+---+---+-----------+----------+\n",
      "only showing top 20 rows\n",
      "\n"
     ]
    }
   ],
   "source": [
    "df.show()"
   ]
  },
  {
   "cell_type": "code",
   "execution_count": 14,
   "id": "00cd8f1b",
   "metadata": {},
   "outputs": [],
   "source": [
    "df.createOrReplaceTempView(\"people\")"
   ]
  },
  {
   "cell_type": "code",
   "execution_count": 15,
   "id": "6d7efe98",
   "metadata": {},
   "outputs": [],
   "source": [
    "teenagers = spark.sql(\"SELECT * FROM people WHERE age >= 13 AND age <= 19\")"
   ]
  },
  {
   "cell_type": "code",
   "execution_count": 16,
   "id": "a23d406a",
   "metadata": {},
   "outputs": [
    {
     "name": "stdout",
     "output_type": "stream",
     "text": [
      "+---+---+----------+----------+\n",
      "| ID|age|      name|numFriends|\n",
      "+---+---+----------+----------+\n",
      "| 21| 19|  b'Miles'|       268|\n",
      "| 52| 19|b'Beverly'|       269|\n",
      "| 54| 19|  b'Brunt'|         5|\n",
      "|106| 18|b'Beverly'|       499|\n",
      "|115| 18|  b'Dukat'|       397|\n",
      "|133| 19|  b'Quark'|       265|\n",
      "|136| 19|   b'Will'|       335|\n",
      "|225| 19|   b'Elim'|       106|\n",
      "|304| 19|   b'Will'|       404|\n",
      "|341| 18|   b'Data'|       326|\n",
      "|366| 19|  b'Keiko'|       119|\n",
      "|373| 19|  b'Quark'|       272|\n",
      "|377| 18|b'Beverly'|       418|\n",
      "|404| 18| b'Kasidy'|        24|\n",
      "|409| 19|    b'Nog'|       267|\n",
      "|439| 18|   b'Data'|       417|\n",
      "|444| 18|  b'Keiko'|       472|\n",
      "|492| 19|  b'Dukat'|        36|\n",
      "|494| 18| b'Kasidy'|       194|\n",
      "+---+---+----------+----------+\n",
      "\n"
     ]
    }
   ],
   "source": [
    "teenagers.show()"
   ]
  },
  {
   "cell_type": "code",
   "execution_count": 18,
   "id": "61fb428a",
   "metadata": {},
   "outputs": [
    {
     "name": "stdout",
     "output_type": "stream",
     "text": [
      "+---+-----+\n",
      "|age|count|\n",
      "+---+-----+\n",
      "| 18|    8|\n",
      "| 19|   11|\n",
      "| 20|    5|\n",
      "| 21|    8|\n",
      "| 22|    7|\n",
      "| 23|   10|\n",
      "| 24|    5|\n",
      "| 25|   11|\n",
      "| 26|   17|\n",
      "| 27|    8|\n",
      "| 28|   10|\n",
      "| 29|   12|\n",
      "| 30|   11|\n",
      "| 31|    8|\n",
      "| 32|   11|\n",
      "| 33|   12|\n",
      "| 34|    6|\n",
      "| 35|    8|\n",
      "| 36|   10|\n",
      "| 37|    9|\n",
      "+---+-----+\n",
      "only showing top 20 rows\n",
      "\n"
     ]
    }
   ],
   "source": [
    "df.groupBy(\"age\").count().orderBy(\"age\").show()"
   ]
  },
  {
   "cell_type": "markdown",
   "id": "854dfe9f",
   "metadata": {},
   "source": [
    "# Friends By Age"
   ]
  },
  {
   "cell_type": "code",
   "execution_count": 23,
   "id": "02115851",
   "metadata": {},
   "outputs": [],
   "source": [
    "lines = spark.sparkContext.textFile(\"data/fakefriends.csv\")"
   ]
  },
  {
   "cell_type": "code",
   "execution_count": 24,
   "id": "52062796",
   "metadata": {},
   "outputs": [],
   "source": [
    "def parseLine(line):\n",
    "    fields = line.split(',')\n",
    "    age = int(fields[2])\n",
    "    numFriends = int(fields[3])\n",
    "    return (age, numFriends)"
   ]
  },
  {
   "cell_type": "code",
   "execution_count": 25,
   "id": "a39f2c05",
   "metadata": {},
   "outputs": [],
   "source": [
    "rdd = lines.map(parseLine)"
   ]
  },
  {
   "cell_type": "code",
   "execution_count": 26,
   "id": "1f16f978",
   "metadata": {},
   "outputs": [
    {
     "data": {
      "text/plain": [
       "[(33, 385), (26, 2), (55, 221), (40, 465), (68, 21)]"
      ]
     },
     "execution_count": 26,
     "metadata": {},
     "output_type": "execute_result"
    }
   ],
   "source": [
    "rdd.take(5)"
   ]
  },
  {
   "cell_type": "code",
   "execution_count": 31,
   "id": "72954d9b",
   "metadata": {},
   "outputs": [],
   "source": [
    "map_data = rdd.mapValues(lambda x: (x, 1))"
   ]
  },
  {
   "cell_type": "code",
   "execution_count": 32,
   "id": "bcdd125c",
   "metadata": {},
   "outputs": [
    {
     "data": {
      "text/plain": [
       "[(33, (385, 1)), (26, (2, 1)), (55, (221, 1)), (40, (465, 1)), (68, (21, 1))]"
      ]
     },
     "execution_count": 32,
     "metadata": {},
     "output_type": "execute_result"
    }
   ],
   "source": [
    "map_data.take(5)"
   ]
  },
  {
   "cell_type": "code",
   "execution_count": 33,
   "id": "c5839676",
   "metadata": {},
   "outputs": [],
   "source": [
    "totals_by_age = map_data.reduceByKey(lambda x, y: (x[0] + y[0], x[1] + y[1]))"
   ]
  },
  {
   "cell_type": "code",
   "execution_count": 34,
   "id": "385ce75a",
   "metadata": {},
   "outputs": [
    {
     "data": {
      "text/plain": [
       "[(26, (4115, 17)),\n",
       " (40, (4264, 17)),\n",
       " (68, (2696, 10)),\n",
       " (54, (3615, 13)),\n",
       " (38, (2903, 15))]"
      ]
     },
     "execution_count": 34,
     "metadata": {},
     "output_type": "execute_result"
    }
   ],
   "source": [
    "totals_by_age.take(5)"
   ]
  },
  {
   "cell_type": "code",
   "execution_count": 35,
   "id": "630aad01",
   "metadata": {},
   "outputs": [],
   "source": [
    "average_by_age = totals_by_age.mapValues(lambda x: x[0] / x[1])"
   ]
  },
  {
   "cell_type": "code",
   "execution_count": 36,
   "id": "87364316",
   "metadata": {},
   "outputs": [
    {
     "data": {
      "text/plain": [
       "[(26, 242.05882352941177),\n",
       " (40, 250.8235294117647),\n",
       " (68, 269.6),\n",
       " (54, 278.0769230769231),\n",
       " (38, 193.53333333333333)]"
      ]
     },
     "execution_count": 36,
     "metadata": {},
     "output_type": "execute_result"
    }
   ],
   "source": [
    "average_by_age.take(5)"
   ]
  },
  {
   "cell_type": "code",
   "execution_count": null,
   "id": "5080a6ba",
   "metadata": {},
   "outputs": [],
   "source": []
  }
 ],
 "metadata": {
  "kernelspec": {
   "display_name": "spark_env",
   "language": "python",
   "name": "spark_env"
  },
  "language_info": {
   "codemirror_mode": {
    "name": "ipython",
    "version": 3
   },
   "file_extension": ".py",
   "mimetype": "text/x-python",
   "name": "python",
   "nbconvert_exporter": "python",
   "pygments_lexer": "ipython3",
   "version": "3.7.0"
  }
 },
 "nbformat": 4,
 "nbformat_minor": 5
}
