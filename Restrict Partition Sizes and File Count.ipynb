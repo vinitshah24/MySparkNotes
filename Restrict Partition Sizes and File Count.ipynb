{
 "cells": [
  {
   "cell_type": "code",
   "execution_count": 1,
   "id": "73855f46",
   "metadata": {},
   "outputs": [],
   "source": [
    "import sys\n",
    "import os"
   ]
  },
  {
   "cell_type": "code",
   "execution_count": 2,
   "id": "0c9d24a3",
   "metadata": {},
   "outputs": [
    {
     "data": {
      "text/plain": [
       "'C:\\\\Program Files\\\\Java\\\\jdk1.8.0_311'"
      ]
     },
     "execution_count": 2,
     "metadata": {},
     "output_type": "execute_result"
    }
   ],
   "source": [
    "os.environ.get('JAVA_HOME')"
   ]
  },
  {
   "cell_type": "code",
   "execution_count": 3,
   "id": "96eacb8a",
   "metadata": {},
   "outputs": [],
   "source": [
    "import findspark\n",
    "\n",
    "findspark.init()"
   ]
  },
  {
   "cell_type": "code",
   "execution_count": 4,
   "id": "1cbdeb9a",
   "metadata": {},
   "outputs": [],
   "source": [
    "from pyspark.sql import SparkSession\n",
    "from pyspark.sql import Row\n",
    "from pyspark.sql.functions import *"
   ]
  },
  {
   "cell_type": "code",
   "execution_count": 5,
   "id": "f25b345e",
   "metadata": {},
   "outputs": [],
   "source": [
    "spark = SparkSession.builder \\\n",
    "                    .master(\"local[*]\") \\\n",
    "                    .config(\"spark.sql.warehouse.dir\", \"temp\") \\\n",
    "                    .appName(\"SparkSQL\") \\\n",
    "                    .getOrCreate()"
   ]
  },
  {
   "cell_type": "code",
   "execution_count": 6,
   "id": "294a5e38",
   "metadata": {},
   "outputs": [],
   "source": [
    "data = spark.read.option(\"delimiter\", \"|\").csv(\"data/ml-100k/u.item\")"
   ]
  },
  {
   "cell_type": "code",
   "execution_count": 7,
   "id": "9cd60f6c",
   "metadata": {},
   "outputs": [],
   "source": [
    "df = data.select(col(\"_c0\").alias(\"id\"), col(\"_c1\").alias(\"name\"))"
   ]
  },
  {
   "cell_type": "code",
   "execution_count": 8,
   "id": "f0aa00e4",
   "metadata": {},
   "outputs": [
    {
     "name": "stdout",
     "output_type": "stream",
     "text": [
      "+---+----------------------------------------------------+\n",
      "|id |name                                                |\n",
      "+---+----------------------------------------------------+\n",
      "|1  |Toy Story (1995)                                    |\n",
      "|2  |GoldenEye (1995)                                    |\n",
      "|3  |Four Rooms (1995)                                   |\n",
      "|4  |Get Shorty (1995)                                   |\n",
      "|5  |Copycat (1995)                                      |\n",
      "|6  |Shanghai Triad (Yao a yao yao dao waipo qiao) (1995)|\n",
      "|7  |Twelve Monkeys (1995)                               |\n",
      "|8  |Babe (1995)                                         |\n",
      "|9  |Dead Man Walking (1995)                             |\n",
      "|10 |Richard III (1995)                                  |\n",
      "+---+----------------------------------------------------+\n",
      "only showing top 10 rows\n",
      "\n"
     ]
    }
   ],
   "source": [
    "df.show(10, truncate=False)"
   ]
  },
  {
   "cell_type": "code",
   "execution_count": 9,
   "id": "ea7a410a",
   "metadata": {},
   "outputs": [],
   "source": [
    "df = df.union(df).union(df).union(df).union(df)"
   ]
  },
  {
   "cell_type": "code",
   "execution_count": 10,
   "id": "e6aa18e9",
   "metadata": {},
   "outputs": [
    {
     "data": {
      "text/plain": [
       "DataFrame[id: string, name: string]"
      ]
     },
     "execution_count": 10,
     "metadata": {},
     "output_type": "execute_result"
    }
   ],
   "source": [
    "df.repartition(5)"
   ]
  },
  {
   "cell_type": "code",
   "execution_count": 11,
   "id": "2bd885e8",
   "metadata": {
    "scrolled": true
   },
   "outputs": [
    {
     "name": "stdout",
     "output_type": "stream",
     "text": [
      "+---+--------------------+\n",
      "| id|                name|\n",
      "+---+--------------------+\n",
      "|  1|    Toy Story (1995)|\n",
      "|  2|    GoldenEye (1995)|\n",
      "|  3|   Four Rooms (1995)|\n",
      "|  4|   Get Shorty (1995)|\n",
      "|  5|      Copycat (1995)|\n",
      "|  6|Shanghai Triad (Y...|\n",
      "|  7|Twelve Monkeys (1...|\n",
      "|  8|         Babe (1995)|\n",
      "|  9|Dead Man Walking ...|\n",
      "| 10|  Richard III (1995)|\n",
      "| 11|Seven (Se7en) (1995)|\n",
      "| 12|Usual Suspects, T...|\n",
      "| 13|Mighty Aphrodite ...|\n",
      "| 14|  Postino, Il (1994)|\n",
      "| 15|Mr. Holland's Opu...|\n",
      "| 16|French Twist (Gaz...|\n",
      "| 17|From Dusk Till Da...|\n",
      "| 18|White Balloon, Th...|\n",
      "| 19|Antonia's Line (1...|\n",
      "| 20|Angels and Insect...|\n",
      "+---+--------------------+\n",
      "only showing top 20 rows\n",
      "\n"
     ]
    }
   ],
   "source": [
    "df.show()"
   ]
  },
  {
   "cell_type": "markdown",
   "id": "68c7647a",
   "metadata": {},
   "source": [
    "## Get a DataFrame's Per-Partition Count"
   ]
  },
  {
   "cell_type": "code",
   "execution_count": 12,
   "id": "cb92bea2",
   "metadata": {},
   "outputs": [],
   "source": [
    "rcrd_cnt_part = df.withColumn(\"partitionid\", spark_partition_id()) \\\n",
    "                  .groupBy(\"partitionid\") \\\n",
    "                  .count()"
   ]
  },
  {
   "cell_type": "code",
   "execution_count": 13,
   "id": "819ba751",
   "metadata": {},
   "outputs": [
    {
     "name": "stdout",
     "output_type": "stream",
     "text": [
      "+-----------+-----+\n",
      "|partitionid|count|\n",
      "+-----------+-----+\n",
      "|          0| 1682|\n",
      "|          1| 1682|\n",
      "|          2| 1682|\n",
      "|          3| 1682|\n",
      "|          4| 1682|\n",
      "+-----------+-----+\n",
      "\n"
     ]
    }
   ],
   "source": [
    "rcrd_cnt_part.show()"
   ]
  },
  {
   "cell_type": "markdown",
   "id": "19b65cc4",
   "metadata": {},
   "source": [
    "## WRITE MAX RECORDS PER FILE"
   ]
  },
  {
   "cell_type": "raw",
   "id": "ee849780",
   "metadata": {},
   "source": [
    "df.write.option(\"maxRecordsPerFile\", 500).mode(\"overwrite\").csv(\"temp/moviedata\")"
   ]
  },
  {
   "cell_type": "markdown",
   "id": "928a6ffb",
   "metadata": {},
   "source": [
    "## RESTRICT FILE SIZE (PART FILE)\n",
    "\n",
    "Here we are saving the dataframe in CSV format. And also specified \"maxPartitionBytes\" as 3MB, which means the maximum size of each part-file is not more than 3MB."
   ]
  },
  {
   "cell_type": "raw",
   "id": "e4af6fa9",
   "metadata": {},
   "source": [
    "mb = 3 * 1024 * 1024\n",
    "df.write.format(\"csv\").mode(\"overwrite\").option(\"maxPartitionBytes\", mb).save(\"temp/moviedata\")"
   ]
  },
  {
   "cell_type": "code",
   "execution_count": null,
   "id": "cf17c5ec",
   "metadata": {},
   "outputs": [],
   "source": []
  }
 ],
 "metadata": {
  "kernelspec": {
   "display_name": "Python 3 (ipykernel)",
   "language": "python",
   "name": "python3"
  },
  "language_info": {
   "codemirror_mode": {
    "name": "ipython",
    "version": 3
   },
   "file_extension": ".py",
   "mimetype": "text/x-python",
   "name": "python",
   "nbconvert_exporter": "python",
   "pygments_lexer": "ipython3",
   "version": "3.9.13"
  }
 },
 "nbformat": 4,
 "nbformat_minor": 5
}
