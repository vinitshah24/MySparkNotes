{
 "cells": [
  {
   "cell_type": "code",
   "execution_count": 1,
   "id": "73855f46",
   "metadata": {},
   "outputs": [],
   "source": [
    "import sys\n",
    "import os"
   ]
  },
  {
   "cell_type": "code",
   "execution_count": 2,
   "id": "0c9d24a3",
   "metadata": {},
   "outputs": [
    {
     "data": {
      "text/plain": [
       "'C:\\\\Program Files\\\\Java\\\\jdk1.8.0_311'"
      ]
     },
     "execution_count": 2,
     "metadata": {},
     "output_type": "execute_result"
    }
   ],
   "source": [
    "os.environ.get('JAVA_HOME')"
   ]
  },
  {
   "cell_type": "code",
   "execution_count": 3,
   "id": "96eacb8a",
   "metadata": {},
   "outputs": [],
   "source": [
    "import findspark\n",
    "findspark.init()"
   ]
  },
  {
   "cell_type": "code",
   "execution_count": 4,
   "id": "1cbdeb9a",
   "metadata": {},
   "outputs": [],
   "source": [
    "from pyspark.sql import SparkSession\n",
    "from pyspark.sql.types import StructType,StructField, StringType, IntegerType, ArrayType, MapType"
   ]
  },
  {
   "cell_type": "code",
   "execution_count": 5,
   "id": "f25b345e",
   "metadata": {},
   "outputs": [],
   "source": [
    "spark = SparkSession.builder.config(\"spark.sql.warehouse.dir\", \"temp\").appName(\"SparkSQL\").getOrCreate()"
   ]
  },
  {
   "cell_type": "code",
   "execution_count": 6,
   "id": "3d32bfdf",
   "metadata": {},
   "outputs": [],
   "source": [
    "data = [((\"James\", \"\", \"Smith\"), \"36636\", \"M\", 3100),\n",
    "        ((\"Michael\", \"Rose\", \"\"), \"40288\", \"M\", 4300),\n",
    "        ((\"Robert\", \"\", \"Williams\"), \"42114\", \"M\", 1400),\n",
    "        ((\"Maria\", \"Anne\", \"Jones\"), \"39192\", \"F\", 5500),\n",
    "        ((\"Jen\", \"Mary\", \"Brown\"), \"\", \"F\", -1)]"
   ]
  },
  {
   "cell_type": "code",
   "execution_count": 7,
   "id": "ace4fe1f",
   "metadata": {},
   "outputs": [],
   "source": [
    "schema = StructType([\n",
    "    StructField('name', StructType([\n",
    "        StructField('firstname', StringType(), True),\n",
    "        StructField('middlename', StringType(), True),\n",
    "        StructField('lastname', StringType(), True)\n",
    "    ])),\n",
    "    StructField('id', StringType(), True),\n",
    "    StructField('gender', StringType(), True),\n",
    "    StructField('salary', IntegerType(), True)\n",
    "])"
   ]
  },
  {
   "cell_type": "code",
   "execution_count": 8,
   "id": "056cddc1",
   "metadata": {},
   "outputs": [
    {
     "name": "stdout",
     "output_type": "stream",
     "text": [
      "root\n",
      " |-- name: struct (nullable = true)\n",
      " |    |-- firstname: string (nullable = true)\n",
      " |    |-- middlename: string (nullable = true)\n",
      " |    |-- lastname: string (nullable = true)\n",
      " |-- id: string (nullable = true)\n",
      " |-- gender: string (nullable = true)\n",
      " |-- salary: integer (nullable = true)\n",
      "\n",
      "+--------------------+-----+------+------+\n",
      "|name                |id   |gender|salary|\n",
      "+--------------------+-----+------+------+\n",
      "|{James, , Smith}    |36636|M     |3100  |\n",
      "|{Michael, Rose, }   |40288|M     |4300  |\n",
      "|{Robert, , Williams}|42114|M     |1400  |\n",
      "|{Maria, Anne, Jones}|39192|F     |5500  |\n",
      "|{Jen, Mary, Brown}  |     |F     |-1    |\n",
      "+--------------------+-----+------+------+\n",
      "\n"
     ]
    }
   ],
   "source": [
    "df = spark.createDataFrame(data=data, schema=schema)\n",
    "df.printSchema()\n",
    "df.show(truncate=False)"
   ]
  },
  {
   "cell_type": "code",
   "execution_count": 9,
   "id": "6b0438d9",
   "metadata": {},
   "outputs": [
    {
     "name": "stdout",
     "output_type": "stream",
     "text": [
      "+---------+--------+\n",
      "|firstname|lastname|\n",
      "+---------+--------+\n",
      "|James    |Smith   |\n",
      "|Michael  |        |\n",
      "|Robert   |Williams|\n",
      "|Maria    |Jones   |\n",
      "|Jen      |Brown   |\n",
      "+---------+--------+\n",
      "\n"
     ]
    }
   ],
   "source": [
    "df.select(\"name.firstname\", \"name.lastname\").show(truncate=False)"
   ]
  },
  {
   "cell_type": "code",
   "execution_count": 10,
   "id": "3f336973",
   "metadata": {
    "scrolled": true
   },
   "outputs": [
    {
     "name": "stdout",
     "output_type": "stream",
     "text": [
      "{\n",
      "  \"fields\": [\n",
      "    {\n",
      "      \"metadata\": {},\n",
      "      \"name\": \"name\",\n",
      "      \"nullable\": true,\n",
      "      \"type\": {\n",
      "        \"fields\": [\n",
      "          {\n",
      "            \"metadata\": {},\n",
      "            \"name\": \"firstname\",\n",
      "            \"nullable\": true,\n",
      "            \"type\": \"string\"\n",
      "          },\n",
      "          {\n",
      "            \"metadata\": {},\n",
      "            \"name\": \"middlename\",\n",
      "            \"nullable\": true,\n",
      "            \"type\": \"string\"\n",
      "          },\n",
      "          {\n",
      "            \"metadata\": {},\n",
      "            \"name\": \"lastname\",\n",
      "            \"nullable\": true,\n",
      "            \"type\": \"string\"\n",
      "          }\n",
      "        ],\n",
      "        \"type\": \"struct\"\n",
      "      }\n",
      "    },\n",
      "    {\n",
      "      \"metadata\": {},\n",
      "      \"name\": \"id\",\n",
      "      \"nullable\": true,\n",
      "      \"type\": \"string\"\n",
      "    },\n",
      "    {\n",
      "      \"metadata\": {},\n",
      "      \"name\": \"gender\",\n",
      "      \"nullable\": true,\n",
      "      \"type\": \"string\"\n",
      "    },\n",
      "    {\n",
      "      \"metadata\": {},\n",
      "      \"name\": \"salary\",\n",
      "      \"nullable\": true,\n",
      "      \"type\": \"integer\"\n",
      "    }\n",
      "  ],\n",
      "  \"type\": \"struct\"\n",
      "}\n"
     ]
    }
   ],
   "source": [
    "import json\n",
    "json_data = df.schema.json()\n",
    "print(json.dumps(json.loads(json_data), indent=2))"
   ]
  },
  {
   "cell_type": "code",
   "execution_count": 11,
   "id": "05cec5f8",
   "metadata": {},
   "outputs": [],
   "source": [
    "data = [\n",
    "    (\n",
    "        (\"James\", \"\", \"Smith\"),\n",
    "        [\"gym\", \"music\"],\n",
    "        {\"a\": \"wf3eg\"}\n",
    "    ),\n",
    "    (\n",
    "        (\"Michael\", \"Rose\", \"\"),\n",
    "        [\"art\"],\n",
    "        {\"b\": \"ef4g\"}\n",
    "    ),\n",
    "    (\n",
    "        (\"Robert\", \"\", \"Williams\"),\n",
    "        [\"gym\"],\n",
    "        {\"b\": \"dw3\"}\n",
    "    ),\n",
    "    (\n",
    "        (\"Maria\", \"Anne\", \"Jones\"),\n",
    "        [\"dance\"],\n",
    "        {\"d\": \"e32r\"}),\n",
    "    (\n",
    "        (\"Jen\", \"Mary\", \"Brown\"),\n",
    "        [\"music\"],\n",
    "        {\"a\": \"swf3\"}\n",
    "    )\n",
    "]"
   ]
  },
  {
   "cell_type": "code",
   "execution_count": 12,
   "id": "427d9d8c",
   "metadata": {},
   "outputs": [],
   "source": [
    "schema = StructType([\n",
    "    StructField('name', StructType([\n",
    "        StructField('firstname', StringType(), True),\n",
    "        StructField('middlename', StringType(), True),\n",
    "        StructField('lastname', StringType(), True)\n",
    "    ])),\n",
    "    StructField('hobbies', ArrayType(StringType()), True),\n",
    "    StructField('properties', MapType(StringType(), StringType()), True)\n",
    "])"
   ]
  },
  {
   "cell_type": "code",
   "execution_count": 13,
   "id": "6fbcd5ce",
   "metadata": {
    "scrolled": false
   },
   "outputs": [
    {
     "name": "stdout",
     "output_type": "stream",
     "text": [
      "root\n",
      " |-- name: struct (nullable = true)\n",
      " |    |-- firstname: string (nullable = true)\n",
      " |    |-- middlename: string (nullable = true)\n",
      " |    |-- lastname: string (nullable = true)\n",
      " |-- hobbies: array (nullable = true)\n",
      " |    |-- element: string (containsNull = true)\n",
      " |-- properties: map (nullable = true)\n",
      " |    |-- key: string\n",
      " |    |-- value: string (valueContainsNull = true)\n",
      "\n",
      "+--------------------+------------+------------+\n",
      "|name                |hobbies     |properties  |\n",
      "+--------------------+------------+------------+\n",
      "|{James, , Smith}    |[gym, music]|{a -> wf3eg}|\n",
      "|{Michael, Rose, }   |[art]       |{b -> ef4g} |\n",
      "|{Robert, , Williams}|[gym]       |{b -> dw3}  |\n",
      "|{Maria, Anne, Jones}|[dance]     |{d -> e32r} |\n",
      "|{Jen, Mary, Brown}  |[music]     |{a -> swf3} |\n",
      "+--------------------+------------+------------+\n",
      "\n"
     ]
    }
   ],
   "source": [
    "df = spark.createDataFrame(data=data, schema=schema)\n",
    "df.printSchema()\n",
    "df.show(truncate=False)"
   ]
  },
  {
   "cell_type": "code",
   "execution_count": 14,
   "id": "82ebd7e5",
   "metadata": {},
   "outputs": [],
   "source": [
    "from pyspark.sql.functions import lit"
   ]
  },
  {
   "cell_type": "code",
   "execution_count": 15,
   "id": "e64f2d82",
   "metadata": {},
   "outputs": [
    {
     "name": "stdout",
     "output_type": "stream",
     "text": [
      "+--------------------+-------+\n",
      "|                name|country|\n",
      "+--------------------+-------+\n",
      "|    {James, , Smith}|    USA|\n",
      "|   {Michael, Rose, }|    USA|\n",
      "|{Robert, , Williams}|    USA|\n",
      "|{Maria, Anne, Jones}|    USA|\n",
      "|  {Jen, Mary, Brown}|    USA|\n",
      "+--------------------+-------+\n",
      "\n"
     ]
    }
   ],
   "source": [
    "df.select(\"name\").withColumn(\"country\", lit(\"USA\")).show()"
   ]
  },
  {
   "cell_type": "code",
   "execution_count": 16,
   "id": "1dc59e17",
   "metadata": {},
   "outputs": [
    {
     "name": "stdout",
     "output_type": "stream",
     "text": [
      "+------------+-----+----+\n",
      "|hobbies     |a    |b   |\n",
      "+------------+-----+----+\n",
      "|[gym, music]|wf3eg|null|\n",
      "|[art]       |null |ef4g|\n",
      "|[gym]       |null |dw3 |\n",
      "|[dance]     |null |null|\n",
      "|[music]     |swf3 |null|\n",
      "+------------+-----+----+\n",
      "\n"
     ]
    }
   ],
   "source": [
    "df.select(\"hobbies\", \"properties.a\", \"properties.b\").show(truncate=False)"
   ]
  },
  {
   "cell_type": "code",
   "execution_count": 17,
   "id": "7cd836a3",
   "metadata": {},
   "outputs": [
    {
     "name": "stdout",
     "output_type": "stream",
     "text": [
      "+-------------+\n",
      "|properties[a]|\n",
      "+-------------+\n",
      "|        wf3eg|\n",
      "|         null|\n",
      "|         null|\n",
      "|         null|\n",
      "|         swf3|\n",
      "+-------------+\n",
      "\n"
     ]
    }
   ],
   "source": [
    "df.select(df.properties.getField(\"a\")).show()"
   ]
  },
  {
   "cell_type": "code",
   "execution_count": 18,
   "id": "89ee8329",
   "metadata": {},
   "outputs": [
    {
     "name": "stdout",
     "output_type": "stream",
     "text": [
      "+-------+\n",
      "| f_name|\n",
      "+-------+\n",
      "|  James|\n",
      "|Michael|\n",
      "| Robert|\n",
      "|  Maria|\n",
      "|    Jen|\n",
      "+-------+\n",
      "\n"
     ]
    }
   ],
   "source": [
    "df.select(df.name.getField(\"firstname\").alias(\"f_name\")).show()"
   ]
  },
  {
   "cell_type": "code",
   "execution_count": 19,
   "id": "2b0f15a0",
   "metadata": {
    "scrolled": true
   },
   "outputs": [
    {
     "name": "stdout",
     "output_type": "stream",
     "text": [
      "+---------+----------+--------+\n",
      "|firstname|middlename|lastname|\n",
      "+---------+----------+--------+\n",
      "|James    |          |Smith   |\n",
      "|Michael  |Rose      |        |\n",
      "|Robert   |          |Williams|\n",
      "|Maria    |Anne      |Jones   |\n",
      "|Jen      |Mary      |Brown   |\n",
      "+---------+----------+--------+\n",
      "\n"
     ]
    }
   ],
   "source": [
    "df.select(\"name.*\").show(truncate=False)"
   ]
  },
  {
   "cell_type": "code",
   "execution_count": 20,
   "id": "1ee82724",
   "metadata": {},
   "outputs": [],
   "source": [
    "from pyspark.sql.functions import col"
   ]
  },
  {
   "cell_type": "code",
   "execution_count": 21,
   "id": "91a3fd48",
   "metadata": {},
   "outputs": [
    {
     "name": "stdout",
     "output_type": "stream",
     "text": [
      "root\n",
      " |-- hobbies: array (nullable = true)\n",
      " |    |-- element: string (containsNull = true)\n",
      " |-- properties: map (nullable = true)\n",
      " |    |-- key: string\n",
      " |    |-- value: string (valueContainsNull = true)\n",
      " |-- firstname: string (nullable = true)\n",
      " |-- middlename: string (nullable = true)\n",
      " |-- lastname: string (nullable = true)\n",
      "\n",
      "+------------+------------+---------+----------+--------+\n",
      "|     hobbies|  properties|firstname|middlename|lastname|\n",
      "+------------+------------+---------+----------+--------+\n",
      "|[gym, music]|{a -> wf3eg}|    James|          |   Smith|\n",
      "|       [art]| {b -> ef4g}|  Michael|      Rose|        |\n",
      "|       [gym]|  {b -> dw3}|   Robert|          |Williams|\n",
      "|     [dance]| {d -> e32r}|    Maria|      Anne|   Jones|\n",
      "|     [music]| {a -> swf3}|      Jen|      Mary|   Brown|\n",
      "+------------+------------+---------+----------+--------+\n",
      "\n"
     ]
    }
   ],
   "source": [
    "dfNew = df \\\n",
    "    .withColumn(\"firstname\", col(\"name.firstname\")) \\\n",
    "    .withColumn(\"middlename\", col(\"name.middlename\")) \\\n",
    "    .withColumn(\"lastname\", col(\"name.lastname\")) \\\n",
    "    .drop(\"name\")\n",
    "dfNew.printSchema()\n",
    "dfNew.show()"
   ]
  },
  {
   "cell_type": "code",
   "execution_count": 22,
   "id": "6bfaebfc",
   "metadata": {},
   "outputs": [
    {
     "name": "stdout",
     "output_type": "stream",
     "text": [
      "+-------+-----------+---------+----------+--------+\n",
      "|hobbies|properties |firstname|middlename|lastname|\n",
      "+-------+-----------+---------+----------+--------+\n",
      "|[art]  |{b -> ef4g}|Michael  |Rose      |        |\n",
      "|[gym]  |{b -> dw3} |Robert   |          |Williams|\n",
      "|[dance]|{d -> e32r}|Maria    |Anne      |Jones   |\n",
      "|[music]|{a -> swf3}|Jen      |Mary      |Brown   |\n",
      "+-------+-----------+---------+----------+--------+\n",
      "\n",
      "+-------+-----------+---------+----------+--------+\n",
      "|hobbies|properties |firstname|middlename|lastname|\n",
      "+-------+-----------+---------+----------+--------+\n",
      "|[art]  |{b -> ef4g}|Michael  |Rose      |        |\n",
      "|[gym]  |{b -> dw3} |Robert   |          |Williams|\n",
      "|[dance]|{d -> e32r}|Maria    |Anne      |Jones   |\n",
      "|[music]|{a -> swf3}|Jen      |Mary      |Brown   |\n",
      "+-------+-----------+---------+----------+--------+\n",
      "\n"
     ]
    }
   ],
   "source": [
    "dfNew.filter(~(dfNew.firstname == \"James\")).show(truncate=False)\n",
    "dfNew.filter(col(\"firstname\") != \"James\").show(truncate=False)"
   ]
  },
  {
   "cell_type": "code",
   "execution_count": 23,
   "id": "dd2c76c6",
   "metadata": {},
   "outputs": [
    {
     "name": "stdout",
     "output_type": "stream",
     "text": [
      "+------------+------------+---------+----------+--------+\n",
      "|hobbies     |properties  |firstname|middlename|lastname|\n",
      "+------------+------------+---------+----------+--------+\n",
      "|[gym, music]|{a -> wf3eg}|James    |          |Smith   |\n",
      "|[gym]       |{b -> dw3}  |Robert   |          |Williams|\n",
      "|[dance]     |{d -> e32r} |Maria    |Anne      |Jones   |\n",
      "|[music]     |{a -> swf3} |Jen      |Mary      |Brown   |\n",
      "+------------+------------+---------+----------+--------+\n",
      "\n"
     ]
    }
   ],
   "source": [
    "dfNew.filter(\"firstname != 'Michael'\").show(truncate=False)"
   ]
  },
  {
   "cell_type": "code",
   "execution_count": 24,
   "id": "20f3e41b",
   "metadata": {},
   "outputs": [
    {
     "data": {
      "text/plain": [
       "['hobbies', 'properties', 'firstname', 'middlename', 'lastname']"
      ]
     },
     "execution_count": 24,
     "metadata": {},
     "output_type": "execute_result"
    }
   ],
   "source": [
    "dfNew.columns"
   ]
  },
  {
   "cell_type": "code",
   "execution_count": 25,
   "id": "68c0a0fa",
   "metadata": {},
   "outputs": [
    {
     "name": "stdout",
     "output_type": "stream",
     "text": [
      "+------------+------------+---------+----------+--------+\n",
      "|hobbies     |properties  |firstname|middlename|lastname|\n",
      "+------------+------------+---------+----------+--------+\n",
      "|[gym, music]|{a -> wf3eg}|James    |          |Smith   |\n",
      "|[gym]       |{b -> dw3}  |Robert   |          |Williams|\n",
      "+------------+------------+---------+----------+--------+\n",
      "\n"
     ]
    }
   ],
   "source": [
    "from pyspark.sql.functions import array_contains\n",
    "dfNew.filter(array_contains(df.hobbies, \"gym\")).show(truncate=False)"
   ]
  },
  {
   "cell_type": "code",
   "execution_count": 26,
   "id": "f4cd9c67",
   "metadata": {},
   "outputs": [
    {
     "name": "stdout",
     "output_type": "stream",
     "text": [
      "+------------+------------+---------+----------+--------+\n",
      "|hobbies     |properties  |firstname|middlename|lastname|\n",
      "+------------+------------+---------+----------+--------+\n",
      "|[gym]       |{b -> dw3}  |Robert   |          |Williams|\n",
      "|[art]       |{b -> ef4g} |Michael  |Rose      |        |\n",
      "|[dance]     |{d -> e32r} |Maria    |Anne      |Jones   |\n",
      "|[music]     |{a -> swf3} |Jen      |Mary      |Brown   |\n",
      "|[gym, music]|{a -> wf3eg}|James    |          |Smith   |\n",
      "+------------+------------+---------+----------+--------+\n",
      "\n"
     ]
    }
   ],
   "source": [
    "dfNew.orderBy(col(\"firstname\").desc(),col(\"lastname\")).show(truncate=False)"
   ]
  },
  {
   "cell_type": "code",
   "execution_count": 27,
   "id": "1640b9be",
   "metadata": {},
   "outputs": [
    {
     "name": "stdout",
     "output_type": "stream",
     "text": [
      "+------------+------------+---------+----------+--------+\n",
      "|hobbies     |properties  |firstname|middlename|lastname|\n",
      "+------------+------------+---------+----------+--------+\n",
      "|[gym, music]|{a -> wf3eg}|James    |          |Smith   |\n",
      "|[music]     |{a -> swf3} |Jen      |Mary      |Brown   |\n",
      "|[dance]     |{d -> e32r} |Maria    |Anne      |Jones   |\n",
      "|[art]       |{b -> ef4g} |Michael  |Rose      |        |\n",
      "|[gym]       |{b -> dw3}  |Robert   |          |Williams|\n",
      "+------------+------------+---------+----------+--------+\n",
      "\n"
     ]
    }
   ],
   "source": [
    "dfNew.sort(col(\"firstname\").asc(),col(\"lastname\").desc()).show(truncate=False)"
   ]
  },
  {
   "cell_type": "code",
   "execution_count": 28,
   "id": "7241e564",
   "metadata": {},
   "outputs": [
    {
     "name": "stdout",
     "output_type": "stream",
     "text": [
      "OLD COLUMNS: ['name', 'hobbies', 'properties']\n",
      "\n",
      "root\n",
      " |-- user_name: struct (nullable = true)\n",
      " |    |-- firstname: string (nullable = true)\n",
      " |    |-- middlename: string (nullable = true)\n",
      " |    |-- lastname: string (nullable = true)\n",
      " |-- hobbies_list: array (nullable = true)\n",
      " |    |-- element: string (containsNull = true)\n",
      " |-- product_dict: map (nullable = true)\n",
      " |    |-- key: string\n",
      " |    |-- value: string (valueContainsNull = true)\n",
      "\n"
     ]
    }
   ],
   "source": [
    "# RENAME COLUMNS\n",
    "print(f\"OLD COLUMNS: {df.columns}\\n\")\n",
    "\n",
    "new_cols = ['user_name', 'hobbies_list', 'product_dict']\n",
    "df.toDF(*new_cols).printSchema()"
   ]
  },
  {
   "cell_type": "code",
   "execution_count": 29,
   "id": "ef214ff4",
   "metadata": {},
   "outputs": [
    {
     "name": "stdout",
     "output_type": "stream",
     "text": [
      "{\n",
      "  \"fields\": [\n",
      "    {\n",
      "      \"metadata\": {},\n",
      "      \"name\": \"name\",\n",
      "      \"nullable\": true,\n",
      "      \"type\": {\n",
      "        \"fields\": [\n",
      "          {\n",
      "            \"metadata\": {},\n",
      "            \"name\": \"firstname\",\n",
      "            \"nullable\": true,\n",
      "            \"type\": \"string\"\n",
      "          },\n",
      "          {\n",
      "            \"metadata\": {},\n",
      "            \"name\": \"middlename\",\n",
      "            \"nullable\": true,\n",
      "            \"type\": \"string\"\n",
      "          },\n",
      "          {\n",
      "            \"metadata\": {},\n",
      "            \"name\": \"lastname\",\n",
      "            \"nullable\": true,\n",
      "            \"type\": \"string\"\n",
      "          }\n",
      "        ],\n",
      "        \"type\": \"struct\"\n",
      "      }\n",
      "    },\n",
      "    {\n",
      "      \"metadata\": {},\n",
      "      \"name\": \"hobbies\",\n",
      "      \"nullable\": true,\n",
      "      \"type\": {\n",
      "        \"containsNull\": true,\n",
      "        \"elementType\": \"string\",\n",
      "        \"type\": \"array\"\n",
      "      }\n",
      "    },\n",
      "    {\n",
      "      \"metadata\": {},\n",
      "      \"name\": \"properties\",\n",
      "      \"nullable\": true,\n",
      "      \"type\": {\n",
      "        \"keyType\": \"string\",\n",
      "        \"type\": \"map\",\n",
      "        \"valueContainsNull\": true,\n",
      "        \"valueType\": \"string\"\n",
      "      }\n",
      "    }\n",
      "  ],\n",
      "  \"type\": \"struct\"\n",
      "}\n"
     ]
    }
   ],
   "source": [
    "import json\n",
    "json_data = df.schema.json()\n",
    "print(json.dumps(json.loads(json_data), indent=2))"
   ]
  },
  {
   "cell_type": "code",
   "execution_count": null,
   "id": "42cb36a8",
   "metadata": {},
   "outputs": [],
   "source": []
  }
 ],
 "metadata": {
  "kernelspec": {
   "display_name": "Python 3 (ipykernel)",
   "language": "python",
   "name": "python3"
  },
  "language_info": {
   "codemirror_mode": {
    "name": "ipython",
    "version": 3
   },
   "file_extension": ".py",
   "mimetype": "text/x-python",
   "name": "python",
   "nbconvert_exporter": "python",
   "pygments_lexer": "ipython3",
   "version": "3.9.13"
  }
 },
 "nbformat": 4,
 "nbformat_minor": 5
}
